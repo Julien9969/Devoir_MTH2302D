{
 "cells": [
  {
   "attachments": {},
   "cell_type": "markdown",
   "metadata": {},
   "source": [
    "<p style=\"text-align: center; font-size: 400%\">Devoir MTH2302D </p>"
   ]
  },
  {
   "attachments": {},
   "cell_type": "markdown",
   "metadata": {},
   "source": [
    "<p style=\"text-align: center; font-size: 120%\">Julien Roux 2060886  \n",
    "- Sébastien Roy </p>"
   ]
  },
  {
   "attachments": {},
   "cell_type": "markdown",
   "metadata": {},
   "source": [
    "#### Option génerale pour les graphiques"
   ]
  },
  {
   "cell_type": "code",
   "execution_count": 113,
   "metadata": {
    "vscode": {
     "languageId": "r"
    }
   },
   "outputs": [],
   "source": [
    "options(repr.plot.width = 10, repr.plot.height=10, repr.plot.xlab.size=2, repr.plot.ylab.size=2)"
   ]
  },
  {
   "attachments": {},
   "cell_type": "markdown",
   "metadata": {},
   "source": [
    "### Phase 1"
   ]
  },
  {
   "attachments": {},
   "cell_type": "markdown",
   "metadata": {},
   "source": [
    "On charge les données depuis le csv en fonction du matricule."
   ]
  },
  {
   "cell_type": "code",
   "execution_count": 114,
   "metadata": {
    "vscode": {
     "languageId": "r"
    }
   },
   "outputs": [],
   "source": [
    "matricule <- 2060886"
   ]
  },
  {
   "cell_type": "code",
   "execution_count": 115,
   "metadata": {
    "vscode": {
     "languageId": "r"
    }
   },
   "outputs": [],
   "source": [
    "charger <- function(matricule) {\n",
    "  set.seed(matricule)\n",
    "  mondata <- read.csv2(\"DevoirDH23.csv\")[sample(290,195),-1]\n",
    "}"
   ]
  },
  {
   "cell_type": "code",
   "execution_count": 116,
   "metadata": {
    "vscode": {
     "languageId": "r"
    }
   },
   "outputs": [
    {
     "data": {
      "text/html": [
       "<table class=\"dataframe\">\n",
       "<caption>A data.frame: 5 × 4</caption>\n",
       "<thead>\n",
       "\t<tr><th></th><th scope=col>Sales</th><th scope=col>Price</th><th scope=col>Advertising</th><th scope=col>Region</th></tr>\n",
       "\t<tr><th></th><th scope=col>&lt;dbl&gt;</th><th scope=col>&lt;int&gt;</th><th scope=col>&lt;int&gt;</th><th scope=col>&lt;int&gt;</th></tr>\n",
       "</thead>\n",
       "<tbody>\n",
       "\t<tr><th scope=row>25</th><td> 5.58</td><td>148</td><td>10</td><td>1</td></tr>\n",
       "\t<tr><th scope=row>181</th><td>12.61</td><td>104</td><td>10</td><td>0</td></tr>\n",
       "\t<tr><th scope=row>202</th><td> 9.48</td><td>132</td><td>10</td><td>0</td></tr>\n",
       "\t<tr><th scope=row>129</th><td> 5.87</td><td>109</td><td> 0</td><td>1</td></tr>\n",
       "\t<tr><th scope=row>289</th><td> 3.02</td><td> 90</td><td>11</td><td>0</td></tr>\n",
       "</tbody>\n",
       "</table>\n"
      ],
      "text/latex": [
       "A data.frame: 5 × 4\n",
       "\\begin{tabular}{r|llll}\n",
       "  & Sales & Price & Advertising & Region\\\\\n",
       "  & <dbl> & <int> & <int> & <int>\\\\\n",
       "\\hline\n",
       "\t25 &  5.58 & 148 & 10 & 1\\\\\n",
       "\t181 & 12.61 & 104 & 10 & 0\\\\\n",
       "\t202 &  9.48 & 132 & 10 & 0\\\\\n",
       "\t129 &  5.87 & 109 &  0 & 1\\\\\n",
       "\t289 &  3.02 &  90 & 11 & 0\\\\\n",
       "\\end{tabular}\n"
      ],
      "text/markdown": [
       "\n",
       "A data.frame: 5 × 4\n",
       "\n",
       "| <!--/--> | Sales &lt;dbl&gt; | Price &lt;int&gt; | Advertising &lt;int&gt; | Region &lt;int&gt; |\n",
       "|---|---|---|---|---|\n",
       "| 25 |  5.58 | 148 | 10 | 1 |\n",
       "| 181 | 12.61 | 104 | 10 | 0 |\n",
       "| 202 |  9.48 | 132 | 10 | 0 |\n",
       "| 129 |  5.87 | 109 |  0 | 1 |\n",
       "| 289 |  3.02 |  90 | 11 | 0 |\n",
       "\n"
      ],
      "text/plain": [
       "    Sales Price Advertising Region\n",
       "25   5.58 148   10          1     \n",
       "181 12.61 104   10          0     \n",
       "202  9.48 132   10          0     \n",
       "129  5.87 109    0          1     \n",
       "289  3.02  90   11          0     "
      ]
     },
     "metadata": {},
     "output_type": "display_data"
    }
   ],
   "source": [
    "mondata <- charger(matricule)\n",
    "mondata[1:5,]"
   ]
  },
  {
   "attachments": {},
   "cell_type": "markdown",
   "metadata": {},
   "source": [
    "On charge toutes les données depuis le csv."
   ]
  },
  {
   "cell_type": "code",
   "execution_count": 117,
   "metadata": {
    "vscode": {
     "languageId": "r"
    }
   },
   "outputs": [
    {
     "data": {
      "text/html": [
       "<table class=\"dataframe\">\n",
       "<caption>A data.frame: 5 × 5</caption>\n",
       "<thead>\n",
       "\t<tr><th></th><th scope=col>NUM</th><th scope=col>Sales</th><th scope=col>Price</th><th scope=col>Advertising</th><th scope=col>Region</th></tr>\n",
       "\t<tr><th></th><th scope=col>&lt;int&gt;</th><th scope=col>&lt;dbl&gt;</th><th scope=col>&lt;int&gt;</th><th scope=col>&lt;int&gt;</th><th scope=col>&lt;int&gt;</th></tr>\n",
       "</thead>\n",
       "<tbody>\n",
       "\t<tr><th scope=row>1</th><td>142</td><td>5.40</td><td>163</td><td>13</td><td>0</td></tr>\n",
       "\t<tr><th scope=row>2</th><td>104</td><td>7.99</td><td> 99</td><td> 0</td><td>1</td></tr>\n",
       "\t<tr><th scope=row>3</th><td>103</td><td>4.21</td><td>137</td><td>14</td><td>0</td></tr>\n",
       "\t<tr><th scope=row>4</th><td>274</td><td>4.34</td><td>111</td><td> 0</td><td>0</td></tr>\n",
       "\t<tr><th scope=row>5</th><td>286</td><td>6.42</td><td>126</td><td> 5</td><td>1</td></tr>\n",
       "</tbody>\n",
       "</table>\n"
      ],
      "text/latex": [
       "A data.frame: 5 × 5\n",
       "\\begin{tabular}{r|lllll}\n",
       "  & NUM & Sales & Price & Advertising & Region\\\\\n",
       "  & <int> & <dbl> & <int> & <int> & <int>\\\\\n",
       "\\hline\n",
       "\t1 & 142 & 5.40 & 163 & 13 & 0\\\\\n",
       "\t2 & 104 & 7.99 &  99 &  0 & 1\\\\\n",
       "\t3 & 103 & 4.21 & 137 & 14 & 0\\\\\n",
       "\t4 & 274 & 4.34 & 111 &  0 & 0\\\\\n",
       "\t5 & 286 & 6.42 & 126 &  5 & 1\\\\\n",
       "\\end{tabular}\n"
      ],
      "text/markdown": [
       "\n",
       "A data.frame: 5 × 5\n",
       "\n",
       "| <!--/--> | NUM &lt;int&gt; | Sales &lt;dbl&gt; | Price &lt;int&gt; | Advertising &lt;int&gt; | Region &lt;int&gt; |\n",
       "|---|---|---|---|---|---|\n",
       "| 1 | 142 | 5.40 | 163 | 13 | 0 |\n",
       "| 2 | 104 | 7.99 |  99 |  0 | 1 |\n",
       "| 3 | 103 | 4.21 | 137 | 14 | 0 |\n",
       "| 4 | 274 | 4.34 | 111 |  0 | 0 |\n",
       "| 5 | 286 | 6.42 | 126 |  5 | 1 |\n",
       "\n"
      ],
      "text/plain": [
       "  NUM Sales Price Advertising Region\n",
       "1 142 5.40  163   13          0     \n",
       "2 104 7.99   99    0          1     \n",
       "3 103 4.21  137   14          0     \n",
       "4 274 4.34  111    0          0     \n",
       "5 286 6.42  126    5          1     "
      ]
     },
     "metadata": {},
     "output_type": "display_data"
    }
   ],
   "source": [
    "alldata <- read.csv2(\"DevoirDH23.csv\")\n",
    "alldata[1:5,]"
   ]
  },
  {
   "attachments": {},
   "cell_type": "markdown",
   "metadata": {},
   "source": [
    "### a)"
   ]
  },
  {
   "cell_type": "code",
   "execution_count": 118,
   "metadata": {
    "vscode": {
     "languageId": "r"
    }
   },
   "outputs": [],
   "source": [
    "Ventes <- alldata$Sales\n",
    "# Ventes[1:100]"
   ]
  },
  {
   "attachments": {},
   "cell_type": "markdown",
   "metadata": {},
   "source": [
    "#### Histogramme du nombre de ventes de siège automobiles"
   ]
  },
  {
   "cell_type": "code",
   "execution_count": 119,
   "metadata": {
    "vscode": {
     "languageId": "r"
    }
   },
   "outputs": [
    {
     "data": {
      "image/png": "[encoded data removed]",
      "text/plain": [
       "Plot with title \"Histogramme des ventes de sièges automobiles\""
      ]
     },
     "metadata": {
      "image/png": {
       "height": 600,
       "width": 600
      }
     },
     "output_type": "display_data"
    }
   ],
   "source": [
    "hist(Ventes, col=\"#bb2424\",main=\"Histogramme des ventes de sièges automobiles\",\n",
    "     border=\"#000000\", xlab=\"Nombres de ventes\",ylab=\"Effectif de ventes\")"
   ]
  },
  {
   "attachments": {},
   "cell_type": "markdown",
   "metadata": {},
   "source": [
    "Ce graphique montre que la majorité des points de vente ont vendu entre 5 et 10 sièges automobiles.  \n",
    "<br><br>"
   ]
  },
  {
   "attachments": {},
   "cell_type": "markdown",
   "metadata": {},
   "source": [
    "#### Box plot du nombre de ventes de siège automobiles"
   ]
  },
  {
   "cell_type": "code",
   "execution_count": 120,
   "metadata": {
    "vscode": {
     "languageId": "r"
    }
   },
   "outputs": [
    {
     "data": {
      "image/png": "[encoded data removed]",
      "text/plain": [
       "Plot with title \"Diagramme en boîte des ventes de sièges automobiles\""
      ]
     },
     "metadata": {
      "image/png": {
       "height": 600,
       "width": 600
      }
     },
     "output_type": "display_data"
    }
   ],
   "source": [
    "boxplot(Ventes, col=\"#bb2424\",main=\"Diagramme en boîte des ventes de sièges automobiles\",\n",
    "        border=\"#000000\", xlab=\"Nombres de ventes\",ylab=\"Effectif de point de ventes\")"
   ]
  },
  {
   "attachments": {},
   "cell_type": "markdown",
   "metadata": {},
   "source": [
    "Ce graphique montre que la moiter des points de vente ont vendu entre 5 et 10 sièges automobiles et que la médiane est d'environ 7,5.  \n",
    "<br><br>"
   ]
  },
  {
   "attachments": {},
   "cell_type": "markdown",
   "metadata": {},
   "source": [
    "#### Droite de Henry du nombre de ventes de siège automobiles"
   ]
  },
  {
   "cell_type": "code",
   "execution_count": 121,
   "metadata": {
    "vscode": {
     "languageId": "r"
    }
   },
   "outputs": [
    {
     "data": {
      "image/png": "[encoded data removed]",
      "text/plain": [
       "Plot with title \"Normal Q-Q Plot\""
      ]
     },
     "metadata": {
      "image/png": {
       "height": 600,
       "width": 600
      }
     },
     "output_type": "display_data"
    }
   ],
   "source": [
    "qqnorm(Ventes,col=\"blue\", xlab=\"Distribution quantiles loi normale\",ylab=\"Distribution des ventes\")\n",
    "qqline(Ventes,col=\"red\")"
   ]
  },
  {
   "attachments": {},
   "cell_type": "markdown",
   "metadata": {},
   "source": [
    "Les données de ventes semblent suivre une droite de Henry. On peut alors dire que la loi normale est une bonne approximation de la distribution des ventes de sièges automobiles.  \n",
    "<br><br>"
   ]
  },
  {
   "attachments": {},
   "cell_type": "markdown",
   "metadata": {},
   "source": [
    "#### Test de normalité du nombre de ventes de siège automobiles"
   ]
  },
  {
   "attachments": {},
   "cell_type": "markdown",
   "metadata": {},
   "source": [
    "$H_0$: Les données suivent une loi normale  \n",
    "$H_1$: Les données ne suivent pas une loi normale  "
   ]
  },
  {
   "cell_type": "code",
   "execution_count": 122,
   "metadata": {
    "vscode": {
     "languageId": "r"
    }
   },
   "outputs": [
    {
     "data": {
      "text/plain": [
       "\n",
       "\tShapiro-Wilk normality test\n",
       "\n",
       "data:  Ventes\n",
       "W = 0.99571, p-value = 0.6102\n"
      ]
     },
     "metadata": {},
     "output_type": "display_data"
    }
   ],
   "source": [
    "shapiro.test(Ventes)"
   ]
  },
  {
   "attachments": {},
   "cell_type": "markdown",
   "metadata": {},
   "source": [
    "Comme W = 0.99568 n'est pas petit et que p-value = 0.6051 n'est pas petit, on ne rejette pas $H_0$.  \n",
    "Ainsi le test de normalité montre que les données suivent une loi normale.\n",
    "<br>\n",
    "<br>"
   ]
  },
  {
   "attachments": {},
   "cell_type": "markdown",
   "metadata": {},
   "source": [
    "#### Tableau de statistiques descriptives du nombre de ventes de siège automobiles"
   ]
  },
  {
   "attachments": {},
   "cell_type": "markdown",
   "metadata": {},
   "source": [
    "Utilisation d'une librarie de R pour le calcule de l'intervalle de confiance à 95% pour la moyenne."
   ]
  },
  {
   "cell_type": "code",
   "execution_count": 123,
   "metadata": {
    "vscode": {
     "languageId": "r"
    }
   },
   "outputs": [
    {
     "name": "stdout",
     "output_type": "stream",
     "text": [
      "La marge d'erreur est  0.3186124"
     ]
    }
   ],
   "source": [
    "# install.packages(\"devtools\") ; require(devtools)\n",
    "# devtools::install_github(\"Antoine-Masse/KefiR\")\n",
    "library(KefiR)\n",
    "cat('La marge d\\'erreur est ', int.pop(Ventes, 0.95))"
   ]
  },
  {
   "attachments": {},
   "cell_type": "markdown",
   "metadata": {},
   "source": [
    "Caclule de l'intervalle de confiance à 95% pour la moyenne détailé."
   ]
  },
  {
   "cell_type": "code",
   "execution_count": 124,
   "metadata": {
    "vscode": {
     "languageId": "r"
    }
   },
   "outputs": [
    {
     "name": "stdout",
     "output_type": "stream",
     "text": [
      "La moyenne des ventes est : 7.346793\n",
      "La variance des ventes est : 7.663499\n",
      "Taille de la population : n = 290"
     ]
    }
   ],
   "source": [
    "cat('La moyenne des ventes est :', mean(Ventes))\n",
    "cat('\\nLa variance des ventes est :', var(Ventes))\n",
    "cat('\\nTaille de la population : n =', length(Ventes))"
   ]
  },
  {
   "attachments": {},
   "cell_type": "markdown",
   "metadata": {},
   "source": [
    "Calcul intervale de confiance à 95% (1 - $\\alpha$ = 0.95) pour la moyenne de la population.  \n",
    "$\\bar{X}$ = 7.343 et $\\sigma^2$ = 7.71, de plus Ventes ~ N($\\mu$, $\\sigma^2$).  \n",
    "On a donc: $\\frac{\\bar{X} - \\mu}{\\sigma/\\sqrt{n}}$ ~ N(0, 1) soit $\\mu \\in \\bar{X} \\pm z_{\\frac{\\alpha}{2}} \\frac{\\sigma}{\\sqrt{n}}$  \n",
    "<br> \n",
    "Calcul $z_{\\frac{\\alpha}{2}}\\frac{\\sigma}{\\sqrt{n}}$"
   ]
  },
  {
   "cell_type": "code",
   "execution_count": 125,
   "metadata": {
    "vscode": {
     "languageId": "r"
    }
   },
   "outputs": [
    {
     "name": "stdout",
     "output_type": "stream",
     "text": [
      "\n",
      "La marge d'erreur est : 0.3186124"
     ]
    }
   ],
   "source": [
    "z <- qnorm(0.025, 0, 1, lower.tail = FALSE) * sqrt(var(Ventes)/length(Ventes))\n",
    "cat('\\nLa marge d\\'erreur est :', z)\n"
   ]
  },
  {
   "attachments": {},
   "cell_type": "markdown",
   "metadata": {},
   "source": [
    "On à donc: $\\mu \\in \\bar{X} \\pm 0.3195956$ soit $\\mu \\in [7.023404, 7.662596]$ à 95%.    \n",
    "<br>\n",
    "<br>"
   ]
  },
  {
   "attachments": {},
   "cell_type": "markdown",
   "metadata": {},
   "source": [
    "Tableau de statistiques :"
   ]
  },
  {
   "cell_type": "code",
   "execution_count": 126,
   "metadata": {
    "vscode": {
     "languageId": "r"
    }
   },
   "outputs": [
    {
     "data": {
      "text/html": [
       "<table class=\"dataframe\">\n",
       "<caption>A matrix: 1 × 6 of type chr</caption>\n",
       "<thead>\n",
       "\t<tr><th scope=col>1er Quartile</th><th scope=col>Médiane</th><th scope=col>Moyenne</th><th scope=col>Écart type</th><th scope=col>3e Quartile</th><th scope=col>Intervale de confiance</th></tr>\n",
       "</thead>\n",
       "<tbody>\n",
       "\t<tr><td>5.3225</td><td>7.415</td><td>7.34679310344828</td><td>2.76830261510739</td><td>9.025</td><td>[7.023404, 7.662596]</td></tr>\n",
       "</tbody>\n",
       "</table>\n"
      ],
      "text/latex": [
       "A matrix: 1 × 6 of type chr\n",
       "\\begin{tabular}{llllll}\n",
       " 1er Quartile & Médiane & Moyenne & Écart type & 3e Quartile & Intervale de confiance\\\\\n",
       "\\hline\n",
       "\t 5.3225 & 7.415 & 7.34679310344828 & 2.76830261510739 & 9.025 & {[}7.023404, 7.662596{]}\\\\\n",
       "\\end{tabular}\n"
      ],
      "text/markdown": [
       "\n",
       "A matrix: 1 × 6 of type chr\n",
       "\n",
       "| 1er Quartile | Médiane | Moyenne | Écart type | 3e Quartile | Intervale de confiance |\n",
       "|---|---|---|---|---|---|\n",
       "| 5.3225 | 7.415 | 7.34679310344828 | 2.76830261510739 | 9.025 | [7.023404, 7.662596] |\n",
       "\n"
      ],
      "text/plain": [
       "     1er Quartile Médiane Moyenne          Écart type       3e Quartile\n",
       "[1,] 5.3225       7.415   7.34679310344828 2.76830261510739 9.025      \n",
       "     Intervale de confiance\n",
       "[1,] [7.023404, 7.662596]  "
      ]
     },
     "metadata": {},
     "output_type": "display_data"
    }
   ],
   "source": [
    "stat <- matrix(c(\n",
    "    summary(Ventes)[['1st Qu.']],\n",
    "    summary(Ventes)[['Median']],\n",
    "    summary(Ventes)[['Mean']],\n",
    "    sqrt(var(Ventes)),\n",
    "    summary(Ventes)[['3rd Qu.']],\n",
    "    paste(\"[\", 7.023404, \", \",  7.662596, \"]\", sep = \"\")),\n",
    "    ncol=6,\n",
    "    nrow=1,\n",
    "    byrow=TRUE)\n",
    "\n",
    "colnames(stat) <- c('1er Quartile','Médiane','Moyenne','Écart type', '3e Quartile', 'Intervale de confiance')\n",
    "stat"
   ]
  },
  {
   "attachments": {},
   "cell_type": "markdown",
   "metadata": {},
   "source": [
    "### b)"
   ]
  },
  {
   "attachments": {},
   "cell_type": "markdown",
   "metadata": {},
   "source": [
    "#### On extrait les données de ventes de sièges automobiles pour chaque région"
   ]
  },
  {
   "cell_type": "code",
   "execution_count": 127,
   "metadata": {
    "vscode": {
     "languageId": "r"
    }
   },
   "outputs": [
    {
     "data": {
      "text/html": [
       "<style>\n",
       ".list-inline {list-style: none; margin:0; padding: 0}\n",
       ".list-inline>li {display: inline-block}\n",
       ".list-inline>li:not(:last-child)::after {content: \"\\00b7\"; padding: 0 .5ex}\n",
       "</style>\n",
       "<ol class=list-inline><li>5.4</li><li>4.21</li><li>4.34</li><li>5.61</li><li>8.89</li></ol>\n"
      ],
      "text/latex": [
       "\\begin{enumerate*}\n",
       "\\item 5.4\n",
       "\\item 4.21\n",
       "\\item 4.34\n",
       "\\item 5.61\n",
       "\\item 8.89\n",
       "\\end{enumerate*}\n"
      ],
      "text/markdown": [
       "1. 5.4\n",
       "2. 4.21\n",
       "3. 4.34\n",
       "4. 5.61\n",
       "5. 8.89\n",
       "\n",
       "\n"
      ],
      "text/plain": [
       "[1] 5.40 4.21 4.34 5.61 8.89"
      ]
     },
     "metadata": {},
     "output_type": "display_data"
    },
    {
     "data": {
      "text/html": [
       "<style>\n",
       ".list-inline {list-style: none; margin:0; padding: 0}\n",
       ".list-inline>li {display: inline-block}\n",
       ".list-inline>li:not(:last-child)::after {content: \"\\00b7\"; padding: 0 .5ex}\n",
       "</style>\n",
       "<ol class=list-inline><li>7.99</li><li>6.42</li><li>3.47</li><li>4.97</li><li>6.68</li></ol>\n"
      ],
      "text/latex": [
       "\\begin{enumerate*}\n",
       "\\item 7.99\n",
       "\\item 6.42\n",
       "\\item 3.47\n",
       "\\item 4.97\n",
       "\\item 6.68\n",
       "\\end{enumerate*}\n"
      ],
      "text/markdown": [
       "1. 7.99\n",
       "2. 6.42\n",
       "3. 3.47\n",
       "4. 4.97\n",
       "5. 6.68\n",
       "\n",
       "\n"
      ],
      "text/plain": [
       "[1] 7.99 6.42 3.47 4.97 6.68"
      ]
     },
     "metadata": {},
     "output_type": "display_data"
    }
   ],
   "source": [
    "ventesRegion1 <- alldata[alldata$Region == 0,]$Sales\n",
    "ventesRegion2 <- alldata[alldata$Region == 1,]$Sales\n",
    "ventesRegion1[1:5]\n",
    "ventesRegion2[1:5]"
   ]
  },
  {
   "attachments": {},
   "cell_type": "markdown",
   "metadata": {},
   "source": [
    "#### On crée un nouveau dataframe avec les données de ventes de sièges automobiles avec une colonne pour différencier les régions."
   ]
  },
  {
   "cell_type": "code",
   "execution_count": 128,
   "metadata": {
    "vscode": {
     "languageId": "r"
    }
   },
   "outputs": [
    {
     "data": {
      "text/html": [
       "<table class=\"dataframe\">\n",
       "<caption>A data.frame: 5 × 2</caption>\n",
       "<thead>\n",
       "\t<tr><th></th><th scope=col>Region</th><th scope=col>Ventes</th></tr>\n",
       "\t<tr><th></th><th scope=col>&lt;chr&gt;</th><th scope=col>&lt;dbl&gt;</th></tr>\n",
       "</thead>\n",
       "<tbody>\n",
       "\t<tr><th scope=row>1</th><td>Region 1</td><td>5.40</td></tr>\n",
       "\t<tr><th scope=row>2</th><td>Region 1</td><td>4.21</td></tr>\n",
       "\t<tr><th scope=row>3</th><td>Region 1</td><td>4.34</td></tr>\n",
       "\t<tr><th scope=row>4</th><td>Region 1</td><td>5.61</td></tr>\n",
       "\t<tr><th scope=row>5</th><td>Region 1</td><td>8.89</td></tr>\n",
       "</tbody>\n",
       "</table>\n"
      ],
      "text/latex": [
       "A data.frame: 5 × 2\n",
       "\\begin{tabular}{r|ll}\n",
       "  & Region & Ventes\\\\\n",
       "  & <chr> & <dbl>\\\\\n",
       "\\hline\n",
       "\t1 & Region 1 & 5.40\\\\\n",
       "\t2 & Region 1 & 4.21\\\\\n",
       "\t3 & Region 1 & 4.34\\\\\n",
       "\t4 & Region 1 & 5.61\\\\\n",
       "\t5 & Region 1 & 8.89\\\\\n",
       "\\end{tabular}\n"
      ],
      "text/markdown": [
       "\n",
       "A data.frame: 5 × 2\n",
       "\n",
       "| <!--/--> | Region &lt;chr&gt; | Ventes &lt;dbl&gt; |\n",
       "|---|---|---|\n",
       "| 1 | Region 1 | 5.40 |\n",
       "| 2 | Region 1 | 4.21 |\n",
       "| 3 | Region 1 | 4.34 |\n",
       "| 4 | Region 1 | 5.61 |\n",
       "| 5 | Region 1 | 8.89 |\n",
       "\n"
      ],
      "text/plain": [
       "  Region   Ventes\n",
       "1 Region 1 5.40  \n",
       "2 Region 1 4.21  \n",
       "3 Region 1 4.34  \n",
       "4 Region 1 5.61  \n",
       "5 Region 1 8.89  "
      ]
     },
     "metadata": {},
     "output_type": "display_data"
    }
   ],
   "source": [
    "combineSales <- rbind(\n",
    "    data.frame(\n",
    "        Region = \"Region 1\",\n",
    "        Ventes = ventesRegion1\n",
    "    ),\n",
    "    data.frame(\n",
    "        Region = \"Region 2\",\n",
    "        Ventes = ventesRegion2\n",
    "    )\n",
    ")\n",
    "combineSales[1:5,]"
   ]
  },
  {
   "attachments": {},
   "cell_type": "markdown",
   "metadata": {},
   "source": [
    "#### Histogramme du nombre de ventes de siège automobiles par point de vente en fonction de la région"
   ]
  },
  {
   "cell_type": "code",
   "execution_count": 129,
   "metadata": {
    "vscode": {
     "languageId": "r"
    }
   },
   "outputs": [
    {
     "data": {
      "image/png": "[encoded data removed]",
      "text/plain": [
       "plot without title"
      ]
     },
     "metadata": {
      "image/png": {
       "height": 600,
       "width": 600
      }
     },
     "output_type": "display_data"
    }
   ],
   "source": [
    "library(ggplot2)\n",
    "\n",
    "# options(repr.plot.width=7, repr.plot.height=7, repr.plot.xlab.size=2, repr.plot.ylab.size=2)\n",
    "\n",
    "hist <- ggplot(combineSales, aes(x=Ventes, fill=Region, color=Region)) +\n",
    "  geom_histogram(bins = 30, alpha=0.5, position=\"identity\") +\n",
    "  labs(title=\"Ventes par point de vente en fonction de la région\",x=\"Nombre de ventes\", y = \"Éffectif\")\n",
    "\n",
    "moy <- data.frame(\n",
    "    grp.mean = c(mean(ventesRegion1), mean(ventesRegion2)),\n",
    "    Region = c(\"Region 1\", \"Region 2\")\n",
    ")\n",
    "hist+geom_vline(data=moy, aes(xintercept=grp.mean, color=Region),\n",
    "             linetype=\"dashed\")"
   ]
  },
  {
   "attachments": {},
   "cell_type": "markdown",
   "metadata": {},
   "source": [
    "#### Box plot du nombre de ventes de siège automobiles en fonction de la région"
   ]
  },
  {
   "cell_type": "code",
   "execution_count": 130,
   "metadata": {
    "vscode": {
     "languageId": "r"
    }
   },
   "outputs": [
    {
     "data": {
      "image/png": "[encoded data removed]",
      "text/plain": [
       "plot without title"
      ]
     },
     "metadata": {
      "image/png": {
       "height": 600,
       "width": 600
      }
     },
     "output_type": "display_data"
    }
   ],
   "source": [
    "ggplot(combineSales, aes(x=Region, y=Ventes)) +\n",
    "    geom_boxplot(aes(fill=Region), color=\"black\") +\n",
    "    theme_minimal() +\n",
    "    labs(title=\"Diagramme en boîte des ventes de sièges automobiles par région\",\n",
    "         x=\"Région\", y=\"Effectif de point de ventes\")"
   ]
  },
  {
   "attachments": {},
   "cell_type": "markdown",
   "metadata": {},
   "source": [
    "#### Tableau de statistiques descriptives du nombre de ventes pas point de vente en fonction de la région"
   ]
  },
  {
   "cell_type": "code",
   "execution_count": 131,
   "metadata": {
    "vscode": {
     "languageId": "r"
    }
   },
   "outputs": [
    {
     "data": {
      "text/html": [
       "<table class=\"dataframe\">\n",
       "<caption>A matrix: 2 × 7 of type chr</caption>\n",
       "<thead>\n",
       "\t<tr><th scope=col>Région</th><th scope=col>1er Quartile</th><th scope=col>Médiane</th><th scope=col>Moyenne</th><th scope=col>Écart type</th><th scope=col>3e Quartile</th><th scope=col>Intervale de confiance</th></tr>\n",
       "</thead>\n",
       "<tbody>\n",
       "\t<tr><td>0</td><td>5.44  </td><td>7.67 </td><td>7.57203389830508</td><td>2.78423355910771</td><td>9.335 </td><td>[7.07, 8.074] </td></tr>\n",
       "\t<tr><td>1</td><td>5.0775</td><td>7.265</td><td>7.19226744186046</td><td>2.75477131611318</td><td>8.8525</td><td>[6.781, 7.604]</td></tr>\n",
       "</tbody>\n",
       "</table>\n"
      ],
      "text/latex": [
       "A matrix: 2 × 7 of type chr\n",
       "\\begin{tabular}{lllllll}\n",
       " Région & 1er Quartile & Médiane & Moyenne & Écart type & 3e Quartile & Intervale de confiance\\\\\n",
       "\\hline\n",
       "\t 0 & 5.44   & 7.67  & 7.57203389830508 & 2.78423355910771 & 9.335  & {[}7.07, 8.074{]} \\\\\n",
       "\t 1 & 5.0775 & 7.265 & 7.19226744186046 & 2.75477131611318 & 8.8525 & {[}6.781, 7.604{]}\\\\\n",
       "\\end{tabular}\n"
      ],
      "text/markdown": [
       "\n",
       "A matrix: 2 × 7 of type chr\n",
       "\n",
       "| Région | 1er Quartile | Médiane | Moyenne | Écart type | 3e Quartile | Intervale de confiance |\n",
       "|---|---|---|---|---|---|---|\n",
       "| 0 | 5.44   | 7.67  | 7.57203389830508 | 2.78423355910771 | 9.335  | [7.07, 8.074]  |\n",
       "| 1 | 5.0775 | 7.265 | 7.19226744186046 | 2.75477131611318 | 8.8525 | [6.781, 7.604] |\n",
       "\n"
      ],
      "text/plain": [
       "     Région 1er Quartile Médiane Moyenne          Écart type       3e Quartile\n",
       "[1,] 0      5.44         7.67    7.57203389830508 2.78423355910771 9.335      \n",
       "[2,] 1      5.0775       7.265   7.19226744186046 2.75477131611318 8.8525     \n",
       "     Intervale de confiance\n",
       "[1,] [7.07, 8.074]         \n",
       "[2,] [6.781, 7.604]        "
      ]
     },
     "metadata": {},
     "output_type": "display_data"
    }
   ],
   "source": [
    "statRegion <- matrix(c(\n",
    "    0,\n",
    "    summary(ventesRegion1)[['1st Qu.']],\n",
    "    summary(ventesRegion1)[['Median']],\n",
    "    summary(ventesRegion1)[['Mean']],\n",
    "    sqrt(var(ventesRegion1)),\n",
    "    summary(ventesRegion1)[['3rd Qu.']],\n",
    "    paste(\"[\", round(summary(ventesRegion1)[['Mean']] - int.pop(ventesRegion1, 0.95), 3), \", \",  round(summary(ventesRegion1)[['Mean']] + int.pop(ventesRegion1, 0.95), 3), \"]\", sep = \"\"),\n",
    "    \n",
    "    1,\n",
    "    summary(ventesRegion2)[['1st Qu.']],\n",
    "    summary(ventesRegion2)[['Median']],\n",
    "    summary(ventesRegion2)[['Mean']],\n",
    "    sqrt(var(ventesRegion2)),\n",
    "    summary(ventesRegion2)[['3rd Qu.']],\n",
    "    paste(\"[\", round(summary(ventesRegion2)[['Mean']] - int.pop(ventesRegion2, 0.95), 3), \", \",  round(summary(ventesRegion2)[['Mean']] + int.pop(ventesRegion2, 0.95), 3), \"]\", sep = \"\")),\n",
    "    ncol=7,\n",
    "    nrow=2,\n",
    "    byrow=TRUE)\n",
    "\n",
    "colnames(statRegion) <- c('Région','1er Quartile','Médiane','Moyenne','Écart type', '3e Quartile', 'Intervale de confiance')\n",
    "\n",
    "statRegion"
   ]
  },
  {
   "attachments": {},
   "cell_type": "markdown",
   "metadata": {},
   "source": [
    "# TODO : INTERPRÉTATION"
   ]
  },
  {
   "attachments": {},
   "cell_type": "markdown",
   "metadata": {},
   "source": [
    "### Test d'hypotheses sur la variance des deux régions"
   ]
  },
  {
   "attachments": {},
   "cell_type": "markdown",
   "metadata": {},
   "source": [
    "$H_0$ : $\\sigma_1^2 = \\sigma_2^2$  \n",
    "$H_1$ : $\\sigma_1^2 \\neq \\sigma_2^2$"
   ]
  },
  {
   "cell_type": "code",
   "execution_count": 132,
   "metadata": {
    "vscode": {
     "languageId": "r"
    }
   },
   "outputs": [
    {
     "data": {
      "text/plain": [
       "\n",
       "\tF test to compare two variances\n",
       "\n",
       "data:  Ventes by Region\n",
       "F = 1.0215, num df = 117, denom df = 171, p-value = 0.8919\n",
       "alternative hypothesis: true ratio of variances is not equal to 1\n",
       "95 percent confidence interval:\n",
       " 0.7353614 1.4340909\n",
       "sample estimates:\n",
       "ratio of variances \n",
       "          1.021504 \n"
      ]
     },
     "metadata": {},
     "output_type": "display_data"
    },
    {
     "name": "stdout",
     "output_type": "stream",
     "text": [
      "La p-value est : 0.891923"
     ]
    }
   ],
   "source": [
    "varTest <- var.test(Ventes ~ Region , data=alldata, alternative = \"two.sided\", paired = FALSE)\n",
    "varTest\n",
    "cat('La p-value est :', varTest$p.value)"
   ]
  },
  {
   "attachments": {},
   "cell_type": "markdown",
   "metadata": {},
   "source": [
    "Comme p-value = 0.891923 > $\\alpha = 0.05$, on ne rejette pas $H_0$ donc le test sur les variances montre que les deux régions ont des variances que ne diffèrent pas significativement au seuil $\\alpha$ = 5%.\t"
   ]
  },
  {
   "attachments": {},
   "cell_type": "markdown",
   "metadata": {},
   "source": [
    "#### Démarche détaillée : "
   ]
  },
  {
   "cell_type": "code",
   "execution_count": 133,
   "metadata": {
    "vscode": {
     "languageId": "r"
    }
   },
   "outputs": [],
   "source": [
    "varRegion1 = var(ventesRegion1)\n",
    "varRegion2 = var(ventesRegion2)\n",
    "n1 = length(ventesRegion1)\n",
    "n2 = length(ventesRegion2)"
   ]
  },
  {
   "attachments": {},
   "cell_type": "markdown",
   "metadata": {},
   "source": [
    "$H_0$ : $\\sigma_1^2 = \\sigma_2^2$  \n",
    "$H_1$ : $\\sigma_1^2 \\neq \\sigma_2^2$  \n",
    "$f_0$ : $\\frac{s_1^2}{s_2^2}$\n",
    "\n",
    "On rejete $H_0$ si $F_{1-\\frac{\\alpha}{2}},n_1 - 1, n_2 - 1 > f_0$  ou $F_{\\frac{\\alpha}{2}},n_1 - 1, n_2 - 1 < f_0$"
   ]
  },
  {
   "cell_type": "code",
   "execution_count": 134,
   "metadata": {
    "vscode": {
     "languageId": "r"
    }
   },
   "outputs": [
    {
     "data": {
      "text/html": [
       "1.02150435643927"
      ],
      "text/latex": [
       "1.02150435643927"
      ],
      "text/markdown": [
       "1.02150435643927"
      ],
      "text/plain": [
       "[1] 1.021504"
      ]
     },
     "metadata": {},
     "output_type": "display_data"
    }
   ],
   "source": [
    "f0 = varRegion1/varRegion2\n",
    "f0"
   ]
  },
  {
   "attachments": {},
   "cell_type": "markdown",
   "metadata": {},
   "source": [
    " $F_{1-\\frac{\\alpha}{2}},n_1 - 1, n_2 - 1$ = 0.71 < $f_0$ = 1.021, On ne peut conclure pour l'insant."
   ]
  },
  {
   "cell_type": "code",
   "execution_count": 135,
   "metadata": {
    "vscode": {
     "languageId": "r"
    }
   },
   "outputs": [
    {
     "data": {
      "text/html": [
       "0.71230096664762"
      ],
      "text/latex": [
       "0.71230096664762"
      ],
      "text/markdown": [
       "0.71230096664762"
      ],
      "text/plain": [
       "[1] 0.712301"
      ]
     },
     "metadata": {},
     "output_type": "display_data"
    }
   ],
   "source": [
    "Fg = qf(1 - 0.025, n1 - 1, n2 - 1, lower.tail = FALSE)\n",
    "Fg"
   ]
  },
  {
   "attachments": {},
   "cell_type": "markdown",
   "metadata": {},
   "source": [
    "$F_{\\frac{\\alpha}{2}},n_1 - 1, n_2 - 1 $  = 1.389 > $f_0$ = 1.021, Les critères de rejet ne sont pas respectés donc $H_0$ est accepté."
   ]
  },
  {
   "cell_type": "code",
   "execution_count": 136,
   "metadata": {
    "vscode": {
     "languageId": "r"
    }
   },
   "outputs": [
    {
     "data": {
      "text/html": [
       "1.38911879307455"
      ],
      "text/latex": [
       "1.38911879307455"
      ],
      "text/markdown": [
       "1.38911879307455"
      ],
      "text/plain": [
       "[1] 1.389119"
      ]
     },
     "metadata": {},
     "output_type": "display_data"
    }
   ],
   "source": [
    "Fd = qf(0.025, n1 - 1, n2 - 1, lower.tail = FALSE)\n",
    "Fd"
   ]
  },
  {
   "attachments": {},
   "cell_type": "markdown",
   "metadata": {},
   "source": [
    "### Test d'hypotheses sur l'égalité des moyennes des deux régions"
   ]
  },
  {
   "attachments": {},
   "cell_type": "markdown",
   "metadata": {},
   "source": [
    "$H_0$ : $\\mu_1 = \\mu_2$  \n",
    "$H_1$ : $\\mu_1 \\neq \\mu_2$"
   ]
  },
  {
   "cell_type": "code",
   "execution_count": 137,
   "metadata": {
    "vscode": {
     "languageId": "r"
    }
   },
   "outputs": [
    {
     "data": {
      "text/plain": [
       "\n",
       "\tWelch Two Sample t-test\n",
       "\n",
       "data:  Ventes by Region\n",
       "t = 1.146, df = 249.83, p-value = 0.2529\n",
       "alternative hypothesis: true difference in means between group 0 and group 1 is not equal to 0\n",
       "95 percent confidence interval:\n",
       " -0.2728957  1.0324287\n",
       "sample estimates:\n",
       "mean in group 0 mean in group 1 \n",
       "       7.572034        7.192267 \n"
      ]
     },
     "metadata": {},
     "output_type": "display_data"
    }
   ],
   "source": [
    "moyTest <- t.test(Ventes ~ Region , data=alldata, alternative = \"two.sided\", paired = FALSE)\n",
    "moyTest"
   ]
  },
  {
   "attachments": {},
   "cell_type": "markdown",
   "metadata": {},
   "source": [
    "Comme p-value = 0.2529 > $\\alpha = 0.05$, on ne rejette pas $H_0$ donc le test sur les moyennes montre que les deux régions ont des moyennes que ne diffèrent pas significativement au seuil $\\alpha$ = 5%.\t\n",
    "<br>\n",
    "<br>\n",
    "<br>\n"
   ]
  },
  {
   "attachments": {},
   "cell_type": "markdown",
   "metadata": {},
   "source": [
    "## Phase 2 : Recherche du meilleur modèle"
   ]
  },
  {
   "attachments": {},
   "cell_type": "markdown",
   "metadata": {},
   "source": [
    "### c)\n",
    "\n",
    "#### Modèle 1 --- $Y = \\beta_0 +\\beta_1 X_1 + \\epsilon$"
   ]
  },
  {
   "cell_type": "code",
   "execution_count": 138,
   "metadata": {
    "vscode": {
     "languageId": "r"
    }
   },
   "outputs": [],
   "source": [
    "linModel1 <- lm(alldata$Sales~ alldata$Price)\n",
    "summaryLinModel1 <- summary(linModel1)"
   ]
  },
  {
   "attachments": {},
   "cell_type": "markdown",
   "metadata": {},
   "source": [
    "Tableau coefficient de regression\n"
   ]
  },
  {
   "cell_type": "code",
   "execution_count": 139,
   "metadata": {
    "vscode": {
     "languageId": "r"
    }
   },
   "outputs": [
    {
     "data": {
      "text/html": [
       "<table class=\"dataframe\">\n",
       "<caption>A matrix: 2 × 4 of type dbl</caption>\n",
       "<thead>\n",
       "\t<tr><th></th><th scope=col>Estimate</th><th scope=col>Std. Error</th><th scope=col>t value</th><th scope=col>Pr(&gt;|t|)</th></tr>\n",
       "</thead>\n",
       "<tbody>\n",
       "\t<tr><th scope=row>(Intercept)</th><td>13.61300354</td><td>0.755228827</td><td>18.025005</td><td>3.773104e-49</td></tr>\n",
       "\t<tr><th scope=row>alldata$Price</th><td>-0.05424157</td><td>0.006414514</td><td>-8.456068</td><td>1.405099e-15</td></tr>\n",
       "</tbody>\n",
       "</table>\n"
      ],
      "text/latex": [
       "A matrix: 2 × 4 of type dbl\n",
       "\\begin{tabular}{r|llll}\n",
       "  & Estimate & Std. Error & t value & Pr(>\\textbar{}t\\textbar{})\\\\\n",
       "\\hline\n",
       "\t(Intercept) & 13.61300354 & 0.755228827 & 18.025005 & 3.773104e-49\\\\\n",
       "\talldata\\$Price & -0.05424157 & 0.006414514 & -8.456068 & 1.405099e-15\\\\\n",
       "\\end{tabular}\n"
      ],
      "text/markdown": [
       "\n",
       "A matrix: 2 × 4 of type dbl\n",
       "\n",
       "| <!--/--> | Estimate | Std. Error | t value | Pr(&gt;|t|) |\n",
       "|---|---|---|---|---|\n",
       "| (Intercept) | 13.61300354 | 0.755228827 | 18.025005 | 3.773104e-49 |\n",
       "| alldata$Price | -0.05424157 | 0.006414514 | -8.456068 | 1.405099e-15 |\n",
       "\n"
      ],
      "text/plain": [
       "              Estimate    Std. Error  t value   Pr(>|t|)    \n",
       "(Intercept)   13.61300354 0.755228827 18.025005 3.773104e-49\n",
       "alldata$Price -0.05424157 0.006414514 -8.456068 1.405099e-15"
      ]
     },
     "metadata": {},
     "output_type": "display_data"
    }
   ],
   "source": [
    "summaryLinModel1$coefficients"
   ]
  },
  {
   "attachments": {},
   "cell_type": "markdown",
   "metadata": {},
   "source": [
    "Tableau analyse de variance \n"
   ]
  },
  {
   "cell_type": "code",
   "execution_count": 140,
   "metadata": {
    "vscode": {
     "languageId": "r"
    }
   },
   "outputs": [
    {
     "data": {
      "text/html": [
       "<table class=\"dataframe\">\n",
       "<caption>A anova: 2 × 5</caption>\n",
       "<thead>\n",
       "\t<tr><th></th><th scope=col>Df</th><th scope=col>Sum Sq</th><th scope=col>Mean Sq</th><th scope=col>F value</th><th scope=col>Pr(&gt;F)</th></tr>\n",
       "\t<tr><th></th><th scope=col>&lt;int&gt;</th><th scope=col>&lt;dbl&gt;</th><th scope=col>&lt;dbl&gt;</th><th scope=col>&lt;dbl&gt;</th><th scope=col>&lt;dbl&gt;</th></tr>\n",
       "</thead>\n",
       "<tbody>\n",
       "\t<tr><th scope=row>alldata$Price</th><td>  1</td><td> 440.5111</td><td>440.511104</td><td>71.50509</td><td>1.405099e-15</td></tr>\n",
       "\t<tr><th scope=row>Residuals</th><td>288</td><td>1774.2402</td><td>  6.160556</td><td>      NA</td><td>          NA</td></tr>\n",
       "</tbody>\n",
       "</table>\n"
      ],
      "text/latex": [
       "A anova: 2 × 5\n",
       "\\begin{tabular}{r|lllll}\n",
       "  & Df & Sum Sq & Mean Sq & F value & Pr(>F)\\\\\n",
       "  & <int> & <dbl> & <dbl> & <dbl> & <dbl>\\\\\n",
       "\\hline\n",
       "\talldata\\$Price &   1 &  440.5111 & 440.511104 & 71.50509 & 1.405099e-15\\\\\n",
       "\tResiduals & 288 & 1774.2402 &   6.160556 &       NA &           NA\\\\\n",
       "\\end{tabular}\n"
      ],
      "text/markdown": [
       "\n",
       "A anova: 2 × 5\n",
       "\n",
       "| <!--/--> | Df &lt;int&gt; | Sum Sq &lt;dbl&gt; | Mean Sq &lt;dbl&gt; | F value &lt;dbl&gt; | Pr(&gt;F) &lt;dbl&gt; |\n",
       "|---|---|---|---|---|---|\n",
       "| alldata$Price |   1 |  440.5111 | 440.511104 | 71.50509 | 1.405099e-15 |\n",
       "| Residuals | 288 | 1774.2402 |   6.160556 |       NA |           NA |\n",
       "\n"
      ],
      "text/plain": [
       "              Df  Sum Sq    Mean Sq    F value  Pr(>F)      \n",
       "alldata$Price   1  440.5111 440.511104 71.50509 1.405099e-15\n",
       "Residuals     288 1774.2402   6.160556       NA           NA"
      ]
     },
     "metadata": {},
     "output_type": "display_data"
    }
   ],
   "source": [
    "anova(linModel1)"
   ]
  },
  {
   "attachments": {},
   "cell_type": "markdown",
   "metadata": {},
   "source": [
    "\n",
    "Tester la signification du modèle"
   ]
  },
  {
   "cell_type": "code",
   "execution_count": 141,
   "metadata": {
    "vscode": {
     "languageId": "r"
    }
   },
   "outputs": [
    {
     "data": {
      "text/plain": [
       "\n",
       "Call:\n",
       "lm(formula = alldata$Sales ~ alldata$Price)\n",
       "\n",
       "Residuals:\n",
       "    Min      1Q  Median      3Q     Max \n",
       "-6.3567 -1.8142 -0.0517  1.6400  7.0454 \n",
       "\n",
       "Coefficients:\n",
       "               Estimate Std. Error t value Pr(>|t|)    \n",
       "(Intercept)   13.613004   0.755229  18.025  < 2e-16 ***\n",
       "alldata$Price -0.054242   0.006415  -8.456 1.41e-15 ***\n",
       "---\n",
       "Signif. codes:  0 '***' 0.001 '**' 0.01 '*' 0.05 '.' 0.1 ' ' 1\n",
       "\n",
       "Residual standard error: 2.482 on 288 degrees of freedom\n",
       "Multiple R-squared:  0.1989,\tAdjusted R-squared:  0.1961 \n",
       "F-statistic: 71.51 on 1 and 288 DF,  p-value: 1.405e-15\n"
      ]
     },
     "metadata": {},
     "output_type": "display_data"
    }
   ],
   "source": [
    "summaryLinModel1"
   ]
  },
  {
   "attachments": {},
   "cell_type": "markdown",
   "metadata": {},
   "source": [
    "Nuage de point du modèle 1"
   ]
  },
  {
   "cell_type": "code",
   "execution_count": 142,
   "metadata": {
    "vscode": {
     "languageId": "r"
    }
   },
   "outputs": [
    {
     "data": {
      "image/png": "[encoded data removed]",
      "text/plain": [
       "Plot with title \"Nuage de points des ventes en fonction du prix\""
      ]
     },
     "metadata": {
      "image/png": {
       "height": 600,
       "width": 600
      }
     },
     "output_type": "display_data"
    }
   ],
   "source": [
    "plot(alldata$Price, alldata$Sales, main=\"Nuage de points des ventes en fonction du prix\", xlab=\"Prix\", ylab=\"Ventes\", col=\"#ff0000\")\n",
    "abline(linModel1)"
   ]
  },
  {
   "cell_type": "code",
   "execution_count": 143,
   "metadata": {
    "vscode": {
     "languageId": "r"
    }
   },
   "outputs": [
    {
     "data": {
      "image/png": "[encoded data removed]",
      "text/plain": [
       "Plot with title \"\""
      ]
     },
     "metadata": {
      "image/png": {
       "height": 600,
       "width": 600
      }
     },
     "output_type": "display_data"
    }
   ],
   "source": [
    "par(mfrow = c(2,2)) \n",
    "plot(linModel1)"
   ]
  },
  {
   "attachments": {},
   "cell_type": "markdown",
   "metadata": {},
   "source": [
    "Évaluation signification du modèle 1  :\n",
    "Le modèle n'est pas très significatif car R² = 0.1989 or plus R² est proche de 1, plus le modèle est significatif. De plus, à partir du nuage de point on peut voir que les points sont répartis sur une assez grande étendu autour de la droite de régression. On peut donc conclure que le modèle n'est pas significatif.\n",
    "\n",
    "Analyse des résidus du modèle 1 :\n",
    "- Les résidus suivent la droite de normalité, l'hypothèse de normalité est donc respectée. \n",
    "- Les résidus sont répartis de façon homogène autour de 0 dans l'intervalle [4, 10], on a une homoscédasticité des valeurs qui est valide.\n",
    "- le modèle à trois point atipiques qui peuvent fausser le modèle. On peut les supprimer pour améliorer le modèle."
   ]
  },
  {
   "attachments": {},
   "cell_type": "markdown",
   "metadata": {},
   "source": [
    "Intervale de confiance $\\beta_0$ et $\\beta_1$ :"
   ]
  },
  {
   "cell_type": "code",
   "execution_count": 144,
   "metadata": {
    "vscode": {
     "languageId": "r"
    }
   },
   "outputs": [
    {
     "data": {
      "text/html": [
       "<table class=\"dataframe\">\n",
       "<caption>A matrix: 2 × 2 of type dbl</caption>\n",
       "<thead>\n",
       "\t<tr><th></th><th scope=col>2.5 %</th><th scope=col>97.5 %</th></tr>\n",
       "</thead>\n",
       "<tbody>\n",
       "\t<tr><th scope=row>(Intercept)</th><td>12.12653560</td><td>15.0994715</td></tr>\n",
       "\t<tr><th scope=row>alldata$Price</th><td>-0.06686684</td><td>-0.0416163</td></tr>\n",
       "</tbody>\n",
       "</table>\n"
      ],
      "text/latex": [
       "A matrix: 2 × 2 of type dbl\n",
       "\\begin{tabular}{r|ll}\n",
       "  & 2.5 \\% & 97.5 \\%\\\\\n",
       "\\hline\n",
       "\t(Intercept) & 12.12653560 & 15.0994715\\\\\n",
       "\talldata\\$Price & -0.06686684 & -0.0416163\\\\\n",
       "\\end{tabular}\n"
      ],
      "text/markdown": [
       "\n",
       "A matrix: 2 × 2 of type dbl\n",
       "\n",
       "| <!--/--> | 2.5 % | 97.5 % |\n",
       "|---|---|---|\n",
       "| (Intercept) | 12.12653560 | 15.0994715 |\n",
       "| alldata$Price | -0.06686684 | -0.0416163 |\n",
       "\n"
      ],
      "text/plain": [
       "              2.5 %       97.5 %    \n",
       "(Intercept)   12.12653560 15.0994715\n",
       "alldata$Price -0.06686684 -0.0416163"
      ]
     },
     "metadata": {},
     "output_type": "display_data"
    }
   ],
   "source": [
    "confint(linModel1)"
   ]
  },
  {
   "attachments": {},
   "cell_type": "markdown",
   "metadata": {},
   "source": [
    "À 95% on a $\\beta_0 \\in [12.12653560, 15.0994715]$ et $\\beta_1 \\in [-0.06686684, -0.0416163]$.  \n",
    "<br>\n",
    "<br>\n"
   ]
  },
  {
   "attachments": {},
   "cell_type": "markdown",
   "metadata": {},
   "source": [
    "#### Modèle 2 --- $Y = \\beta_0 X_1^{\\beta_1} e^{\\epsilon}$  \n",
    "Équation transformée : $ln(Y) = ln(\\beta_0) + \\beta_1 ln(X_1) + \\epsilon$\n"
   ]
  },
  {
   "cell_type": "code",
   "execution_count": 146,
   "metadata": {
    "vscode": {
     "languageId": "r"
    }
   },
   "outputs": [],
   "source": [
    "linModel2 <- lm(log(alldata$Sales) ~ log(alldata$Price))\n",
    "summaryLinModel2 <- summary(linModel2)"
   ]
  },
  {
   "attachments": {},
   "cell_type": "markdown",
   "metadata": {},
   "source": [
    "Tableau coefficient de regression\n"
   ]
  },
  {
   "cell_type": "code",
   "execution_count": 153,
   "metadata": {
    "vscode": {
     "languageId": "r"
    }
   },
   "outputs": [
    {
     "data": {
      "text/html": [
       "<table class=\"dataframe\">\n",
       "<caption>A matrix: 2 × 4 of type dbl</caption>\n",
       "<thead>\n",
       "\t<tr><th></th><th scope=col>Estimate</th><th scope=col>Std. Error</th><th scope=col>t value</th><th scope=col>Pr(&gt;|t|)</th></tr>\n",
       "</thead>\n",
       "<tbody>\n",
       "\t<tr><th scope=row>(Intercept)</th><td> 6.3098729</td><td>0.6219687</td><td>10.145000</td><td>7.067442e-21</td></tr>\n",
       "\t<tr><th scope=row>log(alldata$Price)</th><td>-0.9342511</td><td>0.1314195</td><td>-7.108923</td><td>9.246652e-12</td></tr>\n",
       "</tbody>\n",
       "</table>\n"
      ],
      "text/latex": [
       "A matrix: 2 × 4 of type dbl\n",
       "\\begin{tabular}{r|llll}\n",
       "  & Estimate & Std. Error & t value & Pr(>\\textbar{}t\\textbar{})\\\\\n",
       "\\hline\n",
       "\t(Intercept) &  6.3098729 & 0.6219687 & 10.145000 & 7.067442e-21\\\\\n",
       "\tlog(alldata\\$Price) & -0.9342511 & 0.1314195 & -7.108923 & 9.246652e-12\\\\\n",
       "\\end{tabular}\n"
      ],
      "text/markdown": [
       "\n",
       "A matrix: 2 × 4 of type dbl\n",
       "\n",
       "| <!--/--> | Estimate | Std. Error | t value | Pr(&gt;|t|) |\n",
       "|---|---|---|---|---|\n",
       "| (Intercept) |  6.3098729 | 0.6219687 | 10.145000 | 7.067442e-21 |\n",
       "| log(alldata$Price) | -0.9342511 | 0.1314195 | -7.108923 | 9.246652e-12 |\n",
       "\n"
      ],
      "text/plain": [
       "                   Estimate   Std. Error t value   Pr(>|t|)    \n",
       "(Intercept)         6.3098729 0.6219687  10.145000 7.067442e-21\n",
       "log(alldata$Price) -0.9342511 0.1314195  -7.108923 9.246652e-12"
      ]
     },
     "metadata": {},
     "output_type": "display_data"
    }
   ],
   "source": [
    "summaryLinModel2$coefficients"
   ]
  },
  {
   "attachments": {},
   "cell_type": "markdown",
   "metadata": {},
   "source": [
    "Tableau analyse de variance"
   ]
  },
  {
   "cell_type": "code",
   "execution_count": 148,
   "metadata": {
    "vscode": {
     "languageId": "r"
    }
   },
   "outputs": [
    {
     "data": {
      "text/html": [
       "<table class=\"dataframe\">\n",
       "<caption>A anova: 2 × 5</caption>\n",
       "<thead>\n",
       "\t<tr><th></th><th scope=col>Df</th><th scope=col>Sum Sq</th><th scope=col>Mean Sq</th><th scope=col>F value</th><th scope=col>Pr(&gt;F)</th></tr>\n",
       "\t<tr><th></th><th scope=col>&lt;int&gt;</th><th scope=col>&lt;dbl&gt;</th><th scope=col>&lt;dbl&gt;</th><th scope=col>&lt;dbl&gt;</th><th scope=col>&lt;dbl&gt;</th></tr>\n",
       "</thead>\n",
       "<tbody>\n",
       "\t<tr><th scope=row>log(alldata$Price)</th><td>  1</td><td>12.23232</td><td>12.2323191</td><td>50.53679</td><td>9.246652e-12</td></tr>\n",
       "\t<tr><th scope=row>Residuals</th><td>288</td><td>69.70976</td><td> 0.2420478</td><td>      NA</td><td>          NA</td></tr>\n",
       "</tbody>\n",
       "</table>\n"
      ],
      "text/latex": [
       "A anova: 2 × 5\n",
       "\\begin{tabular}{r|lllll}\n",
       "  & Df & Sum Sq & Mean Sq & F value & Pr(>F)\\\\\n",
       "  & <int> & <dbl> & <dbl> & <dbl> & <dbl>\\\\\n",
       "\\hline\n",
       "\tlog(alldata\\$Price) &   1 & 12.23232 & 12.2323191 & 50.53679 & 9.246652e-12\\\\\n",
       "\tResiduals & 288 & 69.70976 &  0.2420478 &       NA &           NA\\\\\n",
       "\\end{tabular}\n"
      ],
      "text/markdown": [
       "\n",
       "A anova: 2 × 5\n",
       "\n",
       "| <!--/--> | Df &lt;int&gt; | Sum Sq &lt;dbl&gt; | Mean Sq &lt;dbl&gt; | F value &lt;dbl&gt; | Pr(&gt;F) &lt;dbl&gt; |\n",
       "|---|---|---|---|---|---|\n",
       "| log(alldata$Price) |   1 | 12.23232 | 12.2323191 | 50.53679 | 9.246652e-12 |\n",
       "| Residuals | 288 | 69.70976 |  0.2420478 |       NA |           NA |\n",
       "\n"
      ],
      "text/plain": [
       "                   Df  Sum Sq   Mean Sq    F value  Pr(>F)      \n",
       "log(alldata$Price)   1 12.23232 12.2323191 50.53679 9.246652e-12\n",
       "Residuals          288 69.70976  0.2420478       NA           NA"
      ]
     },
     "metadata": {},
     "output_type": "display_data"
    }
   ],
   "source": [
    "anova(linModel2)"
   ]
  },
  {
   "attachments": {},
   "cell_type": "markdown",
   "metadata": {},
   "source": [
    "Tester la signification du modèle"
   ]
  },
  {
   "cell_type": "code",
   "execution_count": 154,
   "metadata": {
    "vscode": {
     "languageId": "r"
    }
   },
   "outputs": [
    {
     "data": {
      "text/plain": [
       "\n",
       "Call:\n",
       "lm(formula = log(alldata$Sales) ~ log(alldata$Price))\n",
       "\n",
       "Residuals:\n",
       "    Min      1Q  Median      3Q     Max \n",
       "-3.5324 -0.1867  0.0811  0.2980  0.8604 \n",
       "\n",
       "Coefficients:\n",
       "                   Estimate Std. Error t value Pr(>|t|)    \n",
       "(Intercept)          6.3099     0.6220  10.145  < 2e-16 ***\n",
       "log(alldata$Price)  -0.9343     0.1314  -7.109 9.25e-12 ***\n",
       "---\n",
       "Signif. codes:  0 '***' 0.001 '**' 0.01 '*' 0.05 '.' 0.1 ' ' 1\n",
       "\n",
       "Residual standard error: 0.492 on 288 degrees of freedom\n",
       "Multiple R-squared:  0.1493,\tAdjusted R-squared:  0.1463 \n",
       "F-statistic: 50.54 on 1 and 288 DF,  p-value: 9.247e-12\n"
      ]
     },
     "metadata": {},
     "output_type": "display_data"
    }
   ],
   "source": [
    "summaryLinModel2"
   ]
  },
  {
   "attachments": {},
   "cell_type": "markdown",
   "metadata": {},
   "source": [
    "Nuage de point du modèle 2"
   ]
  },
  {
   "cell_type": "code",
   "execution_count": 151,
   "metadata": {
    "vscode": {
     "languageId": "r"
    }
   },
   "outputs": [
    {
     "data": {
      "image/png": "[encoded data removed]",
      "text/plain": [
       "Plot with title \"Nuage de points des ventes en fonction du prix\""
      ]
     },
     "metadata": {
      "image/png": {
       "height": 600,
       "width": 600
      }
     },
     "output_type": "display_data"
    }
   ],
   "source": [
    "plot(log(alldata$Price), log(alldata$Sales), main=\"Nuage de points des ventes en fonction du prix\", xlab=\"Prix\", ylab=\"Ventes\", col=\"#ff0000\")\n",
    "abline(linModel2)"
   ]
  },
  {
   "cell_type": "code",
   "execution_count": 152,
   "metadata": {
    "vscode": {
     "languageId": "r"
    }
   },
   "outputs": [
    {
     "data": {
      "image/png": "[encoded data removed]",
      "text/plain": [
       "Plot with title \"\""
      ]
     },
     "metadata": {
      "image/png": {
       "height": 600,
       "width": 600
      }
     },
     "output_type": "display_data"
    }
   ],
   "source": [
    "par(mfrow = c(2,2))\n",
    "plot(linModel2)"
   ]
  },
  {
   "attachments": {},
   "cell_type": "markdown",
   "metadata": {},
   "source": [
    "Évaluation signification du modèle 2 :\n",
    "Ce modèle n'est pas très significatif car R² = 0.492 or plus R² est proche de 1, plus le modèle est significatif. De plus, à partir du nuage de point on peut voir que les points sont répartis sur une assez grande étendu autour de la droite de régression, on ne aussi un nombre de point atypique plus important qui peuvent fausser notre régression. On peut donc conclure que le modèle n'est pas très significatif.\n",
    "\n",
    "Analyse des résidus du modèle 2 :\n",
    "- Les résidus suivent assez bien la droite de normalité, l'hypothèse de normalité est donc respectée.\n",
    "- Les résidus sont répartis de façon plutôt homogène autour de la droite dans le graphique Residuals vs Fitted, on a donc une homoscédasticité des valeurs qui est valide.\n",
    "- le modèle à un nombre assez important de point atypique qui peuvent fausser le modèle."
   ]
  },
  {
   "attachments": {},
   "cell_type": "markdown",
   "metadata": {},
   "source": [
    "Intervale de confiance $\\beta_0$ et $\\beta_1$ :"
   ]
  },
  {
   "cell_type": "code",
   "execution_count": 155,
   "metadata": {
    "vscode": {
     "languageId": "r"
    }
   },
   "outputs": [
    {
     "data": {
      "text/html": [
       "<table class=\"dataframe\">\n",
       "<caption>A matrix: 2 × 2 of type dbl</caption>\n",
       "<thead>\n",
       "\t<tr><th></th><th scope=col>2.5 %</th><th scope=col>97.5 %</th></tr>\n",
       "</thead>\n",
       "<tbody>\n",
       "\t<tr><th scope=row>(Intercept)</th><td> 5.085692</td><td> 7.5340537</td></tr>\n",
       "\t<tr><th scope=row>log(alldata$Price)</th><td>-1.192916</td><td>-0.6755866</td></tr>\n",
       "</tbody>\n",
       "</table>\n"
      ],
      "text/latex": [
       "A matrix: 2 × 2 of type dbl\n",
       "\\begin{tabular}{r|ll}\n",
       "  & 2.5 \\% & 97.5 \\%\\\\\n",
       "\\hline\n",
       "\t(Intercept) &  5.085692 &  7.5340537\\\\\n",
       "\tlog(alldata\\$Price) & -1.192916 & -0.6755866\\\\\n",
       "\\end{tabular}\n"
      ],
      "text/markdown": [
       "\n",
       "A matrix: 2 × 2 of type dbl\n",
       "\n",
       "| <!--/--> | 2.5 % | 97.5 % |\n",
       "|---|---|---|\n",
       "| (Intercept) |  5.085692 |  7.5340537 |\n",
       "| log(alldata$Price) | -1.192916 | -0.6755866 |\n",
       "\n"
      ],
      "text/plain": [
       "                   2.5 %     97.5 %    \n",
       "(Intercept)         5.085692  7.5340537\n",
       "log(alldata$Price) -1.192916 -0.6755866"
      ]
     },
     "metadata": {},
     "output_type": "display_data"
    }
   ],
   "source": [
    "confint(linModel2)"
   ]
  },
  {
   "attachments": {},
   "cell_type": "markdown",
   "metadata": {},
   "source": [
    "À 95% on a $\\beta_0 \\in [5.085692\t, 7.5340537]$ et $\\beta_1 \\in [-1.192916, -0.6755866]$.  \n",
    "<br>\n",
    "<br>"
   ]
  },
  {
   "cell_type": "markdown",
   "metadata": {},
   "source": [
    "#### Modèle 3 --- $Y = \\beta_0 e^{\\beta_1 X_1 + \\epsilon}$  \n",
    "Équation transformée : $ln(Y) = ln(\\beta_0) + \\beta_1 X_1 + \\epsilon$"
   ]
  },
  {
   "cell_type": "code",
   "execution_count": null,
   "metadata": {
    "vscode": {
     "languageId": "r"
    }
   },
   "outputs": [],
   "source": [
    "linModel3 <- lm(log(alldata$Sales) ~ alldata$Price)\n",
    "summaryLinModel3 <- summary(linModel3)"
   ]
  },
  {
   "cell_type": "markdown",
   "metadata": {},
   "source": [
    "Tableau coefficient de regression"
   ]
  },
  {
   "cell_type": "code",
   "execution_count": null,
   "metadata": {
    "vscode": {
     "languageId": "python"
    }
   },
   "outputs": [],
   "source": [
    "summaryLinModel3$coefficients"
   ]
  },
  {
   "cell_type": "markdown",
   "metadata": {},
   "source": [
    "Tableau analyse de variance "
   ]
  },
  {
   "cell_type": "code",
   "execution_count": null,
   "metadata": {
    "vscode": {
     "languageId": "python"
    }
   },
   "outputs": [],
   "source": [
    "anova(linModel3)"
   ]
  },
  {
   "cell_type": "markdown",
   "metadata": {},
   "source": [
    "Tester la signification du modèle"
   ]
  },
  {
   "cell_type": "code",
   "execution_count": null,
   "metadata": {
    "vscode": {
     "languageId": "python"
    }
   },
   "outputs": [],
   "source": [
    "summaryLinModel3"
   ]
  },
  {
   "cell_type": "markdown",
   "metadata": {},
   "source": [
    "Nuage de point du modèle 3"
   ]
  },
  {
   "cell_type": "code",
   "execution_count": null,
   "metadata": {
    "vscode": {
     "languageId": "python"
    }
   },
   "outputs": [],
   "source": [
    "plot(alldata$Price, log(alldata$Sales), main=\"Nuage de points des ventes en fonction du prix\", xlab=\"Prix\", ylab=\"Ventes\", col=\"#ff0000\")\n",
    "abline(linModel3)"
   ]
  },
  {
   "cell_type": "code",
   "execution_count": null,
   "metadata": {
    "vscode": {
     "languageId": "python"
    }
   },
   "outputs": [],
   "source": [
    "par(mfrow = c(2,2))\n",
    "plot(linModel3)"
   ]
  },
  {
   "cell_type": "markdown",
   "metadata": {},
   "source": [
    "{AJOUTER ANALYSE ICI}"
   ]
  },
  {
   "cell_type": "markdown",
   "metadata": {},
   "source": [
    "Intervale de confiance $\\beta_0$ et $\\beta_1$ :"
   ]
  },
  {
   "cell_type": "code",
   "execution_count": null,
   "metadata": {
    "vscode": {
     "languageId": "python"
    }
   },
   "outputs": [],
   "source": [
    "confint(linModel3)"
   ]
  },
  {
   "attachments": {},
   "cell_type": "markdown",
   "metadata": {},
   "source": [
    "À 95% on a $\\beta_0 \\in [2.75376911, 3.331969180]$ et $\\beta_1 \\in [-0.01240794, -0.007497019]$.  \n",
    "<br>\n",
    "<br>\n"
   ]
  },
  {
   "attachments": {},
   "cell_type": "markdown",
   "metadata": {},
   "source": [
    "#### Modèle 4 --- $Y = \\beta_0 + \\beta_1 X_2 + \\epsilon$"
   ]
  },
  {
   "cell_type": "code",
   "execution_count": null,
   "metadata": {
    "vscode": {
     "languageId": "python"
    }
   },
   "outputs": [],
   "source": [
    "linModel4 <- lm(alldata$Sales~ alldata$Advertising)\n",
    "summaryLinModel4 <- summary(linModel4)"
   ]
  },
  {
   "cell_type": "markdown",
   "metadata": {},
   "source": [
    "Tableau coefficient de regression"
   ]
  },
  {
   "cell_type": "code",
   "execution_count": null,
   "metadata": {
    "vscode": {
     "languageId": "python"
    }
   },
   "outputs": [],
   "source": [
    "summaryLinModel4$coefficients"
   ]
  },
  {
   "attachments": {},
   "cell_type": "markdown",
   "metadata": {},
   "source": [
    "Tableau analyse de variance "
   ]
  },
  {
   "cell_type": "code",
   "execution_count": null,
   "metadata": {
    "vscode": {
     "languageId": "python"
    }
   },
   "outputs": [],
   "source": [
    "anova(linModel4)"
   ]
  },
  {
   "cell_type": "markdown",
   "metadata": {},
   "source": [
    "Tester la signification du modèle"
   ]
  },
  {
   "cell_type": "code",
   "execution_count": null,
   "metadata": {
    "vscode": {
     "languageId": "python"
    }
   },
   "outputs": [],
   "source": [
    "summaryLinModel4"
   ]
  },
  {
   "attachments": {},
   "cell_type": "markdown",
   "metadata": {},
   "source": [
    "Nuage de point du modèle 4"
   ]
  },
  {
   "cell_type": "code",
   "execution_count": null,
   "metadata": {
    "vscode": {
     "languageId": "python"
    }
   },
   "outputs": [],
   "source": [
    "plot(alldata$Advertising, alldata$Sales, main=\"Nuage de points des ventes en fonction du montant investi en publicité\", xlab=\"Publicité (par 1000$)\", ylab=\"Ventes\", col=\"#ff0000\")\n",
    "abline(linModel4)"
   ]
  },
  {
   "cell_type": "code",
   "execution_count": null,
   "metadata": {
    "vscode": {
     "languageId": "python"
    }
   },
   "outputs": [],
   "source": [
    "par(mfrow = c(2,2)) \n",
    "plot(linModel4)\n"
   ]
  },
  {
   "cell_type": "markdown",
   "metadata": {},
   "source": [
    "{AJOUTER ANALYSE ICI}"
   ]
  },
  {
   "attachments": {},
   "cell_type": "markdown",
   "metadata": {},
   "source": [
    "Intervale de confiance $\\beta_0$ et $\\beta_1$ :"
   ]
  },
  {
   "cell_type": "code",
   "execution_count": null,
   "metadata": {
    "vscode": {
     "languageId": "python"
    }
   },
   "outputs": [],
   "source": [
    "confint(linModel4)"
   ]
  },
  {
   "attachments": {},
   "cell_type": "markdown",
   "metadata": {},
   "source": [
    "À 95% on a $\\beta_0 \\in [6.07514639, 6.9209938]$ et $\\beta_1 \\in [0.09092425, 0.1873456]$.  \n",
    "<br>\n",
    "<br>\n"
   ]
  },
  {
   "attachments": {},
   "cell_type": "markdown",
   "metadata": {},
   "source": [
    "#### Modèle 5 --- $Y = \\beta_0 (8 + X_2)^{\\beta_1} e^{\\epsilon}$  \n",
    "Équation transformée : $ln(Y) = ln(\\beta_0) + \\beta_1 ln(8 + X_2) + \\epsilon$"
   ]
  },
  {
   "cell_type": "code",
   "execution_count": null,
   "metadata": {
    "vscode": {
     "languageId": "python"
    }
   },
   "outputs": [],
   "source": [
    "linModel5 <- lm(log(alldata$Sales) ~ log(8 + alldata$Advertising))\n",
    "summaryLinModel5 <- summary(linModel5)"
   ]
  },
  {
   "attachments": {},
   "cell_type": "markdown",
   "metadata": {},
   "source": [
    "Tableau coefficient de regression"
   ]
  },
  {
   "cell_type": "code",
   "execution_count": null,
   "metadata": {
    "vscode": {
     "languageId": "python"
    }
   },
   "outputs": [],
   "source": [
    "summaryLinModel5$coefficients"
   ]
  },
  {
   "attachments": {},
   "cell_type": "markdown",
   "metadata": {},
   "source": [
    "Tableau analyse de variance"
   ]
  },
  {
   "cell_type": "code",
   "execution_count": null,
   "metadata": {
    "vscode": {
     "languageId": "python"
    }
   },
   "outputs": [],
   "source": [
    "anova(linModel5)"
   ]
  },
  {
   "attachments": {},
   "cell_type": "markdown",
   "metadata": {},
   "source": [
    "Tester la signification du modèle"
   ]
  },
  {
   "cell_type": "code",
   "execution_count": null,
   "metadata": {
    "vscode": {
     "languageId": "python"
    }
   },
   "outputs": [],
   "source": [
    "summaryLinModel5"
   ]
  },
  {
   "attachments": {},
   "cell_type": "markdown",
   "metadata": {},
   "source": [
    "Nuage de point du modèle 5"
   ]
  },
  {
   "cell_type": "code",
   "execution_count": null,
   "metadata": {
    "vscode": {
     "languageId": "python"
    }
   },
   "outputs": [],
   "source": [
    "plot(log(alldata$Price), log(alldata$Advertising + 8), main=\"Nuage de points des ventes en fonction du montant investi en publicité\", xlab=\"publicité (par 1000$)\", ylab=\"Ventes\", col=\"#ff0000\")\n",
    "abline(linModel5)"
   ]
  },
  {
   "cell_type": "code",
   "execution_count": null,
   "metadata": {
    "vscode": {
     "languageId": "python"
    }
   },
   "outputs": [],
   "source": [
    "par(mfrow = c(2,2))\n",
    "plot(linModel5)"
   ]
  },
  {
   "cell_type": "markdown",
   "metadata": {},
   "source": [
    "{AJOUTER ANALYSE ICI}"
   ]
  },
  {
   "attachments": {},
   "cell_type": "markdown",
   "metadata": {},
   "source": [
    "Intervale de confiance $\\beta_0$ et $\\beta_1$ :"
   ]
  },
  {
   "cell_type": "code",
   "execution_count": null,
   "metadata": {
    "vscode": {
     "languageId": "python"
    }
   },
   "outputs": [],
   "source": [
    "confint(linModel5)"
   ]
  },
  {
   "attachments": {},
   "cell_type": "markdown",
   "metadata": {},
   "source": [
    "À 95% on a $\\beta_0 \\in [0.7805855, 1.480652]$ et $\\beta_1 \\in [0.1638894, 0.434608]$.  \n",
    "<br>\n",
    "<br>\n"
   ]
  },
  {
   "attachments": {},
   "cell_type": "markdown",
   "metadata": {},
   "source": [
    "#### Modèle 6 --- $Y = \\beta_0 e^{\\beta_1 X_2 + \\epsilon}$  \n",
    "Équation transformée : $ln(Y) = ln(\\beta_0) + \\beta_1 X_2 + \\epsilon$"
   ]
  },
  {
   "cell_type": "code",
   "execution_count": null,
   "metadata": {
    "vscode": {
     "languageId": "python"
    }
   },
   "outputs": [],
   "source": [
    "linModel6 <- lm(log(alldata$Sales) ~ alldata$Advertising)\n",
    "summaryLinModel6 <- summary(linModel6)"
   ]
  },
  {
   "attachments": {},
   "cell_type": "markdown",
   "metadata": {},
   "source": [
    "Tableau coefficient de regression"
   ]
  },
  {
   "cell_type": "code",
   "execution_count": null,
   "metadata": {
    "vscode": {
     "languageId": "python"
    }
   },
   "outputs": [],
   "source": [
    "summaryLinModel6$coefficients"
   ]
  },
  {
   "attachments": {},
   "cell_type": "markdown",
   "metadata": {},
   "source": [
    "Tableau analyse de variance"
   ]
  },
  {
   "cell_type": "code",
   "execution_count": null,
   "metadata": {
    "vscode": {
     "languageId": "python"
    }
   },
   "outputs": [],
   "source": [
    "anova(linModel6)"
   ]
  },
  {
   "cell_type": "markdown",
   "metadata": {},
   "source": [
    "Tester la signification du modèle"
   ]
  },
  {
   "cell_type": "code",
   "execution_count": null,
   "metadata": {
    "vscode": {
     "languageId": "python"
    }
   },
   "outputs": [],
   "source": [
    "summaryLinModel6"
   ]
  },
  {
   "attachments": {},
   "cell_type": "markdown",
   "metadata": {},
   "source": [
    "Nuage de point du modèle 6"
   ]
  },
  {
   "cell_type": "code",
   "execution_count": null,
   "metadata": {
    "vscode": {
     "languageId": "python"
    }
   },
   "outputs": [],
   "source": [
    "plot(alldata$Advertising, log(alldata$Sales), main=\"Nuage de points des ventes en fonction du prix\", xlab=\"Prix\", ylab=\"Ventes\", col=\"#ff0000\")\n",
    "abline(linModel6)"
   ]
  },
  {
   "attachments": {},
   "cell_type": "markdown",
   "metadata": {},
   "source": [
    "{AJOUTER ANALYSE ICI}"
   ]
  },
  {
   "cell_type": "code",
   "execution_count": null,
   "metadata": {
    "vscode": {
     "languageId": "python"
    }
   },
   "outputs": [],
   "source": [
    "par(mfrow = c(2,2))\n",
    "plot(linModel6)"
   ]
  },
  {
   "attachments": {},
   "cell_type": "markdown",
   "metadata": {},
   "source": [
    "Intervale de confiance $\\beta_0$ et $\\beta_1$ :"
   ]
  },
  {
   "cell_type": "code",
   "execution_count": null,
   "metadata": {
    "vscode": {
     "languageId": "python"
    }
   },
   "outputs": [],
   "source": [
    "confint(linModel6)"
   ]
  },
  {
   "attachments": {},
   "cell_type": "markdown",
   "metadata": {},
   "source": [
    "À 95% on a $\\beta_0 \\in [1.67805637, 1.84386620]$ et $\\beta_1 \\in [0.01221427, 0.03111555]$.  \n",
    "<br>\n",
    "<br>\n"
   ]
  }
 ],
 "metadata": {
  "kernelspec": {
   "display_name": "R",
   "language": "R",
   "name": "ir"
  },
  "language_info": {
   "codemirror_mode": "r",
   "file_extension": ".r",
   "mimetype": "text/x-r-source",
   "name": "R",
   "pygments_lexer": "r",
   "version": "4.2.2"
  },
  "orig_nbformat": 4
 },
 "nbformat": 4,
 "nbformat_minor": 2
}
