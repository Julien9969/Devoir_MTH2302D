{
 "cells": [
  {
   "attachments": {},
   "cell_type": "markdown",
   "metadata": {},
   "source": [
    "<p style=\"text-align: center; font-size: 400%\">Devoir MTH2302D </p>"
   ]
  },
  {
   "attachments": {},
   "cell_type": "markdown",
   "metadata": {},
   "source": [
    "<p style=\"text-align: center; font-size: 120%\">Julien Roux 2060886  \n",
    "- Sébastien Roy 2146331</p>"
   ]
  },
  {
   "attachments": {},
   "cell_type": "markdown",
   "metadata": {},
   "source": [
    "#### Option génerale pour les graphiques"
   ]
  },
  {
   "cell_type": "code",
   "execution_count": 83,
   "metadata": {
    "vscode": {
     "languageId": "r"
    }
   },
   "outputs": [],
   "source": [
    "options(repr.plot.width = 10, repr.plot.height=10, repr.plot.xlab.size=2, repr.plot.ylab.size=2)"
   ]
  },
  {
   "attachments": {},
   "cell_type": "markdown",
   "metadata": {},
   "source": [
    "### Phase 1"
   ]
  },
  {
   "attachments": {},
   "cell_type": "markdown",
   "metadata": {},
   "source": [
    "On charge les données depuis le csv en fonction du matricule."
   ]
  },
  {
   "cell_type": "code",
   "execution_count": 84,
   "metadata": {
    "vscode": {
     "languageId": "r"
    }
   },
   "outputs": [],
   "source": [
    "matricule <- 2060886"
   ]
  },
  {
   "cell_type": "code",
   "execution_count": 85,
   "metadata": {
    "vscode": {
     "languageId": "r"
    }
   },
   "outputs": [],
   "source": [
    "charger <- function(matricule) {\n",
    "  set.seed(matricule)\n",
    "  mondata <- read.csv2(\"DevoirDH23.csv\")[sample(290,195),-1]\n",
    "}"
   ]
  },
  {
   "cell_type": "code",
   "execution_count": 86,
   "metadata": {
    "vscode": {
     "languageId": "r"
    }
   },
   "outputs": [
    {
     "data": {
      "text/html": [
       "<table class=\"dataframe\">\n",
       "<caption>A data.frame: 5 × 4</caption>\n",
       "<thead>\n",
       "\t<tr><th></th><th scope=col>Sales</th><th scope=col>Price</th><th scope=col>Advertising</th><th scope=col>Region</th></tr>\n",
       "\t<tr><th></th><th scope=col>&lt;dbl&gt;</th><th scope=col>&lt;int&gt;</th><th scope=col>&lt;int&gt;</th><th scope=col>&lt;int&gt;</th></tr>\n",
       "</thead>\n",
       "<tbody>\n",
       "\t<tr><th scope=row>25</th><td> 5.58</td><td>148</td><td>10</td><td>1</td></tr>\n",
       "\t<tr><th scope=row>181</th><td>12.61</td><td>104</td><td>10</td><td>0</td></tr>\n",
       "\t<tr><th scope=row>202</th><td> 9.48</td><td>132</td><td>10</td><td>0</td></tr>\n",
       "\t<tr><th scope=row>129</th><td> 5.87</td><td>109</td><td> 0</td><td>1</td></tr>\n",
       "\t<tr><th scope=row>289</th><td> 3.02</td><td> 90</td><td>11</td><td>0</td></tr>\n",
       "</tbody>\n",
       "</table>\n"
      ],
      "text/latex": [
       "A data.frame: 5 × 4\n",
       "\\begin{tabular}{r|llll}\n",
       "  & Sales & Price & Advertising & Region\\\\\n",
       "  & <dbl> & <int> & <int> & <int>\\\\\n",
       "\\hline\n",
       "\t25 &  5.58 & 148 & 10 & 1\\\\\n",
       "\t181 & 12.61 & 104 & 10 & 0\\\\\n",
       "\t202 &  9.48 & 132 & 10 & 0\\\\\n",
       "\t129 &  5.87 & 109 &  0 & 1\\\\\n",
       "\t289 &  3.02 &  90 & 11 & 0\\\\\n",
       "\\end{tabular}\n"
      ],
      "text/markdown": [
       "\n",
       "A data.frame: 5 × 4\n",
       "\n",
       "| <!--/--> | Sales &lt;dbl&gt; | Price &lt;int&gt; | Advertising &lt;int&gt; | Region &lt;int&gt; |\n",
       "|---|---|---|---|---|\n",
       "| 25 |  5.58 | 148 | 10 | 1 |\n",
       "| 181 | 12.61 | 104 | 10 | 0 |\n",
       "| 202 |  9.48 | 132 | 10 | 0 |\n",
       "| 129 |  5.87 | 109 |  0 | 1 |\n",
       "| 289 |  3.02 |  90 | 11 | 0 |\n",
       "\n"
      ],
      "text/plain": [
       "    Sales Price Advertising Region\n",
       "25   5.58 148   10          1     \n",
       "181 12.61 104   10          0     \n",
       "202  9.48 132   10          0     \n",
       "129  5.87 109    0          1     \n",
       "289  3.02  90   11          0     "
      ]
     },
     "metadata": {},
     "output_type": "display_data"
    }
   ],
   "source": [
    "mondataa <- charger(matricule)\n",
    "mondata[1:5,]"
   ]
  },
  {
   "attachments": {},
   "cell_type": "markdown",
   "metadata": {},
   "source": [
    "On charge toutes les données depuis le csv."
   ]
  },
  {
   "cell_type": "code",
   "execution_count": 87,
   "metadata": {
    "vscode": {
     "languageId": "r"
    }
   },
   "outputs": [
    {
     "data": {
      "text/html": [
       "<table class=\"dataframe\">\n",
       "<caption>A data.frame: 5 × 5</caption>\n",
       "<thead>\n",
       "\t<tr><th></th><th scope=col>NUM</th><th scope=col>Sales</th><th scope=col>Price</th><th scope=col>Advertising</th><th scope=col>Region</th></tr>\n",
       "\t<tr><th></th><th scope=col>&lt;int&gt;</th><th scope=col>&lt;dbl&gt;</th><th scope=col>&lt;int&gt;</th><th scope=col>&lt;int&gt;</th><th scope=col>&lt;int&gt;</th></tr>\n",
       "</thead>\n",
       "<tbody>\n",
       "\t<tr><th scope=row>1</th><td>142</td><td>5.40</td><td>163</td><td>13</td><td>0</td></tr>\n",
       "\t<tr><th scope=row>2</th><td>104</td><td>7.99</td><td> 99</td><td> 0</td><td>1</td></tr>\n",
       "\t<tr><th scope=row>3</th><td>103</td><td>4.21</td><td>137</td><td>14</td><td>0</td></tr>\n",
       "\t<tr><th scope=row>4</th><td>274</td><td>4.34</td><td>111</td><td> 0</td><td>0</td></tr>\n",
       "\t<tr><th scope=row>5</th><td>286</td><td>6.42</td><td>126</td><td> 5</td><td>1</td></tr>\n",
       "</tbody>\n",
       "</table>\n"
      ],
      "text/latex": [
       "A data.frame: 5 × 5\n",
       "\\begin{tabular}{r|lllll}\n",
       "  & NUM & Sales & Price & Advertising & Region\\\\\n",
       "  & <int> & <dbl> & <int> & <int> & <int>\\\\\n",
       "\\hline\n",
       "\t1 & 142 & 5.40 & 163 & 13 & 0\\\\\n",
       "\t2 & 104 & 7.99 &  99 &  0 & 1\\\\\n",
       "\t3 & 103 & 4.21 & 137 & 14 & 0\\\\\n",
       "\t4 & 274 & 4.34 & 111 &  0 & 0\\\\\n",
       "\t5 & 286 & 6.42 & 126 &  5 & 1\\\\\n",
       "\\end{tabular}\n"
      ],
      "text/markdown": [
       "\n",
       "A data.frame: 5 × 5\n",
       "\n",
       "| <!--/--> | NUM &lt;int&gt; | Sales &lt;dbl&gt; | Price &lt;int&gt; | Advertising &lt;int&gt; | Region &lt;int&gt; |\n",
       "|---|---|---|---|---|---|\n",
       "| 1 | 142 | 5.40 | 163 | 13 | 0 |\n",
       "| 2 | 104 | 7.99 |  99 |  0 | 1 |\n",
       "| 3 | 103 | 4.21 | 137 | 14 | 0 |\n",
       "| 4 | 274 | 4.34 | 111 |  0 | 0 |\n",
       "| 5 | 286 | 6.42 | 126 |  5 | 1 |\n",
       "\n"
      ],
      "text/plain": [
       "  NUM Sales Price Advertising Region\n",
       "1 142 5.40  163   13          0     \n",
       "2 104 7.99   99    0          1     \n",
       "3 103 4.21  137   14          0     \n",
       "4 274 4.34  111    0          0     \n",
       "5 286 6.42  126    5          1     "
      ]
     },
     "metadata": {},
     "output_type": "display_data"
    }
   ],
   "source": [
    "alldata <- read.csv2(\"DevoirDH23.csv\")\n",
    "alldata[1:5,]"
   ]
  },
  {
   "attachments": {},
   "cell_type": "markdown",
   "metadata": {},
   "source": [
    "### a)"
   ]
  },
  {
   "cell_type": "code",
   "execution_count": 88,
   "metadata": {
    "vscode": {
     "languageId": "r"
    }
   },
   "outputs": [],
   "source": [
    "Ventes <- alldata$Sales\n",
    "# Ventes[1:100]"
   ]
  },
  {
   "attachments": {},
   "cell_type": "markdown",
   "metadata": {},
   "source": [
    "#### Histogramme du nombre de ventes de siège automobiles"
   ]
  },
  {
   "cell_type": "code",
   "execution_count": 89,
   "metadata": {
    "vscode": {
     "languageId": "r"
    }
   },
   "outputs": [
    {
     "data": {
      "image/png": "[encoded data removed]",
      "text/plain": [
       "Plot with title \"Histogramme des ventes de sièges automobiles\""
      ]
     },
     "metadata": {
      "image/png": {
       "height": 600,
       "width": 600
      }
     },
     "output_type": "display_data"
    }
   ],
   "source": [
    "hist(Ventes, col=\"#bb2424\",main=\"Histogramme des ventes de sièges automobiles\",\n",
    "     border=\"#000000\", xlab=\"Nombres de ventes\",ylab=\"Effectif de ventes\")"
   ]
  },
  {
   "attachments": {},
   "cell_type": "markdown",
   "metadata": {},
   "source": [
    "Ce graphique montre que la majorité des points de vente ont vendu entre 5 et 10 sièges automobiles.  \n",
    "<br><br>"
   ]
  },
  {
   "attachments": {},
   "cell_type": "markdown",
   "metadata": {},
   "source": [
    "#### Box plot du nombre de ventes de siège automobiles"
   ]
  },
  {
   "cell_type": "code",
   "execution_count": 90,
   "metadata": {
    "vscode": {
     "languageId": "r"
    }
   },
   "outputs": [
    {
     "data": {
      "image/png": "[encoded data removed]",
      "text/plain": [
       "Plot with title \"Diagramme en boîte des ventes de sièges automobiles\""
      ]
     },
     "metadata": {
      "image/png": {
       "height": 600,
       "width": 600
      }
     },
     "output_type": "display_data"
    }
   ],
   "source": [
    "boxplot(Ventes, col=\"#bb2424\",main=\"Diagramme en boîte des ventes de sièges automobiles\",\n",
    "        border=\"#000000\", xlab=\"Nombres de ventes\",ylab=\"Effectif de point de ventes\")"
   ]
  },
  {
   "attachments": {},
   "cell_type": "markdown",
   "metadata": {},
   "source": [
    "Ce graphique montre que la moiter des points de vente ont vendu entre 5 et 10 sièges automobiles et que la médiane est d'environ 7,5.  \n",
    "<br><br>"
   ]
  },
  {
   "attachments": {},
   "cell_type": "markdown",
   "metadata": {},
   "source": [
    "#### Droite de Henry du nombre de ventes de siège automobiles"
   ]
  },
  {
   "cell_type": "code",
   "execution_count": 91,
   "metadata": {
    "vscode": {
     "languageId": "r"
    }
   },
   "outputs": [
    {
     "data": {
      "image/png": "[encoded data removed]",
      "text/plain": [
       "Plot with title \"Normal Q-Q Plot\""
      ]
     },
     "metadata": {
      "image/png": {
       "height": 600,
       "width": 600
      }
     },
     "output_type": "display_data"
    }
   ],
   "source": [
    "qqnorm(Ventes,col=\"blue\", xlab=\"Distribution quantiles loi normale\",ylab=\"Distribution des ventes\")\n",
    "qqline(Ventes,col=\"red\")"
   ]
  },
  {
   "attachments": {},
   "cell_type": "markdown",
   "metadata": {},
   "source": [
    "Les données de ventes semblent suivre une droite de Henry. On peut alors dire que la loi normale est une bonne approximation de la distribution des ventes de sièges automobiles.  \n",
    "<br><br>"
   ]
  },
  {
   "attachments": {},
   "cell_type": "markdown",
   "metadata": {},
   "source": [
    "#### Test de normalité du nombre de ventes de siège automobiles"
   ]
  },
  {
   "attachments": {},
   "cell_type": "markdown",
   "metadata": {},
   "source": [
    "$H_0$: Les données suivent une loi normale  \n",
    "$H_1$: Les données ne suivent pas une loi normale  "
   ]
  },
  {
   "cell_type": "code",
   "execution_count": 92,
   "metadata": {
    "vscode": {
     "languageId": "r"
    }
   },
   "outputs": [
    {
     "data": {
      "text/plain": [
       "\n",
       "\tShapiro-Wilk normality test\n",
       "\n",
       "data:  Ventes\n",
       "W = 0.99571, p-value = 0.6102\n"
      ]
     },
     "metadata": {},
     "output_type": "display_data"
    }
   ],
   "source": [
    "shapiro.test(Ventes)"
   ]
  },
  {
   "attachments": {},
   "cell_type": "markdown",
   "metadata": {},
   "source": [
    "Comme W = 0.99568 n'est pas petit et que p-value = 0.6051 n'est pas petit, on ne rejette pas $H_0$.  \n",
    "Ainsi le test de normalité montre que les données suivent une loi normale.\n",
    "<br>\n",
    "<br>"
   ]
  },
  {
   "attachments": {},
   "cell_type": "markdown",
   "metadata": {},
   "source": [
    "#### Tableau de statistiques descriptives du nombre de ventes de siège automobiles"
   ]
  },
  {
   "attachments": {},
   "cell_type": "markdown",
   "metadata": {},
   "source": [
    "Utilisation d'une librarie de R pour le calcule de l'intervalle de confiance à 95% pour la moyenne."
   ]
  },
  {
   "cell_type": "code",
   "execution_count": 93,
   "metadata": {
    "vscode": {
     "languageId": "r"
    }
   },
   "outputs": [
    {
     "name": "stdout",
     "output_type": "stream",
     "text": [
      "La marge d'erreur est  0.3186124"
     ]
    }
   ],
   "source": [
    "# install.packages(\"devtools\") ; require(devtools)\n",
    "# devtools::install_github(\"Antoine-Masse/KefiR\")\n",
    "library(KefiR)\n",
    "cat('La marge d\\'erreur est ', int.pop(Ventes, 0.95))"
   ]
  },
  {
   "attachments": {},
   "cell_type": "markdown",
   "metadata": {},
   "source": [
    "Caclule de l'intervalle de confiance à 95% pour la moyenne détailé."
   ]
  },
  {
   "cell_type": "code",
   "execution_count": 94,
   "metadata": {
    "vscode": {
     "languageId": "r"
    }
   },
   "outputs": [
    {
     "name": "stdout",
     "output_type": "stream",
     "text": [
      "La moyenne des ventes est : 7.346793\n",
      "La variance des ventes est : 7.663499\n",
      "Taille de la population : n = 290"
     ]
    }
   ],
   "source": [
    "cat('La moyenne des ventes est :', mean(Ventes))\n",
    "cat('\\nLa variance des ventes est :', var(Ventes))\n",
    "cat('\\nTaille de la population : n =', length(Ventes))"
   ]
  },
  {
   "attachments": {},
   "cell_type": "markdown",
   "metadata": {},
   "source": [
    "Calcul intervale de confiance à 95% (1 - $\\alpha$ = 0.95) pour la moyenne de la population.  \n",
    "$\\bar{X}$ = 7.343 et $\\sigma^2$ = 7.71, de plus Ventes ~ N($\\mu$, $\\sigma^2$).  \n",
    "On a donc: $\\frac{\\bar{X} - \\mu}{\\sigma/\\sqrt{n}}$ ~ N(0, 1) soit $\\mu \\in \\bar{X} \\pm z_{\\frac{\\alpha}{2}} \\frac{\\sigma}{\\sqrt{n}}$  \n",
    "<br> \n",
    "Calcul $z_{\\frac{\\alpha}{2}}\\frac{\\sigma}{\\sqrt{n}}$"
   ]
  },
  {
   "cell_type": "code",
   "execution_count": 95,
   "metadata": {
    "vscode": {
     "languageId": "r"
    }
   },
   "outputs": [
    {
     "name": "stdout",
     "output_type": "stream",
     "text": [
      "\n",
      "La marge d'erreur est : 0.3186124"
     ]
    }
   ],
   "source": [
    "z <- qnorm(0.025, 0, 1, lower.tail = FALSE) * sqrt(var(Ventes)/length(Ventes))\n",
    "cat('\\nLa marge d\\'erreur est :', z)\n"
   ]
  },
  {
   "attachments": {},
   "cell_type": "markdown",
   "metadata": {},
   "source": [
    "On à donc: $\\mu \\in \\bar{X} \\pm 0.3195956$ soit $\\mu \\in [7.023404, 7.662596]$ à 95%.    \n",
    "<br>\n",
    "<br>"
   ]
  },
  {
   "attachments": {},
   "cell_type": "markdown",
   "metadata": {},
   "source": [
    "Tableau de statistiques :"
   ]
  },
  {
   "cell_type": "code",
   "execution_count": 96,
   "metadata": {
    "vscode": {
     "languageId": "r"
    }
   },
   "outputs": [
    {
     "data": {
      "text/html": [
       "<table class=\"dataframe\">\n",
       "<caption>A matrix: 1 × 6 of type chr</caption>\n",
       "<thead>\n",
       "\t<tr><th scope=col>1er Quartile</th><th scope=col>Médiane</th><th scope=col>Moyenne</th><th scope=col>Écart type</th><th scope=col>3e Quartile</th><th scope=col>Intervale de confiance</th></tr>\n",
       "</thead>\n",
       "<tbody>\n",
       "\t<tr><td>5.3225</td><td>7.415</td><td>7.34679310344828</td><td>2.76830261510739</td><td>9.025</td><td>[7.023404, 7.662596]</td></tr>\n",
       "</tbody>\n",
       "</table>\n"
      ],
      "text/latex": [
       "A matrix: 1 × 6 of type chr\n",
       "\\begin{tabular}{llllll}\n",
       " 1er Quartile & Médiane & Moyenne & Écart type & 3e Quartile & Intervale de confiance\\\\\n",
       "\\hline\n",
       "\t 5.3225 & 7.415 & 7.34679310344828 & 2.76830261510739 & 9.025 & {[}7.023404, 7.662596{]}\\\\\n",
       "\\end{tabular}\n"
      ],
      "text/markdown": [
       "\n",
       "A matrix: 1 × 6 of type chr\n",
       "\n",
       "| 1er Quartile | Médiane | Moyenne | Écart type | 3e Quartile | Intervale de confiance |\n",
       "|---|---|---|---|---|---|\n",
       "| 5.3225 | 7.415 | 7.34679310344828 | 2.76830261510739 | 9.025 | [7.023404, 7.662596] |\n",
       "\n"
      ],
      "text/plain": [
       "     1er Quartile Médiane Moyenne          Écart type       3e Quartile\n",
       "[1,] 5.3225       7.415   7.34679310344828 2.76830261510739 9.025      \n",
       "     Intervale de confiance\n",
       "[1,] [7.023404, 7.662596]  "
      ]
     },
     "metadata": {},
     "output_type": "display_data"
    }
   ],
   "source": [
    "stat <- matrix(c(\n",
    "    summary(Ventes)[['1st Qu.']],\n",
    "    summary(Ventes)[['Median']],\n",
    "    summary(Ventes)[['Mean']],\n",
    "    sqrt(var(Ventes)),\n",
    "    summary(Ventes)[['3rd Qu.']],\n",
    "    paste(\"[\", 7.023404, \", \",  7.662596, \"]\", sep = \"\")),\n",
    "    ncol=6,\n",
    "    nrow=1,\n",
    "    byrow=TRUE)\n",
    "\n",
    "colnames(stat) <- c('1er Quartile','Médiane','Moyenne','Écart type', '3e Quartile', 'Intervale de confiance')\n",
    "stat"
   ]
  },
  {
   "attachments": {},
   "cell_type": "markdown",
   "metadata": {},
   "source": [
    "### b)"
   ]
  },
  {
   "attachments": {},
   "cell_type": "markdown",
   "metadata": {},
   "source": [
    "#### On extrait les données de ventes de sièges automobiles pour chaque région"
   ]
  },
  {
   "cell_type": "code",
   "execution_count": 97,
   "metadata": {
    "vscode": {
     "languageId": "r"
    }
   },
   "outputs": [
    {
     "data": {
      "text/html": [
       "<style>\n",
       ".list-inline {list-style: none; margin:0; padding: 0}\n",
       ".list-inline>li {display: inline-block}\n",
       ".list-inline>li:not(:last-child)::after {content: \"\\00b7\"; padding: 0 .5ex}\n",
       "</style>\n",
       "<ol class=list-inline><li>12.61</li><li>9.48</li><li>3.02</li><li>11.19</li><li>7.64</li></ol>\n"
      ],
      "text/latex": [
       "\\begin{enumerate*}\n",
       "\\item 12.61\n",
       "\\item 9.48\n",
       "\\item 3.02\n",
       "\\item 11.19\n",
       "\\item 7.64\n",
       "\\end{enumerate*}\n"
      ],
      "text/markdown": [
       "1. 12.61\n",
       "2. 9.48\n",
       "3. 3.02\n",
       "4. 11.19\n",
       "5. 7.64\n",
       "\n",
       "\n"
      ],
      "text/plain": [
       "[1] 12.61  9.48  3.02 11.19  7.64"
      ]
     },
     "metadata": {},
     "output_type": "display_data"
    },
    {
     "data": {
      "text/html": [
       "<style>\n",
       ".list-inline {list-style: none; margin:0; padding: 0}\n",
       ".list-inline>li {display: inline-block}\n",
       ".list-inline>li:not(:last-child)::after {content: \"\\00b7\"; padding: 0 .5ex}\n",
       "</style>\n",
       "<ol class=list-inline><li>5.58</li><li>5.87</li><li>9.5</li><li>7.23</li><li>4.42</li></ol>\n"
      ],
      "text/latex": [
       "\\begin{enumerate*}\n",
       "\\item 5.58\n",
       "\\item 5.87\n",
       "\\item 9.5\n",
       "\\item 7.23\n",
       "\\item 4.42\n",
       "\\end{enumerate*}\n"
      ],
      "text/markdown": [
       "1. 5.58\n",
       "2. 5.87\n",
       "3. 9.5\n",
       "4. 7.23\n",
       "5. 4.42\n",
       "\n",
       "\n"
      ],
      "text/plain": [
       "[1] 5.58 5.87 9.50 7.23 4.42"
      ]
     },
     "metadata": {},
     "output_type": "display_data"
    }
   ],
   "source": [
    "ventesRegion1 <- mondata[mondata$Region == 0,]$Sales\n",
    "ventesRegion2 <- mondata[mondata$Region == 1,]$Sales\n",
    "ventesRegion1[1:5]\n",
    "ventesRegion2[1:5]"
   ]
  },
  {
   "attachments": {},
   "cell_type": "markdown",
   "metadata": {},
   "source": [
    "#### On crée un nouveau dataframe avec les données de ventes de sièges automobiles avec une colonne pour différencier les régions."
   ]
  },
  {
   "cell_type": "code",
   "execution_count": 98,
   "metadata": {
    "vscode": {
     "languageId": "r"
    }
   },
   "outputs": [
    {
     "data": {
      "text/html": [
       "<table class=\"dataframe\">\n",
       "<caption>A data.frame: 5 × 2</caption>\n",
       "<thead>\n",
       "\t<tr><th></th><th scope=col>Region</th><th scope=col>Ventes</th></tr>\n",
       "\t<tr><th></th><th scope=col>&lt;chr&gt;</th><th scope=col>&lt;dbl&gt;</th></tr>\n",
       "</thead>\n",
       "<tbody>\n",
       "\t<tr><th scope=row>1</th><td>Region 1</td><td>12.61</td></tr>\n",
       "\t<tr><th scope=row>2</th><td>Region 1</td><td> 9.48</td></tr>\n",
       "\t<tr><th scope=row>3</th><td>Region 1</td><td> 3.02</td></tr>\n",
       "\t<tr><th scope=row>4</th><td>Region 1</td><td>11.19</td></tr>\n",
       "\t<tr><th scope=row>5</th><td>Region 1</td><td> 7.64</td></tr>\n",
       "</tbody>\n",
       "</table>\n"
      ],
      "text/latex": [
       "A data.frame: 5 × 2\n",
       "\\begin{tabular}{r|ll}\n",
       "  & Region & Ventes\\\\\n",
       "  & <chr> & <dbl>\\\\\n",
       "\\hline\n",
       "\t1 & Region 1 & 12.61\\\\\n",
       "\t2 & Region 1 &  9.48\\\\\n",
       "\t3 & Region 1 &  3.02\\\\\n",
       "\t4 & Region 1 & 11.19\\\\\n",
       "\t5 & Region 1 &  7.64\\\\\n",
       "\\end{tabular}\n"
      ],
      "text/markdown": [
       "\n",
       "A data.frame: 5 × 2\n",
       "\n",
       "| <!--/--> | Region &lt;chr&gt; | Ventes &lt;dbl&gt; |\n",
       "|---|---|---|\n",
       "| 1 | Region 1 | 12.61 |\n",
       "| 2 | Region 1 |  9.48 |\n",
       "| 3 | Region 1 |  3.02 |\n",
       "| 4 | Region 1 | 11.19 |\n",
       "| 5 | Region 1 |  7.64 |\n",
       "\n"
      ],
      "text/plain": [
       "  Region   Ventes\n",
       "1 Region 1 12.61 \n",
       "2 Region 1  9.48 \n",
       "3 Region 1  3.02 \n",
       "4 Region 1 11.19 \n",
       "5 Region 1  7.64 "
      ]
     },
     "metadata": {},
     "output_type": "display_data"
    }
   ],
   "source": [
    "combineSales <- rbind(\n",
    "    data.frame(\n",
    "        Region = \"Region 1\",\n",
    "        Ventes = ventesRegion1\n",
    "    ),\n",
    "    data.frame(\n",
    "        Region = \"Region 2\",\n",
    "        Ventes = ventesRegion2\n",
    "    )\n",
    ")\n",
    "combineSales[1:5,]"
   ]
  },
  {
   "attachments": {},
   "cell_type": "markdown",
   "metadata": {},
   "source": [
    "#### Histogramme du nombre de ventes de siège automobiles par point de vente en fonction de la région"
   ]
  },
  {
   "cell_type": "code",
   "execution_count": 99,
   "metadata": {
    "vscode": {
     "languageId": "r"
    }
   },
   "outputs": [
    {
     "data": {
      "image/png": "[encoded data removed]",
      "text/plain": [
       "plot without title"
      ]
     },
     "metadata": {
      "image/png": {
       "height": 600,
       "width": 600
      }
     },
     "output_type": "display_data"
    }
   ],
   "source": [
    "library(ggplot2)\n",
    "\n",
    "hist <- ggplot(combineSales, aes(x=Ventes, fill=Region, color=Region)) +\n",
    "  geom_histogram(bins = 30, alpha=0.5, position=\"identity\") +\n",
    "  labs(title=\"Ventes par point de vente en fonction de la région\",x=\"Nombre de ventes\", y = \"Éffectif\")\n",
    "\n",
    "moy <- data.frame(\n",
    "    grp.mean = c(mean(ventesRegion1), mean(ventesRegion2)),\n",
    "    Region = c(\"Region 1\", \"Region 2\")\n",
    ")\n",
    "hist+geom_vline(data=moy, aes(xintercept=grp.mean, color=Region),\n",
    "             linetype=\"dashed\")"
   ]
  },
  {
   "attachments": {},
   "cell_type": "markdown",
   "metadata": {},
   "source": [
    "#### Box plot du nombre de ventes de siège automobiles en fonction de la région"
   ]
  },
  {
   "cell_type": "code",
   "execution_count": 100,
   "metadata": {
    "vscode": {
     "languageId": "r"
    }
   },
   "outputs": [
    {
     "data": {
      "image/png": "[encoded data removed]",
      "text/plain": [
       "plot without title"
      ]
     },
     "metadata": {
      "image/png": {
       "height": 600,
       "width": 600
      }
     },
     "output_type": "display_data"
    }
   ],
   "source": [
    "ggplot(combineSales, aes(x=Region, y=Ventes)) +\n",
    "    geom_boxplot(aes(fill=Region), color=\"black\") +\n",
    "    theme_minimal() +\n",
    "    labs(title=\"Diagramme en boîte des ventes de sièges automobiles par région\",\n",
    "         x=\"Région\", y=\"Effectif de point de ventes\")"
   ]
  },
  {
   "attachments": {},
   "cell_type": "markdown",
   "metadata": {},
   "source": [
    "#### Tableau de statistiques descriptives du nombre de ventes pas point de vente en fonction de la région"
   ]
  },
  {
   "cell_type": "code",
   "execution_count": 101,
   "metadata": {
    "vscode": {
     "languageId": "r"
    }
   },
   "outputs": [
    {
     "data": {
      "text/html": [
       "<table class=\"dataframe\">\n",
       "<caption>A matrix: 2 × 7 of type chr</caption>\n",
       "<thead>\n",
       "\t<tr><th scope=col>Région</th><th scope=col>1er Quartile</th><th scope=col>Médiane</th><th scope=col>Moyenne</th><th scope=col>Écart type</th><th scope=col>3e Quartile</th><th scope=col>Intervale de confiance</th></tr>\n",
       "</thead>\n",
       "<tbody>\n",
       "\t<tr><td>0</td><td>5.8675</td><td>8.02</td><td>7.85736842105263</td><td>2.82292726009536</td><td>9.4575</td><td>[7.223, 8.492]</td></tr>\n",
       "\t<tr><td>1</td><td>5.06  </td><td>7.37</td><td>7.14941176470588</td><td>2.74392558520608</td><td>8.935 </td><td>[6.656, 7.642]</td></tr>\n",
       "</tbody>\n",
       "</table>\n"
      ],
      "text/latex": [
       "A matrix: 2 × 7 of type chr\n",
       "\\begin{tabular}{lllllll}\n",
       " Région & 1er Quartile & Médiane & Moyenne & Écart type & 3e Quartile & Intervale de confiance\\\\\n",
       "\\hline\n",
       "\t 0 & 5.8675 & 8.02 & 7.85736842105263 & 2.82292726009536 & 9.4575 & {[}7.223, 8.492{]}\\\\\n",
       "\t 1 & 5.06   & 7.37 & 7.14941176470588 & 2.74392558520608 & 8.935  & {[}6.656, 7.642{]}\\\\\n",
       "\\end{tabular}\n"
      ],
      "text/markdown": [
       "\n",
       "A matrix: 2 × 7 of type chr\n",
       "\n",
       "| Région | 1er Quartile | Médiane | Moyenne | Écart type | 3e Quartile | Intervale de confiance |\n",
       "|---|---|---|---|---|---|---|\n",
       "| 0 | 5.8675 | 8.02 | 7.85736842105263 | 2.82292726009536 | 9.4575 | [7.223, 8.492] |\n",
       "| 1 | 5.06   | 7.37 | 7.14941176470588 | 2.74392558520608 | 8.935  | [6.656, 7.642] |\n",
       "\n"
      ],
      "text/plain": [
       "     Région 1er Quartile Médiane Moyenne          Écart type       3e Quartile\n",
       "[1,] 0      5.8675       8.02    7.85736842105263 2.82292726009536 9.4575     \n",
       "[2,] 1      5.06         7.37    7.14941176470588 2.74392558520608 8.935      \n",
       "     Intervale de confiance\n",
       "[1,] [7.223, 8.492]        \n",
       "[2,] [6.656, 7.642]        "
      ]
     },
     "metadata": {},
     "output_type": "display_data"
    }
   ],
   "source": [
    "statRegion <- matrix(c(\n",
    "    0,\n",
    "    summary(ventesRegion1)[['1st Qu.']],\n",
    "    summary(ventesRegion1)[['Median']],\n",
    "    summary(ventesRegion1)[['Mean']],\n",
    "    sqrt(var(ventesRegion1)),\n",
    "    summary(ventesRegion1)[['3rd Qu.']],\n",
    "    paste(\"[\", round(summary(ventesRegion1)[['Mean']] - int.pop(ventesRegion1, 0.95), 3), \", \",  round(summary(ventesRegion1)[['Mean']] + int.pop(ventesRegion1, 0.95), 3), \"]\", sep = \"\"),\n",
    "    \n",
    "    1,\n",
    "    summary(ventesRegion2)[['1st Qu.']],\n",
    "    summary(ventesRegion2)[['Median']],\n",
    "    summary(ventesRegion2)[['Mean']],\n",
    "    sqrt(var(ventesRegion2)),\n",
    "    summary(ventesRegion2)[['3rd Qu.']],\n",
    "    paste(\"[\", round(summary(ventesRegion2)[['Mean']] - int.pop(ventesRegion2, 0.95), 3), \", \",  round(summary(ventesRegion2)[['Mean']] + int.pop(ventesRegion2, 0.95), 3), \"]\", sep = \"\")),\n",
    "    ncol=7,\n",
    "    nrow=2,\n",
    "    byrow=TRUE)\n",
    "\n",
    "colnames(statRegion) <- c('Région','1er Quartile','Médiane','Moyenne','Écart type', '3e Quartile', 'Intervale de confiance')\n",
    "\n",
    "statRegion"
   ]
  },
  {
   "attachments": {},
   "cell_type": "markdown",
   "metadata": {},
   "source": [
    "# TODO : INTERPRÉTATION"
   ]
  },
  {
   "attachments": {},
   "cell_type": "markdown",
   "metadata": {},
   "source": [
    "### Test d'hypotheses sur la variance des deux régions"
   ]
  },
  {
   "attachments": {},
   "cell_type": "markdown",
   "metadata": {},
   "source": [
    "$H_0$ : $\\sigma_1^2 = \\sigma_2^2$  \n",
    "$H_1$ : $\\sigma_1^2 \\neq \\sigma_2^2$"
   ]
  },
  {
   "cell_type": "code",
   "execution_count": 153,
   "metadata": {
    "vscode": {
     "languageId": "r"
    }
   },
   "outputs": [
    {
     "data": {
      "text/plain": [
       "\n",
       "\tF test to compare two variances\n",
       "\n",
       "data:  Ventes by Region\n",
       "F = 1.0215, num df = 117, denom df = 171, p-value = 0.8919\n",
       "alternative hypothesis: true ratio of variances is not equal to 1\n",
       "95 percent confidence interval:\n",
       " 0.7353614 1.4340909\n",
       "sample estimates:\n",
       "ratio of variances \n",
       "          1.021504 \n"
      ]
     },
     "metadata": {},
     "output_type": "display_data"
    },
    {
     "name": "stdout",
     "output_type": "stream",
     "text": [
      "La p-value est : 0.891923"
     ]
    }
   ],
   "source": [
    "varTest <- var.test(Ventes ~ Region , data=alldata, alternative = \"two.sided\", paired = FALSE)\n",
    "varTest\n",
    "cat('La p-value est :', varTest$p.value)"
   ]
  },
  {
   "attachments": {},
   "cell_type": "markdown",
   "metadata": {},
   "source": [
    "Comme p-value = 0.891923 > $\\alpha = 0.05$, on ne rejette pas $H_0$ donc le test sur les variances montre que les deux régions ont des variances que ne diffèrent pas significativement au seuil $\\alpha$ = 5%.\t"
   ]
  },
  {
   "attachments": {},
   "cell_type": "markdown",
   "metadata": {},
   "source": [
    "#### Démarche détaillée : "
   ]
  },
  {
   "cell_type": "code",
   "execution_count": 103,
   "metadata": {
    "vscode": {
     "languageId": "r"
    }
   },
   "outputs": [],
   "source": [
    "varRegion1 = var(ventesRegion1)\n",
    "varRegion2 = var(ventesRegion2)\n",
    "n1 = length(ventesRegion1)\n",
    "n2 = length(ventesRegion2)"
   ]
  },
  {
   "attachments": {},
   "cell_type": "markdown",
   "metadata": {},
   "source": [
    "$H_0$ : $\\sigma_1^2 = \\sigma_2^2$  \n",
    "$H_1$ : $\\sigma_1^2 \\neq \\sigma_2^2$  \n",
    "$f_0$ : $\\frac{s_1^2}{s_2^2}$\n",
    "\n",
    "On rejete $H_0$ si $F_{1-\\frac{\\alpha}{2}},n_1 - 1, n_2 - 1 > f_0$  ou $F_{\\frac{\\alpha}{2}},n_1 - 1, n_2 - 1 < f_0$"
   ]
  },
  {
   "cell_type": "code",
   "execution_count": 104,
   "metadata": {
    "vscode": {
     "languageId": "r"
    }
   },
   "outputs": [
    {
     "data": {
      "text/html": [
       "1.05841190653207"
      ],
      "text/latex": [
       "1.05841190653207"
      ],
      "text/markdown": [
       "1.05841190653207"
      ],
      "text/plain": [
       "[1] 1.058412"
      ]
     },
     "metadata": {},
     "output_type": "display_data"
    }
   ],
   "source": [
    "f0 = varRegion1/varRegion2\n",
    "f0"
   ]
  },
  {
   "attachments": {},
   "cell_type": "markdown",
   "metadata": {},
   "source": [
    " $F_{1-\\frac{\\alpha}{2}},n_1 - 1, n_2 - 1$ = 0.71 < $f_0$ = 1.021, On ne peut conclure pour l'insant."
   ]
  },
  {
   "cell_type": "code",
   "execution_count": 105,
   "metadata": {
    "vscode": {
     "languageId": "r"
    }
   },
   "outputs": [
    {
     "data": {
      "text/html": [
       "0.656037994453261"
      ],
      "text/latex": [
       "0.656037994453261"
      ],
      "text/markdown": [
       "0.656037994453261"
      ],
      "text/plain": [
       "[1] 0.656038"
      ]
     },
     "metadata": {},
     "output_type": "display_data"
    }
   ],
   "source": [
    "Fg = qf(1 - 0.025, n1 - 1, n2 - 1, lower.tail = FALSE)\n",
    "Fg"
   ]
  },
  {
   "attachments": {},
   "cell_type": "markdown",
   "metadata": {},
   "source": [
    "$F_{\\frac{\\alpha}{2}},n_1 - 1, n_2 - 1 $  = 1.389 > $f_0$ = 1.021, Les critères de rejet ne sont pas respectés donc $H_0$ est accepté."
   ]
  },
  {
   "cell_type": "code",
   "execution_count": 106,
   "metadata": {
    "vscode": {
     "languageId": "r"
    }
   },
   "outputs": [
    {
     "data": {
      "text/html": [
       "1.49542836708511"
      ],
      "text/latex": [
       "1.49542836708511"
      ],
      "text/markdown": [
       "1.49542836708511"
      ],
      "text/plain": [
       "[1] 1.495428"
      ]
     },
     "metadata": {},
     "output_type": "display_data"
    }
   ],
   "source": [
    "Fd = qf(0.025, n1 - 1, n2 - 1, lower.tail = FALSE)\n",
    "Fd"
   ]
  },
  {
   "attachments": {},
   "cell_type": "markdown",
   "metadata": {},
   "source": [
    "### Test d'hypotheses sur l'égalité des moyennes des deux régions"
   ]
  },
  {
   "attachments": {},
   "cell_type": "markdown",
   "metadata": {},
   "source": [
    "$H_0$ : $\\mu_1 = \\mu_2$  \n",
    "$H_1$ : $\\mu_1 \\neq \\mu_2$"
   ]
  },
  {
   "cell_type": "code",
   "execution_count": 155,
   "metadata": {
    "vscode": {
     "languageId": "r"
    }
   },
   "outputs": [
    {
     "data": {
      "text/plain": [
       "\n",
       "\tWelch Two Sample t-test\n",
       "\n",
       "data:  Ventes by Region\n",
       "t = 1.146, df = 249.83, p-value = 0.2529\n",
       "alternative hypothesis: true difference in means between group 0 and group 1 is not equal to 0\n",
       "95 percent confidence interval:\n",
       " -0.2728957  1.0324287\n",
       "sample estimates:\n",
       "mean in group 0 mean in group 1 \n",
       "       7.572034        7.192267 \n"
      ]
     },
     "metadata": {},
     "output_type": "display_data"
    }
   ],
   "source": [
    "moyTest <- t.test(Ventes ~ Region , data=alldata, alternative = \"two.sided\", paired = FALSE)\n",
    "moyTest"
   ]
  },
  {
   "attachments": {},
   "cell_type": "markdown",
   "metadata": {},
   "source": [
    "Comme p-value = 0.2529 > $\\alpha = 0.05$, on ne rejette pas $H_0$ donc le test sur les moyennes montre que les deux régions ont des moyennes que ne diffèrent pas significativement au seuil $\\alpha$ = 5%.\t\n",
    "<br>\n",
    "<br>\n",
    "<br>\n"
   ]
  },
  {
   "attachments": {},
   "cell_type": "markdown",
   "metadata": {},
   "source": [
    "## Phase 2 : Recherche du meilleur modèle"
   ]
  },
  {
   "attachments": {},
   "cell_type": "markdown",
   "metadata": {},
   "source": [
    "### c)\n",
    "\n",
    "#### Modèle 1 --- $Y = \\beta_0 +\\beta_1 X_1 + \\epsilon$"
   ]
  },
  {
   "cell_type": "code",
   "execution_count": 160,
   "metadata": {
    "vscode": {
     "languageId": "r"
    }
   },
   "outputs": [],
   "source": [
    "price <- mondata$Price\n",
    "sales <- mondata$Sales\n",
    "\n",
    "linModel1 <- lm(sales ~ price)\n",
    "summaryLinModel1 <- summary(linModel1)"
   ]
  },
  {
   "attachments": {},
   "cell_type": "markdown",
   "metadata": {},
   "source": [
    "Tableau coefficient de regression\n"
   ]
  },
  {
   "cell_type": "code",
   "execution_count": 161,
   "metadata": {
    "vscode": {
     "languageId": "r"
    }
   },
   "outputs": [
    {
     "data": {
      "text/html": [
       "<table class=\"dataframe\">\n",
       "<caption>A matrix: 2 × 4 of type dbl</caption>\n",
       "<thead>\n",
       "\t<tr><th></th><th scope=col>Estimate</th><th scope=col>Std. Error</th><th scope=col>t value</th><th scope=col>Pr(&gt;|t|)</th></tr>\n",
       "</thead>\n",
       "<tbody>\n",
       "\t<tr><th scope=row>(Intercept)</th><td>13.99532506</td><td>0.990598399</td><td>14.128152</td><td>1.389760e-31</td></tr>\n",
       "\t<tr><th scope=row>price</th><td>-0.05719668</td><td>0.008480086</td><td>-6.744823</td><td>1.735095e-10</td></tr>\n",
       "</tbody>\n",
       "</table>\n"
      ],
      "text/latex": [
       "A matrix: 2 × 4 of type dbl\n",
       "\\begin{tabular}{r|llll}\n",
       "  & Estimate & Std. Error & t value & Pr(>\\textbar{}t\\textbar{})\\\\\n",
       "\\hline\n",
       "\t(Intercept) & 13.99532506 & 0.990598399 & 14.128152 & 1.389760e-31\\\\\n",
       "\tprice & -0.05719668 & 0.008480086 & -6.744823 & 1.735095e-10\\\\\n",
       "\\end{tabular}\n"
      ],
      "text/markdown": [
       "\n",
       "A matrix: 2 × 4 of type dbl\n",
       "\n",
       "| <!--/--> | Estimate | Std. Error | t value | Pr(&gt;|t|) |\n",
       "|---|---|---|---|---|\n",
       "| (Intercept) | 13.99532506 | 0.990598399 | 14.128152 | 1.389760e-31 |\n",
       "| price | -0.05719668 | 0.008480086 | -6.744823 | 1.735095e-10 |\n",
       "\n"
      ],
      "text/plain": [
       "            Estimate    Std. Error  t value   Pr(>|t|)    \n",
       "(Intercept) 13.99532506 0.990598399 14.128152 1.389760e-31\n",
       "price       -0.05719668 0.008480086 -6.744823 1.735095e-10"
      ]
     },
     "metadata": {},
     "output_type": "display_data"
    }
   ],
   "source": [
    "summaryLinModel1$coefficients"
   ]
  },
  {
   "attachments": {},
   "cell_type": "markdown",
   "metadata": {},
   "source": [
    "Tableau analyse de variance \n"
   ]
  },
  {
   "cell_type": "code",
   "execution_count": 162,
   "metadata": {
    "vscode": {
     "languageId": "r"
    }
   },
   "outputs": [
    {
     "data": {
      "text/html": [
       "<table class=\"dataframe\">\n",
       "<caption>A anova: 2 × 5</caption>\n",
       "<thead>\n",
       "\t<tr><th></th><th scope=col>Df</th><th scope=col>Sum Sq</th><th scope=col>Mean Sq</th><th scope=col>F value</th><th scope=col>Pr(&gt;F)</th></tr>\n",
       "\t<tr><th></th><th scope=col>&lt;int&gt;</th><th scope=col>&lt;dbl&gt;</th><th scope=col>&lt;dbl&gt;</th><th scope=col>&lt;dbl&gt;</th><th scope=col>&lt;dbl&gt;</th></tr>\n",
       "</thead>\n",
       "<tbody>\n",
       "\t<tr><th scope=row>price</th><td>  1</td><td> 287.9098</td><td>287.909849</td><td>45.49264</td><td>1.735095e-10</td></tr>\n",
       "\t<tr><th scope=row>Residuals</th><td>193</td><td>1221.4416</td><td>  6.328713</td><td>      NA</td><td>          NA</td></tr>\n",
       "</tbody>\n",
       "</table>\n"
      ],
      "text/latex": [
       "A anova: 2 × 5\n",
       "\\begin{tabular}{r|lllll}\n",
       "  & Df & Sum Sq & Mean Sq & F value & Pr(>F)\\\\\n",
       "  & <int> & <dbl> & <dbl> & <dbl> & <dbl>\\\\\n",
       "\\hline\n",
       "\tprice &   1 &  287.9098 & 287.909849 & 45.49264 & 1.735095e-10\\\\\n",
       "\tResiduals & 193 & 1221.4416 &   6.328713 &       NA &           NA\\\\\n",
       "\\end{tabular}\n"
      ],
      "text/markdown": [
       "\n",
       "A anova: 2 × 5\n",
       "\n",
       "| <!--/--> | Df &lt;int&gt; | Sum Sq &lt;dbl&gt; | Mean Sq &lt;dbl&gt; | F value &lt;dbl&gt; | Pr(&gt;F) &lt;dbl&gt; |\n",
       "|---|---|---|---|---|---|\n",
       "| price |   1 |  287.9098 | 287.909849 | 45.49264 | 1.735095e-10 |\n",
       "| Residuals | 193 | 1221.4416 |   6.328713 |       NA |           NA |\n",
       "\n"
      ],
      "text/plain": [
       "          Df  Sum Sq    Mean Sq    F value  Pr(>F)      \n",
       "price       1  287.9098 287.909849 45.49264 1.735095e-10\n",
       "Residuals 193 1221.4416   6.328713       NA           NA"
      ]
     },
     "metadata": {},
     "output_type": "display_data"
    }
   ],
   "source": [
    "anova(linModel1)"
   ]
  },
  {
   "attachments": {},
   "cell_type": "markdown",
   "metadata": {},
   "source": [
    "\n",
    "Tester la signification du modèle"
   ]
  },
  {
   "cell_type": "code",
   "execution_count": 163,
   "metadata": {
    "vscode": {
     "languageId": "r"
    }
   },
   "outputs": [
    {
     "data": {
      "text/plain": [
       "\n",
       "Call:\n",
       "lm(formula = sales ~ price)\n",
       "\n",
       "Residuals:\n",
       "    Min      1Q  Median      3Q     Max \n",
       "-6.3981 -1.8418 -0.0021  1.5515  7.0590 \n",
       "\n",
       "Coefficients:\n",
       "            Estimate Std. Error t value Pr(>|t|)    \n",
       "(Intercept) 13.99532    0.99060  14.128  < 2e-16 ***\n",
       "price       -0.05720    0.00848  -6.745 1.74e-10 ***\n",
       "---\n",
       "Signif. codes:  0 '***' 0.001 '**' 0.01 '*' 0.05 '.' 0.1 ' ' 1\n",
       "\n",
       "Residual standard error: 2.516 on 193 degrees of freedom\n",
       "Multiple R-squared:  0.1908,\tAdjusted R-squared:  0.1866 \n",
       "F-statistic: 45.49 on 1 and 193 DF,  p-value: 1.735e-10\n"
      ]
     },
     "metadata": {},
     "output_type": "display_data"
    }
   ],
   "source": [
    "summaryLinModel1"
   ]
  },
  {
   "attachments": {},
   "cell_type": "markdown",
   "metadata": {},
   "source": [
    "Nuage de point du modèle 1"
   ]
  },
  {
   "cell_type": "code",
   "execution_count": 164,
   "metadata": {
    "vscode": {
     "languageId": "r"
    }
   },
   "outputs": [
    {
     "data": {
      "image/png": "[encoded data removed]",
      "text/plain": [
       "Plot with title \"Nuage de points des ventes en fonction du prix\""
      ]
     },
     "metadata": {
      "image/png": {
       "height": 600,
       "width": 600
      }
     },
     "output_type": "display_data"
    }
   ],
   "source": [
    "plot(mondata$Price, mondata$Sales, main=\"Nuage de points des ventes en fonction du prix\", xlab=\"Prix\", ylab=\"Ventes\", col=\"#ff0000\")\n",
    "abline(linModel1)"
   ]
  },
  {
   "cell_type": "code",
   "execution_count": 165,
   "metadata": {
    "vscode": {
     "languageId": "r"
    }
   },
   "outputs": [
    {
     "data": {
      "image/png": "[encoded data removed]",
      "text/plain": [
       "Plot with title \"\""
      ]
     },
     "metadata": {
      "image/png": {
       "height": 600,
       "width": 600
      }
     },
     "output_type": "display_data"
    }
   ],
   "source": [
    "par(mfrow = c(2,2)) \n",
    "plot(linModel1)"
   ]
  },
  {
   "attachments": {},
   "cell_type": "markdown",
   "metadata": {},
   "source": [
    "__Test significativité du modèle 1 :__    \n",
    "Hypothèse $H_0 : \\beta_1 = 0$ et $H_1 : \\beta_1 \\neq 0$  \n",
    "On a p-value = 1.735e-10 < $\\alpha = 0.05$ On rejete $H_0$  \n",
    "On à donc que le modèle est significatif au seuil $\\alpha = 5$%\n",
    "\n",
    "__Évaluation validité du modèle 1  :__    \n",
    "Le modèle n'est pas très valide car R² = 0.1908 or plus R² est proche de 1, plus la variabilité des valeurs est expliqué par le modèle. \n",
    "\n",
    "__Analyse des résidus du modèle 1 :__  \n",
    "- Les résidus suivent la droite de normalité, l'hypothèse de normalité est donc respectée. \n",
    "- Les résidus sont répartis de façon homogène autour de 0 dans l'intervalle [4, 10] et on a une homoscédasticité des valeurs qui est valide.\n",
    "- le modèle à trois point atipiques qui peuvent fausser le modèle. On peut les supprimer pour améliorer le modèle."
   ]
  },
  {
   "attachments": {},
   "cell_type": "markdown",
   "metadata": {},
   "source": [
    "Intervale de confiance $\\beta_0$ et $\\beta_1$ :"
   ]
  },
  {
   "cell_type": "code",
   "execution_count": 166,
   "metadata": {
    "vscode": {
     "languageId": "r"
    }
   },
   "outputs": [
    {
     "data": {
      "text/html": [
       "<table class=\"dataframe\">\n",
       "<caption>A matrix: 2 × 2 of type dbl</caption>\n",
       "<thead>\n",
       "\t<tr><th></th><th scope=col>2.5 %</th><th scope=col>97.5 %</th></tr>\n",
       "</thead>\n",
       "<tbody>\n",
       "\t<tr><th scope=row>(Intercept)</th><td>12.04153646</td><td>15.94911366</td></tr>\n",
       "\t<tr><th scope=row>price</th><td>-0.07392222</td><td>-0.04047114</td></tr>\n",
       "</tbody>\n",
       "</table>\n"
      ],
      "text/latex": [
       "A matrix: 2 × 2 of type dbl\n",
       "\\begin{tabular}{r|ll}\n",
       "  & 2.5 \\% & 97.5 \\%\\\\\n",
       "\\hline\n",
       "\t(Intercept) & 12.04153646 & 15.94911366\\\\\n",
       "\tprice & -0.07392222 & -0.04047114\\\\\n",
       "\\end{tabular}\n"
      ],
      "text/markdown": [
       "\n",
       "A matrix: 2 × 2 of type dbl\n",
       "\n",
       "| <!--/--> | 2.5 % | 97.5 % |\n",
       "|---|---|---|\n",
       "| (Intercept) | 12.04153646 | 15.94911366 |\n",
       "| price | -0.07392222 | -0.04047114 |\n",
       "\n"
      ],
      "text/plain": [
       "            2.5 %       97.5 %     \n",
       "(Intercept) 12.04153646 15.94911366\n",
       "price       -0.07392222 -0.04047114"
      ]
     },
     "metadata": {},
     "output_type": "display_data"
    }
   ],
   "source": [
    "confint(linModel1)"
   ]
  },
  {
   "attachments": {},
   "cell_type": "markdown",
   "metadata": {},
   "source": [
    "À 95% on a $\\beta_0 \\in [12.12653560, 15.0994715]$ et $\\beta_1 \\in [-0.06686684, -0.0416163]$.  \n",
    "<br>\n",
    "<br>\n"
   ]
  },
  {
   "attachments": {},
   "cell_type": "markdown",
   "metadata": {},
   "source": [
    "#### Modèle 2 --- $Y = \\beta_0 X_1^{\\beta_1} e^{\\epsilon}$  \n",
    "Équation transformée : $ln(Y) = ln(\\beta_0) + \\beta_1 ln(X_1) + \\epsilon$\n"
   ]
  },
  {
   "cell_type": "code",
   "execution_count": 167,
   "metadata": {
    "vscode": {
     "languageId": "r"
    }
   },
   "outputs": [],
   "source": [
    "linModel2 <- lm(log(mondata$Sales) ~ log(mondata$Price))\n",
    "summaryLinModel2 <- summary(linModel2)"
   ]
  },
  {
   "attachments": {},
   "cell_type": "markdown",
   "metadata": {},
   "source": [
    "Tableau coefficient de regression\n"
   ]
  },
  {
   "cell_type": "code",
   "execution_count": 168,
   "metadata": {
    "vscode": {
     "languageId": "r"
    }
   },
   "outputs": [
    {
     "data": {
      "text/html": [
       "<table class=\"dataframe\">\n",
       "<caption>A matrix: 2 × 4 of type dbl</caption>\n",
       "<thead>\n",
       "\t<tr><th></th><th scope=col>Estimate</th><th scope=col>Std. Error</th><th scope=col>t value</th><th scope=col>Pr(&gt;|t|)</th></tr>\n",
       "</thead>\n",
       "<tbody>\n",
       "\t<tr><th scope=row>(Intercept)</th><td> 7.027436</td><td>0.8776213</td><td> 8.007368</td><td>1.076999e-13</td></tr>\n",
       "\t<tr><th scope=row>log(mondata$Price)</th><td>-1.084843</td><td>0.1855614</td><td>-5.846276</td><td>2.112914e-08</td></tr>\n",
       "</tbody>\n",
       "</table>\n"
      ],
      "text/latex": [
       "A matrix: 2 × 4 of type dbl\n",
       "\\begin{tabular}{r|llll}\n",
       "  & Estimate & Std. Error & t value & Pr(>\\textbar{}t\\textbar{})\\\\\n",
       "\\hline\n",
       "\t(Intercept) &  7.027436 & 0.8776213 &  8.007368 & 1.076999e-13\\\\\n",
       "\tlog(mondata\\$Price) & -1.084843 & 0.1855614 & -5.846276 & 2.112914e-08\\\\\n",
       "\\end{tabular}\n"
      ],
      "text/markdown": [
       "\n",
       "A matrix: 2 × 4 of type dbl\n",
       "\n",
       "| <!--/--> | Estimate | Std. Error | t value | Pr(&gt;|t|) |\n",
       "|---|---|---|---|---|\n",
       "| (Intercept) |  7.027436 | 0.8776213 |  8.007368 | 1.076999e-13 |\n",
       "| log(mondata$Price) | -1.084843 | 0.1855614 | -5.846276 | 2.112914e-08 |\n",
       "\n"
      ],
      "text/plain": [
       "                   Estimate  Std. Error t value   Pr(>|t|)    \n",
       "(Intercept)         7.027436 0.8776213   8.007368 1.076999e-13\n",
       "log(mondata$Price) -1.084843 0.1855614  -5.846276 2.112914e-08"
      ]
     },
     "metadata": {},
     "output_type": "display_data"
    }
   ],
   "source": [
    "summaryLinModel2$coefficients"
   ]
  },
  {
   "attachments": {},
   "cell_type": "markdown",
   "metadata": {},
   "source": [
    "Tableau analyse de variance"
   ]
  },
  {
   "cell_type": "code",
   "execution_count": 169,
   "metadata": {
    "vscode": {
     "languageId": "r"
    }
   },
   "outputs": [
    {
     "data": {
      "text/html": [
       "<table class=\"dataframe\">\n",
       "<caption>A anova: 2 × 5</caption>\n",
       "<thead>\n",
       "\t<tr><th></th><th scope=col>Df</th><th scope=col>Sum Sq</th><th scope=col>Mean Sq</th><th scope=col>F value</th><th scope=col>Pr(&gt;F)</th></tr>\n",
       "\t<tr><th></th><th scope=col>&lt;int&gt;</th><th scope=col>&lt;dbl&gt;</th><th scope=col>&lt;dbl&gt;</th><th scope=col>&lt;dbl&gt;</th><th scope=col>&lt;dbl&gt;</th></tr>\n",
       "</thead>\n",
       "<tbody>\n",
       "\t<tr><th scope=row>log(mondata$Price)</th><td>  1</td><td> 8.807513</td><td>8.8075133</td><td>34.17895</td><td>2.112914e-08</td></tr>\n",
       "\t<tr><th scope=row>Residuals</th><td>193</td><td>49.733834</td><td>0.2576883</td><td>      NA</td><td>          NA</td></tr>\n",
       "</tbody>\n",
       "</table>\n"
      ],
      "text/latex": [
       "A anova: 2 × 5\n",
       "\\begin{tabular}{r|lllll}\n",
       "  & Df & Sum Sq & Mean Sq & F value & Pr(>F)\\\\\n",
       "  & <int> & <dbl> & <dbl> & <dbl> & <dbl>\\\\\n",
       "\\hline\n",
       "\tlog(mondata\\$Price) &   1 &  8.807513 & 8.8075133 & 34.17895 & 2.112914e-08\\\\\n",
       "\tResiduals & 193 & 49.733834 & 0.2576883 &       NA &           NA\\\\\n",
       "\\end{tabular}\n"
      ],
      "text/markdown": [
       "\n",
       "A anova: 2 × 5\n",
       "\n",
       "| <!--/--> | Df &lt;int&gt; | Sum Sq &lt;dbl&gt; | Mean Sq &lt;dbl&gt; | F value &lt;dbl&gt; | Pr(&gt;F) &lt;dbl&gt; |\n",
       "|---|---|---|---|---|---|\n",
       "| log(mondata$Price) |   1 |  8.807513 | 8.8075133 | 34.17895 | 2.112914e-08 |\n",
       "| Residuals | 193 | 49.733834 | 0.2576883 |       NA |           NA |\n",
       "\n"
      ],
      "text/plain": [
       "                   Df  Sum Sq    Mean Sq   F value  Pr(>F)      \n",
       "log(mondata$Price)   1  8.807513 8.8075133 34.17895 2.112914e-08\n",
       "Residuals          193 49.733834 0.2576883       NA           NA"
      ]
     },
     "metadata": {},
     "output_type": "display_data"
    }
   ],
   "source": [
    "anova(linModel2)"
   ]
  },
  {
   "attachments": {},
   "cell_type": "markdown",
   "metadata": {},
   "source": [
    "Tester la signification du modèle"
   ]
  },
  {
   "cell_type": "code",
   "execution_count": 170,
   "metadata": {
    "vscode": {
     "languageId": "r"
    }
   },
   "outputs": [
    {
     "data": {
      "text/plain": [
       "\n",
       "Call:\n",
       "lm(formula = log(mondata$Sales) ~ log(mondata$Price))\n",
       "\n",
       "Residuals:\n",
       "    Min      1Q  Median      3Q     Max \n",
       "-3.5069 -0.1872  0.0839  0.2781  0.8805 \n",
       "\n",
       "Coefficients:\n",
       "                   Estimate Std. Error t value Pr(>|t|)    \n",
       "(Intercept)          7.0274     0.8776   8.007 1.08e-13 ***\n",
       "log(mondata$Price)  -1.0848     0.1856  -5.846 2.11e-08 ***\n",
       "---\n",
       "Signif. codes:  0 '***' 0.001 '**' 0.01 '*' 0.05 '.' 0.1 ' ' 1\n",
       "\n",
       "Residual standard error: 0.5076 on 193 degrees of freedom\n",
       "Multiple R-squared:  0.1504,\tAdjusted R-squared:  0.146 \n",
       "F-statistic: 34.18 on 1 and 193 DF,  p-value: 2.113e-08\n"
      ]
     },
     "metadata": {},
     "output_type": "display_data"
    }
   ],
   "source": [
    "summaryLinModel2"
   ]
  },
  {
   "attachments": {},
   "cell_type": "markdown",
   "metadata": {},
   "source": [
    "Nuage de point du modèle 2"
   ]
  },
  {
   "cell_type": "code",
   "execution_count": 171,
   "metadata": {
    "vscode": {
     "languageId": "r"
    }
   },
   "outputs": [
    {
     "data": {
      "image/png": "[encoded data removed]",
      "text/plain": [
       "Plot with title \"Nuage de points des ventes en fonction du prix\""
      ]
     },
     "metadata": {
      "image/png": {
       "height": 600,
       "width": 600
      }
     },
     "output_type": "display_data"
    }
   ],
   "source": [
    "plot(log(mondata$Price), log(mondata$Sales), main=\"Nuage de points des ventes en fonction du prix\", xlab=\"Prix\", ylab=\"Ventes\", col=\"#ff0000\")\n",
    "abline(linModel2)"
   ]
  },
  {
   "cell_type": "code",
   "execution_count": 172,
   "metadata": {
    "vscode": {
     "languageId": "r"
    }
   },
   "outputs": [
    {
     "data": {
      "image/png": "[encoded data removed]",
      "text/plain": [
       "Plot with title \"\""
      ]
     },
     "metadata": {
      "image/png": {
       "height": 600,
       "width": 600
      }
     },
     "output_type": "display_data"
    }
   ],
   "source": [
    "par(mfrow = c(2,2))\n",
    "plot(linModel2)"
   ]
  },
  {
   "attachments": {},
   "cell_type": "markdown",
   "metadata": {},
   "source": [
    "__Test significativité du modèle 1 :__    \n",
    "Hypothèse $H_0 : \\beta_1 = 0$ et $H_1 : \\beta_1 \\neq 0$  \n",
    "On a p-value = 2.113e-08 < $\\alpha = 0.05$ On rejete $H_0$  \n",
    "On à donc que le modèle est significatif au seuil $\\alpha = 5$%\n",
    "\n",
    "__Évaluation validité du modèle 1  :__    \n",
    "Le modèle n'est pas très valide car R² = 0.1504 où plus R² est proche de 1, plus la variabilité des valeurs est expliqué par le modèle.  \n",
    "\n",
    "__Analyse des résidus du modèle 1 :__  \n",
    "- Les résidus suivent assez bien la droite de normalité, l'hypothèse de normalité est donc respectée. \n",
    "- Les résidus sont répartis de façon homogène autour de la droite dans l'intervalle [1.5, 2.5] \n",
    "- L'homoscédasticité des valeurs n'est très bonne car on observe une forme d'entonnoire vers la fin de l'intervalle\n",
    "- le modèle à trois point atipiques qui peuvent fausser le modèle. On peut les supprimer pour améliorer le modèle.\n"
   ]
  },
  {
   "attachments": {},
   "cell_type": "markdown",
   "metadata": {},
   "source": [
    "Intervale de confiance $\\beta_0$ et $\\beta_1$ :"
   ]
  },
  {
   "cell_type": "code",
   "execution_count": 173,
   "metadata": {
    "vscode": {
     "languageId": "r"
    }
   },
   "outputs": [
    {
     "data": {
      "text/html": [
       "<table class=\"dataframe\">\n",
       "<caption>A matrix: 2 × 2 of type dbl</caption>\n",
       "<thead>\n",
       "\t<tr><th></th><th scope=col>2.5 %</th><th scope=col>97.5 %</th></tr>\n",
       "</thead>\n",
       "<tbody>\n",
       "\t<tr><th scope=row>(Intercept)</th><td> 5.296476</td><td> 8.7583965</td></tr>\n",
       "\t<tr><th scope=row>log(mondata$Price)</th><td>-1.450832</td><td>-0.7188545</td></tr>\n",
       "</tbody>\n",
       "</table>\n"
      ],
      "text/latex": [
       "A matrix: 2 × 2 of type dbl\n",
       "\\begin{tabular}{r|ll}\n",
       "  & 2.5 \\% & 97.5 \\%\\\\\n",
       "\\hline\n",
       "\t(Intercept) &  5.296476 &  8.7583965\\\\\n",
       "\tlog(mondata\\$Price) & -1.450832 & -0.7188545\\\\\n",
       "\\end{tabular}\n"
      ],
      "text/markdown": [
       "\n",
       "A matrix: 2 × 2 of type dbl\n",
       "\n",
       "| <!--/--> | 2.5 % | 97.5 % |\n",
       "|---|---|---|\n",
       "| (Intercept) |  5.296476 |  8.7583965 |\n",
       "| log(mondata$Price) | -1.450832 | -0.7188545 |\n",
       "\n"
      ],
      "text/plain": [
       "                   2.5 %     97.5 %    \n",
       "(Intercept)         5.296476  8.7583965\n",
       "log(mondata$Price) -1.450832 -0.7188545"
      ]
     },
     "metadata": {},
     "output_type": "display_data"
    }
   ],
   "source": [
    "confint(linModel2)"
   ]
  },
  {
   "attachments": {},
   "cell_type": "markdown",
   "metadata": {},
   "source": [
    "À 95% on a $\\beta_0 \\in [5.085692\t, 7.5340537]$ et $\\beta_1 \\in [-1.192916, -0.6755866]$.  \n",
    "<br>\n",
    "<br>"
   ]
  },
  {
   "cell_type": "markdown",
   "metadata": {},
   "source": [
    "#### Modèle 3 --- $Y = \\beta_0 e^{\\beta_1 X_1 + \\epsilon}$  \n",
    "Équation transformée : $ln(Y) = ln(\\beta_0) + \\beta_1 X_1 + \\epsilon$"
   ]
  },
  {
   "cell_type": "code",
   "execution_count": 174,
   "metadata": {
    "vscode": {
     "languageId": "r"
    }
   },
   "outputs": [],
   "source": [
    "linModel3 <- lm(log(mondata$Sales) ~ mondata$Price)\n",
    "summaryLinModel3 <- summary(linModel3)"
   ]
  },
  {
   "cell_type": "markdown",
   "metadata": {},
   "source": [
    "Tableau coefficient de regression"
   ]
  },
  {
   "cell_type": "code",
   "execution_count": 175,
   "metadata": {
    "vscode": {
     "languageId": "r"
    }
   },
   "outputs": [
    {
     "data": {
      "text/html": [
       "<table class=\"dataframe\">\n",
       "<caption>A matrix: 2 × 4 of type dbl</caption>\n",
       "<thead>\n",
       "\t<tr><th></th><th scope=col>Estimate</th><th scope=col>Std. Error</th><th scope=col>t value</th><th scope=col>Pr(&gt;|t|)</th></tr>\n",
       "</thead>\n",
       "<tbody>\n",
       "\t<tr><th scope=row>(Intercept)</th><td> 3.11012244</td><td>0.197983079</td><td>15.709032</td><td>2.328086e-36</td></tr>\n",
       "\t<tr><th scope=row>mondata$Price</th><td>-0.01052611</td><td>0.001694848</td><td>-6.210652</td><td>3.172007e-09</td></tr>\n",
       "</tbody>\n",
       "</table>\n"
      ],
      "text/latex": [
       "A matrix: 2 × 4 of type dbl\n",
       "\\begin{tabular}{r|llll}\n",
       "  & Estimate & Std. Error & t value & Pr(>\\textbar{}t\\textbar{})\\\\\n",
       "\\hline\n",
       "\t(Intercept) &  3.11012244 & 0.197983079 & 15.709032 & 2.328086e-36\\\\\n",
       "\tmondata\\$Price & -0.01052611 & 0.001694848 & -6.210652 & 3.172007e-09\\\\\n",
       "\\end{tabular}\n"
      ],
      "text/markdown": [
       "\n",
       "A matrix: 2 × 4 of type dbl\n",
       "\n",
       "| <!--/--> | Estimate | Std. Error | t value | Pr(&gt;|t|) |\n",
       "|---|---|---|---|---|\n",
       "| (Intercept) |  3.11012244 | 0.197983079 | 15.709032 | 2.328086e-36 |\n",
       "| mondata$Price | -0.01052611 | 0.001694848 | -6.210652 | 3.172007e-09 |\n",
       "\n"
      ],
      "text/plain": [
       "              Estimate    Std. Error  t value   Pr(>|t|)    \n",
       "(Intercept)    3.11012244 0.197983079 15.709032 2.328086e-36\n",
       "mondata$Price -0.01052611 0.001694848 -6.210652 3.172007e-09"
      ]
     },
     "metadata": {},
     "output_type": "display_data"
    }
   ],
   "source": [
    "summaryLinModel3$coefficients"
   ]
  },
  {
   "cell_type": "markdown",
   "metadata": {},
   "source": [
    "Tableau analyse de variance "
   ]
  },
  {
   "cell_type": "code",
   "execution_count": 176,
   "metadata": {
    "vscode": {
     "languageId": "r"
    }
   },
   "outputs": [
    {
     "data": {
      "text/html": [
       "<table class=\"dataframe\">\n",
       "<caption>A anova: 2 × 5</caption>\n",
       "<thead>\n",
       "\t<tr><th></th><th scope=col>Df</th><th scope=col>Sum Sq</th><th scope=col>Mean Sq</th><th scope=col>F value</th><th scope=col>Pr(&gt;F)</th></tr>\n",
       "\t<tr><th></th><th scope=col>&lt;int&gt;</th><th scope=col>&lt;dbl&gt;</th><th scope=col>&lt;dbl&gt;</th><th scope=col>&lt;dbl&gt;</th><th scope=col>&lt;dbl&gt;</th></tr>\n",
       "</thead>\n",
       "<tbody>\n",
       "\t<tr><th scope=row>mondata$Price</th><td>  1</td><td> 9.751034</td><td>9.7510336</td><td>38.57219</td><td>3.172007e-09</td></tr>\n",
       "\t<tr><th scope=row>Residuals</th><td>193</td><td>48.790314</td><td>0.2527996</td><td>      NA</td><td>          NA</td></tr>\n",
       "</tbody>\n",
       "</table>\n"
      ],
      "text/latex": [
       "A anova: 2 × 5\n",
       "\\begin{tabular}{r|lllll}\n",
       "  & Df & Sum Sq & Mean Sq & F value & Pr(>F)\\\\\n",
       "  & <int> & <dbl> & <dbl> & <dbl> & <dbl>\\\\\n",
       "\\hline\n",
       "\tmondata\\$Price &   1 &  9.751034 & 9.7510336 & 38.57219 & 3.172007e-09\\\\\n",
       "\tResiduals & 193 & 48.790314 & 0.2527996 &       NA &           NA\\\\\n",
       "\\end{tabular}\n"
      ],
      "text/markdown": [
       "\n",
       "A anova: 2 × 5\n",
       "\n",
       "| <!--/--> | Df &lt;int&gt; | Sum Sq &lt;dbl&gt; | Mean Sq &lt;dbl&gt; | F value &lt;dbl&gt; | Pr(&gt;F) &lt;dbl&gt; |\n",
       "|---|---|---|---|---|---|\n",
       "| mondata$Price |   1 |  9.751034 | 9.7510336 | 38.57219 | 3.172007e-09 |\n",
       "| Residuals | 193 | 48.790314 | 0.2527996 |       NA |           NA |\n",
       "\n"
      ],
      "text/plain": [
       "              Df  Sum Sq    Mean Sq   F value  Pr(>F)      \n",
       "mondata$Price   1  9.751034 9.7510336 38.57219 3.172007e-09\n",
       "Residuals     193 48.790314 0.2527996       NA           NA"
      ]
     },
     "metadata": {},
     "output_type": "display_data"
    }
   ],
   "source": [
    "anova(linModel3)"
   ]
  },
  {
   "cell_type": "markdown",
   "metadata": {},
   "source": [
    "Tester la signification du modèle"
   ]
  },
  {
   "cell_type": "code",
   "execution_count": 177,
   "metadata": {
    "vscode": {
     "languageId": "r"
    }
   },
   "outputs": [
    {
     "data": {
      "text/plain": [
       "\n",
       "Call:\n",
       "lm(formula = log(mondata$Sales) ~ mondata$Price)\n",
       "\n",
       "Residuals:\n",
       "    Min      1Q  Median      3Q     Max \n",
       "-3.4796 -0.1954  0.0888  0.2671  0.8949 \n",
       "\n",
       "Coefficients:\n",
       "               Estimate Std. Error t value Pr(>|t|)    \n",
       "(Intercept)    3.110122   0.197983  15.709  < 2e-16 ***\n",
       "mondata$Price -0.010526   0.001695  -6.211 3.17e-09 ***\n",
       "---\n",
       "Signif. codes:  0 '***' 0.001 '**' 0.01 '*' 0.05 '.' 0.1 ' ' 1\n",
       "\n",
       "Residual standard error: 0.5028 on 193 degrees of freedom\n",
       "Multiple R-squared:  0.1666,\tAdjusted R-squared:  0.1622 \n",
       "F-statistic: 38.57 on 1 and 193 DF,  p-value: 3.172e-09\n"
      ]
     },
     "metadata": {},
     "output_type": "display_data"
    }
   ],
   "source": [
    "summaryLinModel3"
   ]
  },
  {
   "cell_type": "markdown",
   "metadata": {},
   "source": [
    "Nuage de point du modèle 3"
   ]
  },
  {
   "cell_type": "code",
   "execution_count": 178,
   "metadata": {
    "vscode": {
     "languageId": "r"
    }
   },
   "outputs": [
    {
     "data": {
      "image/png": "[encoded data removed]",
      "text/plain": [
       "Plot with title \"Nuage de points des ventes en fonction du prix\""
      ]
     },
     "metadata": {
      "image/png": {
       "height": 600,
       "width": 600
      }
     },
     "output_type": "display_data"
    }
   ],
   "source": [
    "plot(mondata$Price, log(mondata$Sales), main=\"Nuage de points des ventes en fonction du prix\", xlab=\"Prix\", ylab=\"Ventes\", col=\"#ff0000\")\n",
    "abline(linModel3)"
   ]
  },
  {
   "cell_type": "code",
   "execution_count": 179,
   "metadata": {
    "vscode": {
     "languageId": "r"
    }
   },
   "outputs": [
    {
     "data": {
      "image/png": "[encoded data removed]",
      "text/plain": [
       "Plot with title \"\""
      ]
     },
     "metadata": {
      "image/png": {
       "height": 600,
       "width": 600
      }
     },
     "output_type": "display_data"
    }
   ],
   "source": [
    "par(mfrow = c(2,2))\n",
    "plot(linModel3)"
   ]
  },
  {
   "attachments": {},
   "cell_type": "markdown",
   "metadata": {},
   "source": [
    "__Test significativité du modèle 3 :__    \n",
    "Hypothèse $H_0 : \\beta_1 = 0$ et $H_1 : \\beta_1 \\neq 0$  \n",
    "On a p-value = 3.172e-09 < $\\alpha = 0.05$ On rejete $H_0$  \n",
    "On à donc que le modèle est significatif au seuil $\\alpha = 5$%\n",
    "\n",
    "__Évaluation validité du modèle 3 :__    \n",
    "Le modèle 3 est plus représentatif que le modèle 2 mais moins que le 1, car on y retrouve R² = 0.1666. On sait aussi que plus R² est proche de 1, plus la variabilité des valeurs est expliqué par le modèle. \n",
    "Cependant cette valeur est assez éloignée de 1, ce qui montre que le modèle n'est pas très valide.\n",
    "\n",
    "__Analyse des résidus du modèle 3 :__  \n",
    "- Les résidus suivent assez bien la droite de normalité, l'hypothèse de normalité est donc respectée. \n",
    "- Les résidus sont répartis de façon homogène autour de la droite.\n",
    "- L'homoscédasticité des valeurs est assez bonne, on observe un léger retrésissement vers la fin de l'intervalle.\n",
    "- Quelques point atipiques qui peuvent fausser le modèle. On peut les supprimer pour améliorer le modèle."
   ]
  },
  {
   "cell_type": "markdown",
   "metadata": {},
   "source": [
    "Intervale de confiance $\\beta_0$ et $\\beta_1$ :"
   ]
  },
  {
   "cell_type": "code",
   "execution_count": 180,
   "metadata": {
    "vscode": {
     "languageId": "r"
    }
   },
   "outputs": [
    {
     "data": {
      "text/html": [
       "<table class=\"dataframe\">\n",
       "<caption>A matrix: 2 × 2 of type dbl</caption>\n",
       "<thead>\n",
       "\t<tr><th></th><th scope=col>2.5 %</th><th scope=col>97.5 %</th></tr>\n",
       "</thead>\n",
       "<tbody>\n",
       "\t<tr><th scope=row>(Intercept)</th><td> 2.71963414</td><td> 3.500610737</td></tr>\n",
       "\t<tr><th scope=row>mondata$Price</th><td>-0.01386891</td><td>-0.007183307</td></tr>\n",
       "</tbody>\n",
       "</table>\n"
      ],
      "text/latex": [
       "A matrix: 2 × 2 of type dbl\n",
       "\\begin{tabular}{r|ll}\n",
       "  & 2.5 \\% & 97.5 \\%\\\\\n",
       "\\hline\n",
       "\t(Intercept) &  2.71963414 &  3.500610737\\\\\n",
       "\tmondata\\$Price & -0.01386891 & -0.007183307\\\\\n",
       "\\end{tabular}\n"
      ],
      "text/markdown": [
       "\n",
       "A matrix: 2 × 2 of type dbl\n",
       "\n",
       "| <!--/--> | 2.5 % | 97.5 % |\n",
       "|---|---|---|\n",
       "| (Intercept) |  2.71963414 |  3.500610737 |\n",
       "| mondata$Price | -0.01386891 | -0.007183307 |\n",
       "\n"
      ],
      "text/plain": [
       "              2.5 %       97.5 %      \n",
       "(Intercept)    2.71963414  3.500610737\n",
       "mondata$Price -0.01386891 -0.007183307"
      ]
     },
     "metadata": {},
     "output_type": "display_data"
    }
   ],
   "source": [
    "confint(linModel3)"
   ]
  },
  {
   "attachments": {},
   "cell_type": "markdown",
   "metadata": {},
   "source": [
    "À 95% on a $\\beta_0 \\in [2.75376911, 3.331969180]$ et $\\beta_1 \\in [-0.01240794, -0.007497019]$.  \n",
    "<br>\n",
    "<br>\n"
   ]
  },
  {
   "attachments": {},
   "cell_type": "markdown",
   "metadata": {},
   "source": [
    "#### Modèle 4 --- $Y = \\beta_0 + \\beta_1 X_2 + \\epsilon$"
   ]
  },
  {
   "cell_type": "code",
   "execution_count": 181,
   "metadata": {
    "vscode": {
     "languageId": "r"
    }
   },
   "outputs": [],
   "source": [
    "linModel4 <- lm(mondata$Sales~ mondata$Advertising)\n",
    "summaryLinModel4 <- summary(linModel4)"
   ]
  },
  {
   "cell_type": "markdown",
   "metadata": {},
   "source": [
    "Tableau coefficient de regression"
   ]
  },
  {
   "cell_type": "code",
   "execution_count": 182,
   "metadata": {
    "vscode": {
     "languageId": "r"
    }
   },
   "outputs": [
    {
     "data": {
      "text/html": [
       "<table class=\"dataframe\">\n",
       "<caption>A matrix: 2 × 4 of type dbl</caption>\n",
       "<thead>\n",
       "\t<tr><th></th><th scope=col>Estimate</th><th scope=col>Std. Error</th><th scope=col>t value</th><th scope=col>Pr(&gt;|t|)</th></tr>\n",
       "</thead>\n",
       "<tbody>\n",
       "\t<tr><th scope=row>(Intercept)</th><td>6.5075945</td><td>0.26827938</td><td>24.256782</td><td>1.636539e-60</td></tr>\n",
       "\t<tr><th scope=row>mondata$Advertising</th><td>0.1409127</td><td>0.02920756</td><td> 4.824527</td><td>2.842981e-06</td></tr>\n",
       "</tbody>\n",
       "</table>\n"
      ],
      "text/latex": [
       "A matrix: 2 × 4 of type dbl\n",
       "\\begin{tabular}{r|llll}\n",
       "  & Estimate & Std. Error & t value & Pr(>\\textbar{}t\\textbar{})\\\\\n",
       "\\hline\n",
       "\t(Intercept) & 6.5075945 & 0.26827938 & 24.256782 & 1.636539e-60\\\\\n",
       "\tmondata\\$Advertising & 0.1409127 & 0.02920756 &  4.824527 & 2.842981e-06\\\\\n",
       "\\end{tabular}\n"
      ],
      "text/markdown": [
       "\n",
       "A matrix: 2 × 4 of type dbl\n",
       "\n",
       "| <!--/--> | Estimate | Std. Error | t value | Pr(&gt;|t|) |\n",
       "|---|---|---|---|---|\n",
       "| (Intercept) | 6.5075945 | 0.26827938 | 24.256782 | 1.636539e-60 |\n",
       "| mondata$Advertising | 0.1409127 | 0.02920756 |  4.824527 | 2.842981e-06 |\n",
       "\n"
      ],
      "text/plain": [
       "                    Estimate  Std. Error t value   Pr(>|t|)    \n",
       "(Intercept)         6.5075945 0.26827938 24.256782 1.636539e-60\n",
       "mondata$Advertising 0.1409127 0.02920756  4.824527 2.842981e-06"
      ]
     },
     "metadata": {},
     "output_type": "display_data"
    }
   ],
   "source": [
    "summaryLinModel4$coefficients"
   ]
  },
  {
   "attachments": {},
   "cell_type": "markdown",
   "metadata": {},
   "source": [
    "Tableau analyse de variance "
   ]
  },
  {
   "cell_type": "code",
   "execution_count": 183,
   "metadata": {
    "vscode": {
     "languageId": "r"
    }
   },
   "outputs": [
    {
     "data": {
      "text/html": [
       "<table class=\"dataframe\">\n",
       "<caption>A anova: 2 × 5</caption>\n",
       "<thead>\n",
       "\t<tr><th></th><th scope=col>Df</th><th scope=col>Sum Sq</th><th scope=col>Mean Sq</th><th scope=col>F value</th><th scope=col>Pr(&gt;F)</th></tr>\n",
       "\t<tr><th></th><th scope=col>&lt;int&gt;</th><th scope=col>&lt;dbl&gt;</th><th scope=col>&lt;dbl&gt;</th><th scope=col>&lt;dbl&gt;</th><th scope=col>&lt;dbl&gt;</th></tr>\n",
       "</thead>\n",
       "<tbody>\n",
       "\t<tr><th scope=row>mondata$Advertising</th><td>  1</td><td> 162.4394</td><td>162.439409</td><td>23.27606</td><td>2.842981e-06</td></tr>\n",
       "\t<tr><th scope=row>Residuals</th><td>193</td><td>1346.9120</td><td>  6.978819</td><td>      NA</td><td>          NA</td></tr>\n",
       "</tbody>\n",
       "</table>\n"
      ],
      "text/latex": [
       "A anova: 2 × 5\n",
       "\\begin{tabular}{r|lllll}\n",
       "  & Df & Sum Sq & Mean Sq & F value & Pr(>F)\\\\\n",
       "  & <int> & <dbl> & <dbl> & <dbl> & <dbl>\\\\\n",
       "\\hline\n",
       "\tmondata\\$Advertising &   1 &  162.4394 & 162.439409 & 23.27606 & 2.842981e-06\\\\\n",
       "\tResiduals & 193 & 1346.9120 &   6.978819 &       NA &           NA\\\\\n",
       "\\end{tabular}\n"
      ],
      "text/markdown": [
       "\n",
       "A anova: 2 × 5\n",
       "\n",
       "| <!--/--> | Df &lt;int&gt; | Sum Sq &lt;dbl&gt; | Mean Sq &lt;dbl&gt; | F value &lt;dbl&gt; | Pr(&gt;F) &lt;dbl&gt; |\n",
       "|---|---|---|---|---|---|\n",
       "| mondata$Advertising |   1 |  162.4394 | 162.439409 | 23.27606 | 2.842981e-06 |\n",
       "| Residuals | 193 | 1346.9120 |   6.978819 |       NA |           NA |\n",
       "\n"
      ],
      "text/plain": [
       "                    Df  Sum Sq    Mean Sq    F value  Pr(>F)      \n",
       "mondata$Advertising   1  162.4394 162.439409 23.27606 2.842981e-06\n",
       "Residuals           193 1346.9120   6.978819       NA           NA"
      ]
     },
     "metadata": {},
     "output_type": "display_data"
    }
   ],
   "source": [
    "anova(linModel4)"
   ]
  },
  {
   "cell_type": "markdown",
   "metadata": {},
   "source": [
    "Tester la signification du modèle"
   ]
  },
  {
   "cell_type": "code",
   "execution_count": 184,
   "metadata": {
    "vscode": {
     "languageId": "r"
    }
   },
   "outputs": [
    {
     "data": {
      "text/plain": [
       "\n",
       "Call:\n",
       "lm(formula = mondata$Sales ~ mondata$Advertising)\n",
       "\n",
       "Residuals:\n",
       "    Min      1Q  Median      3Q     Max \n",
       "-7.6240 -1.8572  0.0351  1.5628  8.3924 \n",
       "\n",
       "Coefficients:\n",
       "                    Estimate Std. Error t value Pr(>|t|)    \n",
       "(Intercept)          6.50759    0.26828  24.257  < 2e-16 ***\n",
       "mondata$Advertising  0.14091    0.02921   4.825 2.84e-06 ***\n",
       "---\n",
       "Signif. codes:  0 '***' 0.001 '**' 0.01 '*' 0.05 '.' 0.1 ' ' 1\n",
       "\n",
       "Residual standard error: 2.642 on 193 degrees of freedom\n",
       "Multiple R-squared:  0.1076,\tAdjusted R-squared:  0.103 \n",
       "F-statistic: 23.28 on 1 and 193 DF,  p-value: 2.843e-06\n"
      ]
     },
     "metadata": {},
     "output_type": "display_data"
    }
   ],
   "source": [
    "summaryLinModel4"
   ]
  },
  {
   "attachments": {},
   "cell_type": "markdown",
   "metadata": {},
   "source": [
    "Nuage de point du modèle 4"
   ]
  },
  {
   "cell_type": "code",
   "execution_count": 185,
   "metadata": {
    "vscode": {
     "languageId": "r"
    }
   },
   "outputs": [
    {
     "data": {
      "image/png": "[encoded data removed]",
      "text/plain": [
       "Plot with title \"Nuage de points des ventes en fonction du montant investi en publicité\""
      ]
     },
     "metadata": {
      "image/png": {
       "height": 600,
       "width": 600
      }
     },
     "output_type": "display_data"
    }
   ],
   "source": [
    "plot(mondata$Advertising, mondata$Sales, main=\"Nuage de points des ventes en fonction du montant investi en publicité\", xlab=\"Publicité (par 1000$)\", ylab=\"Ventes\", col=\"#ff0000\")\n",
    "abline(linModel4)"
   ]
  },
  {
   "cell_type": "code",
   "execution_count": 186,
   "metadata": {
    "vscode": {
     "languageId": "r"
    }
   },
   "outputs": [
    {
     "data": {
      "image/png": "[encoded data removed]",
      "text/plain": [
       "Plot with title \"\""
      ]
     },
     "metadata": {
      "image/png": {
       "height": 600,
       "width": 600
      }
     },
     "output_type": "display_data"
    }
   ],
   "source": [
    "par(mfrow = c(2,2)) \n",
    "plot(linModel4)\n"
   ]
  },
  {
   "attachments": {},
   "cell_type": "markdown",
   "metadata": {},
   "source": [
    "__Test significativité du modèle 4 :__    \n",
    "Hypothèse $H_0 : \\beta_1 = 0$ et $H_1 : \\beta_1 \\neq 0$  \n",
    "On a p-value = 2.843e-06 < $\\alpha = 0.05$ On rejete $H_0$  \n",
    "On à donc que le modèle est significatif au seuil $\\alpha = 5$%\n",
    "\n",
    "__Évaluation validité du modèle 4 :__    \n",
    "Le modèle 4 pas très valide par rar rapport aux autres modèles, car on y retrouve R² = 0.1076.  \n",
    "On sait aussi que plus R² est proche de 0, moins la variabilité des valeurs est pas expliqué par le modèle. \n",
    "\n",
    "__Analyse des résidus du modèle 4 :__  \n",
    "- Les résidus suivent bien la droite de normalité, l'hypothèse de normalité est donc respectée. \n",
    "- Les résidus ne sont pas répartis de façon homogène autour de la droite, en effet on observe une forte concentration de points au début.\n",
    "- L'homoscédasticité des valeurs est plutôt bonne.\n",
    "- Deux points atipiques peuvent fausser le modèle. On pourrait les supprimer pour améliorer les résultats."
   ]
  },
  {
   "attachments": {},
   "cell_type": "markdown",
   "metadata": {},
   "source": [
    "Intervale de confiance $\\beta_0$ et $\\beta_1$ :"
   ]
  },
  {
   "cell_type": "code",
   "execution_count": 187,
   "metadata": {
    "vscode": {
     "languageId": "r"
    }
   },
   "outputs": [
    {
     "data": {
      "text/html": [
       "<table class=\"dataframe\">\n",
       "<caption>A matrix: 2 × 2 of type dbl</caption>\n",
       "<thead>\n",
       "\t<tr><th></th><th scope=col>2.5 %</th><th scope=col>97.5 %</th></tr>\n",
       "</thead>\n",
       "<tbody>\n",
       "\t<tr><th scope=row>(Intercept)</th><td>5.97845859</td><td>7.0367304</td></tr>\n",
       "\t<tr><th scope=row>mondata$Advertising</th><td>0.08330566</td><td>0.1985196</td></tr>\n",
       "</tbody>\n",
       "</table>\n"
      ],
      "text/latex": [
       "A matrix: 2 × 2 of type dbl\n",
       "\\begin{tabular}{r|ll}\n",
       "  & 2.5 \\% & 97.5 \\%\\\\\n",
       "\\hline\n",
       "\t(Intercept) & 5.97845859 & 7.0367304\\\\\n",
       "\tmondata\\$Advertising & 0.08330566 & 0.1985196\\\\\n",
       "\\end{tabular}\n"
      ],
      "text/markdown": [
       "\n",
       "A matrix: 2 × 2 of type dbl\n",
       "\n",
       "| <!--/--> | 2.5 % | 97.5 % |\n",
       "|---|---|---|\n",
       "| (Intercept) | 5.97845859 | 7.0367304 |\n",
       "| mondata$Advertising | 0.08330566 | 0.1985196 |\n",
       "\n"
      ],
      "text/plain": [
       "                    2.5 %      97.5 %   \n",
       "(Intercept)         5.97845859 7.0367304\n",
       "mondata$Advertising 0.08330566 0.1985196"
      ]
     },
     "metadata": {},
     "output_type": "display_data"
    }
   ],
   "source": [
    "confint(linModel4)"
   ]
  },
  {
   "attachments": {},
   "cell_type": "markdown",
   "metadata": {},
   "source": [
    "À 95% on a $\\beta_0 \\in [6.07514639, 6.9209938]$ et $\\beta_1 \\in [0.09092425, 0.1873456]$.  \n",
    "<br>\n",
    "<br>\n"
   ]
  },
  {
   "attachments": {},
   "cell_type": "markdown",
   "metadata": {},
   "source": [
    "#### Modèle 5 --- $Y = \\beta_0 (8 + X_2)^{\\beta_1} e^{\\epsilon}$  \n",
    "Équation transformée : $ln(Y) = ln(\\beta_0) + \\beta_1 ln(8 + X_2) + \\epsilon$"
   ]
  },
  {
   "cell_type": "code",
   "execution_count": 188,
   "metadata": {
    "vscode": {
     "languageId": "r"
    }
   },
   "outputs": [],
   "source": [
    "linModel5 <- lm(log(mondata$Sales) ~ log(8 + mondata$Advertising))\n",
    "summaryLinModel5 <- summary(linModel5)"
   ]
  },
  {
   "attachments": {},
   "cell_type": "markdown",
   "metadata": {},
   "source": [
    "Tableau coefficient de regression"
   ]
  },
  {
   "cell_type": "code",
   "execution_count": 189,
   "metadata": {
    "vscode": {
     "languageId": "r"
    }
   },
   "outputs": [
    {
     "data": {
      "text/html": [
       "<table class=\"dataframe\">\n",
       "<caption>A matrix: 2 × 4 of type dbl</caption>\n",
       "<thead>\n",
       "\t<tr><th></th><th scope=col>Estimate</th><th scope=col>Std. Error</th><th scope=col>t value</th><th scope=col>Pr(&gt;|t|)</th></tr>\n",
       "</thead>\n",
       "<tbody>\n",
       "\t<tr><th scope=row>(Intercept)</th><td>1.0880022</td><td>0.22274236</td><td>4.884577</td><td>2.170394e-06</td></tr>\n",
       "\t<tr><th scope=row>log(8 + mondata$Advertising)</th><td>0.3156951</td><td>0.08521537</td><td>3.704673</td><td>2.763175e-04</td></tr>\n",
       "</tbody>\n",
       "</table>\n"
      ],
      "text/latex": [
       "A matrix: 2 × 4 of type dbl\n",
       "\\begin{tabular}{r|llll}\n",
       "  & Estimate & Std. Error & t value & Pr(>\\textbar{}t\\textbar{})\\\\\n",
       "\\hline\n",
       "\t(Intercept) & 1.0880022 & 0.22274236 & 4.884577 & 2.170394e-06\\\\\n",
       "\tlog(8 + mondata\\$Advertising) & 0.3156951 & 0.08521537 & 3.704673 & 2.763175e-04\\\\\n",
       "\\end{tabular}\n"
      ],
      "text/markdown": [
       "\n",
       "A matrix: 2 × 4 of type dbl\n",
       "\n",
       "| <!--/--> | Estimate | Std. Error | t value | Pr(&gt;|t|) |\n",
       "|---|---|---|---|---|\n",
       "| (Intercept) | 1.0880022 | 0.22274236 | 4.884577 | 2.170394e-06 |\n",
       "| log(8 + mondata$Advertising) | 0.3156951 | 0.08521537 | 3.704673 | 2.763175e-04 |\n",
       "\n"
      ],
      "text/plain": [
       "                             Estimate  Std. Error t value  Pr(>|t|)    \n",
       "(Intercept)                  1.0880022 0.22274236 4.884577 2.170394e-06\n",
       "log(8 + mondata$Advertising) 0.3156951 0.08521537 3.704673 2.763175e-04"
      ]
     },
     "metadata": {},
     "output_type": "display_data"
    }
   ],
   "source": [
    "summaryLinModel5$coefficients"
   ]
  },
  {
   "attachments": {},
   "cell_type": "markdown",
   "metadata": {},
   "source": [
    "Tableau analyse de variance"
   ]
  },
  {
   "cell_type": "code",
   "execution_count": 190,
   "metadata": {
    "vscode": {
     "languageId": "r"
    }
   },
   "outputs": [
    {
     "data": {
      "text/html": [
       "<table class=\"dataframe\">\n",
       "<caption>A anova: 2 × 5</caption>\n",
       "<thead>\n",
       "\t<tr><th></th><th scope=col>Df</th><th scope=col>Sum Sq</th><th scope=col>Mean Sq</th><th scope=col>F value</th><th scope=col>Pr(&gt;F)</th></tr>\n",
       "\t<tr><th></th><th scope=col>&lt;int&gt;</th><th scope=col>&lt;dbl&gt;</th><th scope=col>&lt;dbl&gt;</th><th scope=col>&lt;dbl&gt;</th><th scope=col>&lt;dbl&gt;</th></tr>\n",
       "</thead>\n",
       "<tbody>\n",
       "\t<tr><th scope=row>log(8 + mondata$Advertising)</th><td>  1</td><td> 3.886605</td><td>3.8866048</td><td>13.7246</td><td>0.0002763175</td></tr>\n",
       "\t<tr><th scope=row>Residuals</th><td>193</td><td>54.654743</td><td>0.2831852</td><td>     NA</td><td>          NA</td></tr>\n",
       "</tbody>\n",
       "</table>\n"
      ],
      "text/latex": [
       "A anova: 2 × 5\n",
       "\\begin{tabular}{r|lllll}\n",
       "  & Df & Sum Sq & Mean Sq & F value & Pr(>F)\\\\\n",
       "  & <int> & <dbl> & <dbl> & <dbl> & <dbl>\\\\\n",
       "\\hline\n",
       "\tlog(8 + mondata\\$Advertising) &   1 &  3.886605 & 3.8866048 & 13.7246 & 0.0002763175\\\\\n",
       "\tResiduals & 193 & 54.654743 & 0.2831852 &      NA &           NA\\\\\n",
       "\\end{tabular}\n"
      ],
      "text/markdown": [
       "\n",
       "A anova: 2 × 5\n",
       "\n",
       "| <!--/--> | Df &lt;int&gt; | Sum Sq &lt;dbl&gt; | Mean Sq &lt;dbl&gt; | F value &lt;dbl&gt; | Pr(&gt;F) &lt;dbl&gt; |\n",
       "|---|---|---|---|---|---|\n",
       "| log(8 + mondata$Advertising) |   1 |  3.886605 | 3.8866048 | 13.7246 | 0.0002763175 |\n",
       "| Residuals | 193 | 54.654743 | 0.2831852 |      NA |           NA |\n",
       "\n"
      ],
      "text/plain": [
       "                             Df  Sum Sq    Mean Sq   F value Pr(>F)      \n",
       "log(8 + mondata$Advertising)   1  3.886605 3.8866048 13.7246 0.0002763175\n",
       "Residuals                    193 54.654743 0.2831852      NA           NA"
      ]
     },
     "metadata": {},
     "output_type": "display_data"
    }
   ],
   "source": [
    "anova(linModel5)"
   ]
  },
  {
   "attachments": {},
   "cell_type": "markdown",
   "metadata": {},
   "source": [
    "Tester la signification du modèle"
   ]
  },
  {
   "cell_type": "code",
   "execution_count": 191,
   "metadata": {
    "vscode": {
     "languageId": "r"
    }
   },
   "outputs": [
    {
     "data": {
      "text/plain": [
       "\n",
       "Call:\n",
       "lm(formula = log(mondata$Sales) ~ log(8 + mondata$Advertising))\n",
       "\n",
       "Residuals:\n",
       "    Min      1Q  Median      3Q     Max \n",
       "-3.5771 -0.1940  0.1105  0.2922  0.9569 \n",
       "\n",
       "Coefficients:\n",
       "                             Estimate Std. Error t value Pr(>|t|)    \n",
       "(Intercept)                   1.08800    0.22274   4.885 2.17e-06 ***\n",
       "log(8 + mondata$Advertising)  0.31570    0.08522   3.705 0.000276 ***\n",
       "---\n",
       "Signif. codes:  0 '***' 0.001 '**' 0.01 '*' 0.05 '.' 0.1 ' ' 1\n",
       "\n",
       "Residual standard error: 0.5322 on 193 degrees of freedom\n",
       "Multiple R-squared:  0.06639,\tAdjusted R-squared:  0.06155 \n",
       "F-statistic: 13.72 on 1 and 193 DF,  p-value: 0.0002763\n"
      ]
     },
     "metadata": {},
     "output_type": "display_data"
    }
   ],
   "source": [
    "summaryLinModel5"
   ]
  },
  {
   "attachments": {},
   "cell_type": "markdown",
   "metadata": {},
   "source": [
    "Nuage de point du modèle 5"
   ]
  },
  {
   "cell_type": "code",
   "execution_count": 192,
   "metadata": {
    "vscode": {
     "languageId": "r"
    }
   },
   "outputs": [
    {
     "data": {
      "image/png": "[encoded data removed]",
      "text/plain": [
       "Plot with title \"Nuage de points des ventes en fonction du montant investi en publicité\""
      ]
     },
     "metadata": {
      "image/png": {
       "height": 600,
       "width": 600
      }
     },
     "output_type": "display_data"
    }
   ],
   "source": [
    "plot(log(mondata$Price), log(mondata$Advertising + 8), main=\"Nuage de points des ventes en fonction du montant investi en publicité\", xlab=\"publicité (par 1000$)\", ylab=\"Ventes\", col=\"#ff0000\")\n",
    "abline(linModel5)"
   ]
  },
  {
   "cell_type": "code",
   "execution_count": 193,
   "metadata": {
    "vscode": {
     "languageId": "r"
    }
   },
   "outputs": [
    {
     "data": {
      "image/png": "[encoded data removed]",
      "text/plain": [
       "Plot with title \"\""
      ]
     },
     "metadata": {
      "image/png": {
       "height": 600,
       "width": 600
      }
     },
     "output_type": "display_data"
    }
   ],
   "source": [
    "par(mfrow = c(2,2))\n",
    "plot(linModel5)"
   ]
  },
  {
   "attachments": {},
   "cell_type": "markdown",
   "metadata": {},
   "source": [
    "__Test significativité du modèle 5 :__    \n",
    "Hypothèse $H_0 : \\beta_1 = 0$ et $H_1 : \\beta_1 \\neq 0$  \n",
    "On a p-value = 0.0002763 < $\\alpha = 0.05$ On rejete $H_0$  \n",
    "On à donc que le modèle est significatif au seuil $\\alpha = 5$%\n",
    "\n",
    "__Évaluation validité du modèle 5 :__    \n",
    "Le modèle 5 est peu représentatif comparativement aux autres modèles, car R² = 0.06639.  \n",
    "On sait aussi que plus R² est proche de 0, moins la variabilité des valeurs est expliqué par le modèle. \n",
    "\n",
    "__Analyse des résidus du modèle 5 :__  \n",
    "- Les résidus suivent assez bien la droite de normalité, l'hypothèse de normalité est donc respectée. \n",
    "- Les résidus ne sont pas répartis de façon homogène autour de la droite, en effet on observe une forte concentration de points au début et un peu sur la fin.\n",
    "- L'homoscédasticité des valeurs est plutôt bonne mais si on peut noté un très léger rétrécissement sur la fin.\n",
    "- Quelques points atipiques peuvent fausser le modèle. On pourrait les supprimer pour améliorer les résultats."
   ]
  },
  {
   "attachments": {},
   "cell_type": "markdown",
   "metadata": {},
   "source": [
    "Intervale de confiance $\\beta_0$ et $\\beta_1$ :"
   ]
  },
  {
   "cell_type": "code",
   "execution_count": 194,
   "metadata": {
    "vscode": {
     "languageId": "r"
    }
   },
   "outputs": [
    {
     "data": {
      "text/html": [
       "<table class=\"dataframe\">\n",
       "<caption>A matrix: 2 × 2 of type dbl</caption>\n",
       "<thead>\n",
       "\t<tr><th></th><th scope=col>2.5 %</th><th scope=col>97.5 %</th></tr>\n",
       "</thead>\n",
       "<tbody>\n",
       "\t<tr><th scope=row>(Intercept)</th><td>0.6486804</td><td>1.5273240</td></tr>\n",
       "\t<tr><th scope=row>log(8 + mondata$Advertising)</th><td>0.1476221</td><td>0.4837681</td></tr>\n",
       "</tbody>\n",
       "</table>\n"
      ],
      "text/latex": [
       "A matrix: 2 × 2 of type dbl\n",
       "\\begin{tabular}{r|ll}\n",
       "  & 2.5 \\% & 97.5 \\%\\\\\n",
       "\\hline\n",
       "\t(Intercept) & 0.6486804 & 1.5273240\\\\\n",
       "\tlog(8 + mondata\\$Advertising) & 0.1476221 & 0.4837681\\\\\n",
       "\\end{tabular}\n"
      ],
      "text/markdown": [
       "\n",
       "A matrix: 2 × 2 of type dbl\n",
       "\n",
       "| <!--/--> | 2.5 % | 97.5 % |\n",
       "|---|---|---|\n",
       "| (Intercept) | 0.6486804 | 1.5273240 |\n",
       "| log(8 + mondata$Advertising) | 0.1476221 | 0.4837681 |\n",
       "\n"
      ],
      "text/plain": [
       "                             2.5 %     97.5 %   \n",
       "(Intercept)                  0.6486804 1.5273240\n",
       "log(8 + mondata$Advertising) 0.1476221 0.4837681"
      ]
     },
     "metadata": {},
     "output_type": "display_data"
    }
   ],
   "source": [
    "confint(linModel5)"
   ]
  },
  {
   "attachments": {},
   "cell_type": "markdown",
   "metadata": {},
   "source": [
    "À 95% on a $\\beta_0 \\in [0.7805855, 1.480652]$ et $\\beta_1 \\in [0.1638894, 0.434608]$.  \n",
    "<br>\n",
    "<br>\n"
   ]
  },
  {
   "attachments": {},
   "cell_type": "markdown",
   "metadata": {},
   "source": [
    "#### Modèle 6 --- $Y = \\beta_0 e^{\\beta_1 X_2 + \\epsilon}$  \n",
    "Équation transformée : $ln(Y) = ln(\\beta_0) + \\beta_1 X_2 + \\epsilon$"
   ]
  },
  {
   "cell_type": "code",
   "execution_count": 195,
   "metadata": {
    "vscode": {
     "languageId": "r"
    }
   },
   "outputs": [],
   "source": [
    "linModel6 <- lm(log(mondata$Sales) ~ mondata$Advertising)\n",
    "summaryLinModel6 <- summary(linModel6)"
   ]
  },
  {
   "attachments": {},
   "cell_type": "markdown",
   "metadata": {},
   "source": [
    "Tableau coefficient de regression"
   ]
  },
  {
   "cell_type": "code",
   "execution_count": 196,
   "metadata": {
    "vscode": {
     "languageId": "r"
    }
   },
   "outputs": [
    {
     "data": {
      "text/html": [
       "<table class=\"dataframe\">\n",
       "<caption>A matrix: 2 × 4 of type dbl</caption>\n",
       "<thead>\n",
       "\t<tr><th></th><th scope=col>Estimate</th><th scope=col>Std. Error</th><th scope=col>t value</th><th scope=col>Pr(&gt;|t|)</th></tr>\n",
       "</thead>\n",
       "<tbody>\n",
       "\t<tr><th scope=row>(Intercept)</th><td>1.75790007</td><td>0.054010327</td><td>32.547480</td><td>2.634337e-80</td></tr>\n",
       "\t<tr><th scope=row>mondata$Advertising</th><td>0.02197562</td><td>0.005880101</td><td> 3.737287</td><td>2.449595e-04</td></tr>\n",
       "</tbody>\n",
       "</table>\n"
      ],
      "text/latex": [
       "A matrix: 2 × 4 of type dbl\n",
       "\\begin{tabular}{r|llll}\n",
       "  & Estimate & Std. Error & t value & Pr(>\\textbar{}t\\textbar{})\\\\\n",
       "\\hline\n",
       "\t(Intercept) & 1.75790007 & 0.054010327 & 32.547480 & 2.634337e-80\\\\\n",
       "\tmondata\\$Advertising & 0.02197562 & 0.005880101 &  3.737287 & 2.449595e-04\\\\\n",
       "\\end{tabular}\n"
      ],
      "text/markdown": [
       "\n",
       "A matrix: 2 × 4 of type dbl\n",
       "\n",
       "| <!--/--> | Estimate | Std. Error | t value | Pr(&gt;|t|) |\n",
       "|---|---|---|---|---|\n",
       "| (Intercept) | 1.75790007 | 0.054010327 | 32.547480 | 2.634337e-80 |\n",
       "| mondata$Advertising | 0.02197562 | 0.005880101 |  3.737287 | 2.449595e-04 |\n",
       "\n"
      ],
      "text/plain": [
       "                    Estimate   Std. Error  t value   Pr(>|t|)    \n",
       "(Intercept)         1.75790007 0.054010327 32.547480 2.634337e-80\n",
       "mondata$Advertising 0.02197562 0.005880101  3.737287 2.449595e-04"
      ]
     },
     "metadata": {},
     "output_type": "display_data"
    }
   ],
   "source": [
    "summaryLinModel6$coefficients"
   ]
  },
  {
   "attachments": {},
   "cell_type": "markdown",
   "metadata": {},
   "source": [
    "Tableau analyse de variance"
   ]
  },
  {
   "cell_type": "code",
   "execution_count": 197,
   "metadata": {
    "vscode": {
     "languageId": "r"
    }
   },
   "outputs": [
    {
     "data": {
      "text/html": [
       "<table class=\"dataframe\">\n",
       "<caption>A anova: 2 × 5</caption>\n",
       "<thead>\n",
       "\t<tr><th></th><th scope=col>Df</th><th scope=col>Sum Sq</th><th scope=col>Mean Sq</th><th scope=col>F value</th><th scope=col>Pr(&gt;F)</th></tr>\n",
       "\t<tr><th></th><th scope=col>&lt;int&gt;</th><th scope=col>&lt;dbl&gt;</th><th scope=col>&lt;dbl&gt;</th><th scope=col>&lt;dbl&gt;</th><th scope=col>&lt;dbl&gt;</th></tr>\n",
       "</thead>\n",
       "<tbody>\n",
       "\t<tr><th scope=row>mondata$Advertising</th><td>  1</td><td> 3.950698</td><td>3.9506985</td><td>13.96732</td><td>0.0002449595</td></tr>\n",
       "\t<tr><th scope=row>Residuals</th><td>193</td><td>54.590649</td><td>0.2828531</td><td>      NA</td><td>          NA</td></tr>\n",
       "</tbody>\n",
       "</table>\n"
      ],
      "text/latex": [
       "A anova: 2 × 5\n",
       "\\begin{tabular}{r|lllll}\n",
       "  & Df & Sum Sq & Mean Sq & F value & Pr(>F)\\\\\n",
       "  & <int> & <dbl> & <dbl> & <dbl> & <dbl>\\\\\n",
       "\\hline\n",
       "\tmondata\\$Advertising &   1 &  3.950698 & 3.9506985 & 13.96732 & 0.0002449595\\\\\n",
       "\tResiduals & 193 & 54.590649 & 0.2828531 &       NA &           NA\\\\\n",
       "\\end{tabular}\n"
      ],
      "text/markdown": [
       "\n",
       "A anova: 2 × 5\n",
       "\n",
       "| <!--/--> | Df &lt;int&gt; | Sum Sq &lt;dbl&gt; | Mean Sq &lt;dbl&gt; | F value &lt;dbl&gt; | Pr(&gt;F) &lt;dbl&gt; |\n",
       "|---|---|---|---|---|---|\n",
       "| mondata$Advertising |   1 |  3.950698 | 3.9506985 | 13.96732 | 0.0002449595 |\n",
       "| Residuals | 193 | 54.590649 | 0.2828531 |       NA |           NA |\n",
       "\n"
      ],
      "text/plain": [
       "                    Df  Sum Sq    Mean Sq   F value  Pr(>F)      \n",
       "mondata$Advertising   1  3.950698 3.9506985 13.96732 0.0002449595\n",
       "Residuals           193 54.590649 0.2828531       NA           NA"
      ]
     },
     "metadata": {},
     "output_type": "display_data"
    }
   ],
   "source": [
    "anova(linModel6)"
   ]
  },
  {
   "cell_type": "markdown",
   "metadata": {},
   "source": [
    "Tester la signification du modèle"
   ]
  },
  {
   "cell_type": "code",
   "execution_count": 198,
   "metadata": {
    "vscode": {
     "languageId": "r"
    }
   },
   "outputs": [
    {
     "data": {
      "text/plain": [
       "\n",
       "Call:\n",
       "lm(formula = log(mondata$Sales) ~ mondata$Advertising)\n",
       "\n",
       "Residuals:\n",
       "    Min      1Q  Median      3Q     Max \n",
       "-3.5905 -0.1936  0.1092  0.2805  0.9435 \n",
       "\n",
       "Coefficients:\n",
       "                    Estimate Std. Error t value Pr(>|t|)    \n",
       "(Intercept)          1.75790    0.05401  32.547  < 2e-16 ***\n",
       "mondata$Advertising  0.02198    0.00588   3.737 0.000245 ***\n",
       "---\n",
       "Signif. codes:  0 '***' 0.001 '**' 0.01 '*' 0.05 '.' 0.1 ' ' 1\n",
       "\n",
       "Residual standard error: 0.5318 on 193 degrees of freedom\n",
       "Multiple R-squared:  0.06749,\tAdjusted R-squared:  0.06265 \n",
       "F-statistic: 13.97 on 1 and 193 DF,  p-value: 0.000245\n"
      ]
     },
     "metadata": {},
     "output_type": "display_data"
    }
   ],
   "source": [
    "summaryLinModel6"
   ]
  },
  {
   "attachments": {},
   "cell_type": "markdown",
   "metadata": {},
   "source": [
    "Nuage de point du modèle 6"
   ]
  },
  {
   "cell_type": "code",
   "execution_count": 199,
   "metadata": {
    "vscode": {
     "languageId": "r"
    }
   },
   "outputs": [
    {
     "data": {
      "image/png": "[encoded data removed]",
      "text/plain": [
       "Plot with title \"Nuage de points des ventes en fonction du prix\""
      ]
     },
     "metadata": {
      "image/png": {
       "height": 600,
       "width": 600
      }
     },
     "output_type": "display_data"
    }
   ],
   "source": [
    "plot(mondata$Advertising, log(mondata$Sales), main=\"Nuage de points des ventes en fonction du prix\", xlab=\"Prix\", ylab=\"Ventes\", col=\"#ff0000\")\n",
    "abline(linModel6)"
   ]
  },
  {
   "cell_type": "code",
   "execution_count": 200,
   "metadata": {
    "vscode": {
     "languageId": "r"
    }
   },
   "outputs": [
    {
     "data": {
      "image/png": "[encoded data removed]",
      "text/plain": [
       "Plot with title \"\""
      ]
     },
     "metadata": {
      "image/png": {
       "height": 600,
       "width": 600
      }
     },
     "output_type": "display_data"
    }
   ],
   "source": [
    "par(mfrow = c(2,2))\n",
    "plot(linModel6)"
   ]
  },
  {
   "attachments": {},
   "cell_type": "markdown",
   "metadata": {},
   "source": [
    "__Test significativité du modèle 6 :__    \n",
    "Hypothèse $H_0 : \\beta_1 = 0$ et $H_1 : \\beta_1 \\neq 0$  \n",
    "On a p-value = 0.000245 < $\\alpha = 0.05$ On rejete $H_0$  \n",
    "On à donc que le modèle est significatif au seuil $\\alpha = 5$%\n",
    "\n",
    "__Évaluation validité du modèle 6 :__    \n",
    "Le modèle 6 est peu valide comparativement aux autres modèles, car R² = 0.06749.  \n",
    "On sait aussi que plus R² est proche de 0, moins la variabilité des valeurs est expliqué par le modèle.\n",
    "\n",
    "__Analyse des résidus du modèle 6 :__  \n",
    "- Les résidus suivent assez bien la droite de normalité, l'hypothèse de normalité est donc respectée. \n",
    "- Les résidus ne sont pas répartis de façon homogène autour de la droite, en effet on observe une forte concentration de points au début.\n",
    "- L'homoscédasticité des valeurs est plutôt bonne mais si on peut noté un très léger rétrécissement sur la fin.\n",
    "- Quelques points atipiques peuvent fausser le modèle. On pourrait les supprimer pour améliorer les résultats."
   ]
  },
  {
   "attachments": {},
   "cell_type": "markdown",
   "metadata": {},
   "source": [
    "Intervale de confiance $\\beta_0$ et $\\beta_1$ :"
   ]
  },
  {
   "cell_type": "code",
   "execution_count": 201,
   "metadata": {
    "vscode": {
     "languageId": "r"
    }
   },
   "outputs": [
    {
     "data": {
      "text/html": [
       "<table class=\"dataframe\">\n",
       "<caption>A matrix: 2 × 2 of type dbl</caption>\n",
       "<thead>\n",
       "\t<tr><th></th><th scope=col>2.5 %</th><th scope=col>97.5 %</th></tr>\n",
       "</thead>\n",
       "<tbody>\n",
       "\t<tr><th scope=row>(Intercept)</th><td>1.65137379</td><td>1.86442635</td></tr>\n",
       "\t<tr><th scope=row>mondata$Advertising</th><td>0.01037812</td><td>0.03357313</td></tr>\n",
       "</tbody>\n",
       "</table>\n"
      ],
      "text/latex": [
       "A matrix: 2 × 2 of type dbl\n",
       "\\begin{tabular}{r|ll}\n",
       "  & 2.5 \\% & 97.5 \\%\\\\\n",
       "\\hline\n",
       "\t(Intercept) & 1.65137379 & 1.86442635\\\\\n",
       "\tmondata\\$Advertising & 0.01037812 & 0.03357313\\\\\n",
       "\\end{tabular}\n"
      ],
      "text/markdown": [
       "\n",
       "A matrix: 2 × 2 of type dbl\n",
       "\n",
       "| <!--/--> | 2.5 % | 97.5 % |\n",
       "|---|---|---|\n",
       "| (Intercept) | 1.65137379 | 1.86442635 |\n",
       "| mondata$Advertising | 0.01037812 | 0.03357313 |\n",
       "\n"
      ],
      "text/plain": [
       "                    2.5 %      97.5 %    \n",
       "(Intercept)         1.65137379 1.86442635\n",
       "mondata$Advertising 0.01037812 0.03357313"
      ]
     },
     "metadata": {},
     "output_type": "display_data"
    }
   ],
   "source": [
    "confint(linModel6)"
   ]
  },
  {
   "attachments": {},
   "cell_type": "markdown",
   "metadata": {},
   "source": [
    "À 95% on a $\\beta_0 \\in [1.67805637, 1.84386620]$ et $\\beta_1 \\in [0.01221427, 0.03111555]$.  \n",
    "<br>\n",
    "<br>\n"
   ]
  },
  {
   "attachments": {},
   "cell_type": "markdown",
   "metadata": {},
   "source": [
    "### d) Choix du meilleur modèle"
   ]
  },
  {
   "attachments": {},
   "cell_type": "markdown",
   "metadata": {},
   "source": [
    "Après analyse des différents modèles, on a les modèles 1 et 3 qui se destinguent des autres car ils sont tout deux significatifs et ont une valeur de R² assez élevé par rapport au autre.  \n",
    "Cependant, le modèle 1 est plus représentatif que le modèle 3 car il a une valeur de R² de 0.1989, la plus élevé.  \n",
    "C'est donc le modèle 1 qui represente le mieux la relation linéaire entre le prix et le nombre de ventes.\n",
    "\n",
    "Il est tout de même important de noté qu'aucun des modèles ne peu être totalement validé, car ils ont tous une valeur de R² plutôt éloignée de 1.  \n",
    "Ainsi bien que le modèle 1 soit le plus représentatif et valide, il ne permet pas de bien expliquer la variabilité des valeurs du modèle."
   ]
  },
  {
   "attachments": {},
   "cell_type": "markdown",
   "metadata": {},
   "source": [
    "Équation du Modèle 1 : $Y = \\beta_0 +\\beta_1 X_1 + \\epsilon$\n",
    "\n",
    "On utilise la valeur de $X_1$ pour prédire la valeur des ventes $Y$."
   ]
  },
  {
   "cell_type": "code",
   "execution_count": 209,
   "metadata": {
    "vscode": {
     "languageId": "r"
    }
   },
   "outputs": [
    {
     "data": {
      "text/html": [
       "<table class=\"dataframe\">\n",
       "<caption>A matrix: 1 × 3 of type dbl</caption>\n",
       "<thead>\n",
       "\t<tr><th></th><th scope=col>fit</th><th scope=col>lwr</th><th scope=col>upr</th></tr>\n",
       "</thead>\n",
       "<tbody>\n",
       "\t<tr><th scope=row>1</th><td>7.246117</td><td>6.886953</td><td>7.605282</td></tr>\n",
       "</tbody>\n",
       "</table>\n"
      ],
      "text/latex": [
       "A matrix: 1 × 3 of type dbl\n",
       "\\begin{tabular}{r|lll}\n",
       "  & fit & lwr & upr\\\\\n",
       "\\hline\n",
       "\t1 & 7.246117 & 6.886953 & 7.605282\\\\\n",
       "\\end{tabular}\n"
      ],
      "text/markdown": [
       "\n",
       "A matrix: 1 × 3 of type dbl\n",
       "\n",
       "| <!--/--> | fit | lwr | upr |\n",
       "|---|---|---|---|\n",
       "| 1 | 7.246117 | 6.886953 | 7.605282 |\n",
       "\n"
      ],
      "text/plain": [
       "  fit      lwr      upr     \n",
       "1 7.246117 6.886953 7.605282"
      ]
     },
     "metadata": {},
     "output_type": "display_data"
    }
   ],
   "source": [
    "predict(linModel1, data.frame(price = 118), interval = \"confidence\", level = 0.95)"
   ]
  },
  {
   "attachments": {},
   "cell_type": "markdown",
   "metadata": {},
   "source": [
    "Ainsi avec un niveau de confiance de 95%, on peut prédire que le nombre de ventes sera compris entre **6.886953 et 7.605282** milliers pour un prix de 118$."
   ]
  }
 ],
 "metadata": {
  "kernelspec": {
   "display_name": "R",
   "language": "R",
   "name": "ir"
  },
  "language_info": {
   "codemirror_mode": "r",
   "file_extension": ".r",
   "mimetype": "text/x-r-source",
   "name": "R",
   "pygments_lexer": "r",
   "version": "3.10.9"
  },
  "orig_nbformat": 4
 },
 "nbformat": 4,
 "nbformat_minor": 2
}
