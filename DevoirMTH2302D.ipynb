{
 "cells": [
  {
   "attachments": {},
   "cell_type": "markdown",
   "metadata": {},
   "source": [
    "<p style=\"text-align: center; font-size: 400%\">Devoir MTH2302D </p>"
   ]
  },
  {
   "attachments": {},
   "cell_type": "markdown",
   "metadata": {},
   "source": [
    "<p style=\"text-align: center; font-size: 120%\">Julien Roux 2060886  \n",
    "- Sébastien Roy </p>"
   ]
  },
  {
   "attachments": {},
   "cell_type": "markdown",
   "metadata": {},
   "source": [
    "### Phase 1"
   ]
  },
  {
   "attachments": {},
   "cell_type": "markdown",
   "metadata": {},
   "source": [
    "On charge les données depuis le csv en fonction du matricule."
   ]
  },
  {
   "cell_type": "code",
   "execution_count": 2,
   "metadata": {
    "vscode": {
     "languageId": "r"
    }
   },
   "outputs": [],
   "source": [
    "matricule <- 2060886"
   ]
  },
  {
   "cell_type": "code",
   "execution_count": 8,
   "metadata": {
    "vscode": {
     "languageId": "r"
    }
   },
   "outputs": [],
   "source": [
    "charger <- function(matricule) {\n",
    "  set.seed(matricule)\n",
    "  mondata <- read.csv2(\"DevoirDH23.csv\")[sample(290,195),-1]\n",
    "}"
   ]
  },
  {
   "cell_type": "code",
   "execution_count": 11,
   "metadata": {
    "vscode": {
     "languageId": "r"
    }
   },
   "outputs": [
    {
     "data": {
      "text/html": [
       "<table class=\"dataframe\">\n",
       "<caption>A data.frame: 5 × 4</caption>\n",
       "<thead>\n",
       "\t<tr><th></th><th scope=col>Sales</th><th scope=col>Price</th><th scope=col>Advertising</th><th scope=col>Region</th></tr>\n",
       "\t<tr><th></th><th scope=col>&lt;dbl&gt;</th><th scope=col>&lt;int&gt;</th><th scope=col>&lt;int&gt;</th><th scope=col>&lt;int&gt;</th></tr>\n",
       "</thead>\n",
       "<tbody>\n",
       "\t<tr><th scope=row>25</th><td> 5.58</td><td>148</td><td>10</td><td>1</td></tr>\n",
       "\t<tr><th scope=row>181</th><td>12.61</td><td>104</td><td>10</td><td>0</td></tr>\n",
       "\t<tr><th scope=row>202</th><td> 9.48</td><td>132</td><td>10</td><td>0</td></tr>\n",
       "\t<tr><th scope=row>129</th><td> 5.87</td><td>109</td><td> 0</td><td>1</td></tr>\n",
       "\t<tr><th scope=row>289</th><td> 3.02</td><td> 90</td><td>11</td><td>0</td></tr>\n",
       "</tbody>\n",
       "</table>\n"
      ],
      "text/latex": [
       "A data.frame: 5 × 4\n",
       "\\begin{tabular}{r|llll}\n",
       "  & Sales & Price & Advertising & Region\\\\\n",
       "  & <dbl> & <int> & <int> & <int>\\\\\n",
       "\\hline\n",
       "\t25 &  5.58 & 148 & 10 & 1\\\\\n",
       "\t181 & 12.61 & 104 & 10 & 0\\\\\n",
       "\t202 &  9.48 & 132 & 10 & 0\\\\\n",
       "\t129 &  5.87 & 109 &  0 & 1\\\\\n",
       "\t289 &  3.02 &  90 & 11 & 0\\\\\n",
       "\\end{tabular}\n"
      ],
      "text/markdown": [
       "\n",
       "A data.frame: 5 × 4\n",
       "\n",
       "| <!--/--> | Sales &lt;dbl&gt; | Price &lt;int&gt; | Advertising &lt;int&gt; | Region &lt;int&gt; |\n",
       "|---|---|---|---|---|\n",
       "| 25 |  5.58 | 148 | 10 | 1 |\n",
       "| 181 | 12.61 | 104 | 10 | 0 |\n",
       "| 202 |  9.48 | 132 | 10 | 0 |\n",
       "| 129 |  5.87 | 109 |  0 | 1 |\n",
       "| 289 |  3.02 |  90 | 11 | 0 |\n",
       "\n"
      ],
      "text/plain": [
       "    Sales Price Advertising Region\n",
       "25   5.58 148   10          1     \n",
       "181 12.61 104   10          0     \n",
       "202  9.48 132   10          0     \n",
       "129  5.87 109    0          1     \n",
       "289  3.02  90   11          0     "
      ]
     },
     "metadata": {},
     "output_type": "display_data"
    }
   ],
   "source": [
    "mondata <- charger(matricule)\n",
    "mondata[1:5,]"
   ]
  },
  {
   "attachments": {},
   "cell_type": "markdown",
   "metadata": {},
   "source": [
    "On charge toutes les données depuis le csv."
   ]
  },
  {
   "cell_type": "code",
   "execution_count": 13,
   "metadata": {
    "vscode": {
     "languageId": "r"
    }
   },
   "outputs": [
    {
     "data": {
      "text/html": [
       "<table class=\"dataframe\">\n",
       "<caption>A data.frame: 5 × 5</caption>\n",
       "<thead>\n",
       "\t<tr><th></th><th scope=col>NUM</th><th scope=col>Sales</th><th scope=col>Price</th><th scope=col>Advertising</th><th scope=col>Region</th></tr>\n",
       "\t<tr><th></th><th scope=col>&lt;int&gt;</th><th scope=col>&lt;dbl&gt;</th><th scope=col>&lt;int&gt;</th><th scope=col>&lt;int&gt;</th><th scope=col>&lt;int&gt;</th></tr>\n",
       "</thead>\n",
       "<tbody>\n",
       "\t<tr><th scope=row>1</th><td>142</td><td>5.40</td><td>163</td><td>13</td><td>0</td></tr>\n",
       "\t<tr><th scope=row>2</th><td>104</td><td>7.99</td><td> 99</td><td> 0</td><td>1</td></tr>\n",
       "\t<tr><th scope=row>3</th><td>103</td><td>4.21</td><td>137</td><td>14</td><td>0</td></tr>\n",
       "\t<tr><th scope=row>4</th><td>274</td><td>4.34</td><td>111</td><td> 0</td><td>0</td></tr>\n",
       "\t<tr><th scope=row>5</th><td>286</td><td>6.42</td><td>126</td><td> 5</td><td>1</td></tr>\n",
       "</tbody>\n",
       "</table>\n"
      ],
      "text/latex": [
       "A data.frame: 5 × 5\n",
       "\\begin{tabular}{r|lllll}\n",
       "  & NUM & Sales & Price & Advertising & Region\\\\\n",
       "  & <int> & <dbl> & <int> & <int> & <int>\\\\\n",
       "\\hline\n",
       "\t1 & 142 & 5.40 & 163 & 13 & 0\\\\\n",
       "\t2 & 104 & 7.99 &  99 &  0 & 1\\\\\n",
       "\t3 & 103 & 4.21 & 137 & 14 & 0\\\\\n",
       "\t4 & 274 & 4.34 & 111 &  0 & 0\\\\\n",
       "\t5 & 286 & 6.42 & 126 &  5 & 1\\\\\n",
       "\\end{tabular}\n"
      ],
      "text/markdown": [
       "\n",
       "A data.frame: 5 × 5\n",
       "\n",
       "| <!--/--> | NUM &lt;int&gt; | Sales &lt;dbl&gt; | Price &lt;int&gt; | Advertising &lt;int&gt; | Region &lt;int&gt; |\n",
       "|---|---|---|---|---|---|\n",
       "| 1 | 142 | 5.40 | 163 | 13 | 0 |\n",
       "| 2 | 104 | 7.99 |  99 |  0 | 1 |\n",
       "| 3 | 103 | 4.21 | 137 | 14 | 0 |\n",
       "| 4 | 274 | 4.34 | 111 |  0 | 0 |\n",
       "| 5 | 286 | 6.42 | 126 |  5 | 1 |\n",
       "\n"
      ],
      "text/plain": [
       "  NUM Sales Price Advertising Region\n",
       "1 142 5.40  163   13          0     \n",
       "2 104 7.99   99    0          1     \n",
       "3 103 4.21  137   14          0     \n",
       "4 274 4.34  111    0          0     \n",
       "5 286 6.42  126    5          1     "
      ]
     },
     "metadata": {},
     "output_type": "display_data"
    }
   ],
   "source": [
    "alldata <- read.csv2(\"DevoirDH23.csv\")\n",
    "alldata[1:5,]"
   ]
  },
  {
   "attachments": {},
   "cell_type": "markdown",
   "metadata": {},
   "source": [
    "### a)"
   ]
  },
  {
   "cell_type": "code",
   "execution_count": 14,
   "metadata": {
    "vscode": {
     "languageId": "r"
    }
   },
   "outputs": [],
   "source": [
    "Ventes <- alldata$Sales\n",
    "# Ventes[1:100]"
   ]
  },
  {
   "attachments": {},
   "cell_type": "markdown",
   "metadata": {},
   "source": [
    "#### Histogramme du nombre de ventes de siège automobiles"
   ]
  },
  {
   "cell_type": "code",
   "execution_count": 15,
   "metadata": {
    "vscode": {
     "languageId": "r"
    }
   },
   "outputs": [
    {
     "data": {
      "image/png": "[encoded data removed]",
      "text/plain": [
       "Plot with title \"Histogramme des ventes de sièges automobiles\""
      ]
     },
     "metadata": {
      "image/png": {
       "height": 420,
       "width": 420
      }
     },
     "output_type": "display_data"
    }
   ],
   "source": [
    "hist(Ventes, col=\"#bb2424\",main=\"Histogramme des ventes de sièges automobiles\",\n",
    "     border=\"#000000\", xlab=\"Nombres de ventes\",ylab=\"Effectif de point de ventes\")"
   ]
  },
  {
   "attachments": {},
   "cell_type": "markdown",
   "metadata": {},
   "source": [
    "Ce graphique montre que la majorité des points de vente ont vendu entre 5 et 10 sièges automobiles.  \n",
    "` `  \n",
    "` `  "
   ]
  },
  {
   "attachments": {},
   "cell_type": "markdown",
   "metadata": {},
   "source": [
    "#### Box plot du nombre de ventes de siège automobiles"
   ]
  },
  {
   "cell_type": "code",
   "execution_count": 16,
   "metadata": {
    "vscode": {
     "languageId": "r"
    }
   },
   "outputs": [
    {
     "data": {
      "image/png": "[encoded data removed]",
      "text/plain": [
       "Plot with title \"Diagramme en boîte des ventes de sièges automobiles\""
      ]
     },
     "metadata": {
      "image/png": {
       "height": 420,
       "width": 420
      }
     },
     "output_type": "display_data"
    }
   ],
   "source": [
    "boxplot(Ventes, col=\"#bb2424\",main=\"Diagramme en boîte des ventes de sièges automobiles\",\n",
    "        border=\"#000000\", xlab=\"Nombres de ventes\",ylab=\"Effectif de point de ventes\")"
   ]
  },
  {
   "attachments": {},
   "cell_type": "markdown",
   "metadata": {},
   "source": [
    "Ce graphique montre que la moiter des points de vente ont vendu entre 5 et 10 sièges automobiles et que la médiane est d'environ 7,5.  \n",
    "` `  \n",
    "` `  "
   ]
  },
  {
   "attachments": {},
   "cell_type": "markdown",
   "metadata": {},
   "source": [
    "#### Droite de Henry du nombre de ventes de siège automobiles"
   ]
  },
  {
   "cell_type": "code",
   "execution_count": 17,
   "metadata": {
    "vscode": {
     "languageId": "r"
    }
   },
   "outputs": [
    {
     "data": {
      "image/png": "[encoded data removed]",
      "text/plain": [
       "Plot with title \"Normal Q-Q Plot\""
      ]
     },
     "metadata": {
      "image/png": {
       "height": 420,
       "width": 420
      }
     },
     "output_type": "display_data"
    }
   ],
   "source": [
    "qqnorm(Ventes,col=\"blue\", xlab=\"Distribution quantiles loi normale\",ylab=\"Distribution des ventes\")\n",
    "qqline(Ventes,col=\"red\")"
   ]
  },
  {
   "attachments": {},
   "cell_type": "markdown",
   "metadata": {},
   "source": [
    "Les données de ventes semblent suivre une droite de Henry. On peut alors dire que la loi normale est une bonne approximation de la distribution des ventes de sièges automobiles.   \n",
    "` `  \n",
    "` `  "
   ]
  },
  {
   "attachments": {},
   "cell_type": "markdown",
   "metadata": {},
   "source": [
    "#### Test de normalité du nombre de ventes de siège automobiles"
   ]
  },
  {
   "attachments": {},
   "cell_type": "markdown",
   "metadata": {},
   "source": [
    "$H_0$: Les données suivent une loi normale  \n",
    "$H_1$: Les données ne suivent pas une loi normale  "
   ]
  },
  {
   "cell_type": "code",
   "execution_count": 18,
   "metadata": {
    "vscode": {
     "languageId": "r"
    }
   },
   "outputs": [
    {
     "data": {
      "text/plain": [
       "\n",
       "\tShapiro-Wilk normality test\n",
       "\n",
       "data:  Ventes\n",
       "W = 0.99568, p-value = 0.6051\n"
      ]
     },
     "metadata": {},
     "output_type": "display_data"
    }
   ],
   "source": [
    "shapiro.test(Ventes)"
   ]
  },
  {
   "attachments": {},
   "cell_type": "markdown",
   "metadata": {},
   "source": [
    "Comme W = 0.99568 n'est pas petit et que p-value = 0.6051 n'est pas petit, on ne rejette pas $H_0$.  \n",
    "Ainsi le test de normalité montre que les données suivent une loi normale.  \n",
    "` `  \n",
    "` `    \n"
   ]
  },
  {
   "attachments": {},
   "cell_type": "markdown",
   "metadata": {},
   "source": [
    "#### Tableau de statistiques descriptives du nombre de ventes de siège automobiles"
   ]
  },
  {
   "attachments": {},
   "cell_type": "markdown",
   "metadata": {},
   "source": [
    "Utilisation d'une librarie de R pour le calcule de l'intervalle de confiance à 95% pour la moyenne."
   ]
  },
  {
   "cell_type": "code",
   "execution_count": 71,
   "metadata": {
    "vscode": {
     "languageId": "r"
    }
   },
   "outputs": [
    {
     "name": "stdout",
     "output_type": "stream",
     "text": [
      "La marge d'erreur est  0.3195956"
     ]
    }
   ],
   "source": [
    "library(KefiR)\n",
    "cat('La marge d\\'erreur est ', int.pop(Ventes, 0.95))"
   ]
  },
  {
   "attachments": {},
   "cell_type": "markdown",
   "metadata": {},
   "source": [
    "Caclule de l'intervalle de confiance à 95% pour la moyenne détailé."
   ]
  },
  {
   "cell_type": "code",
   "execution_count": 69,
   "metadata": {
    "vscode": {
     "languageId": "r"
    }
   },
   "outputs": [
    {
     "name": "stdout",
     "output_type": "stream",
     "text": [
      "La moyenne des ventes est : 7.343345\n",
      "La variance des ventes est : 7.71087\n",
      "Taille de la population : n = 290"
     ]
    }
   ],
   "source": [
    "cat('La moyenne des ventes est :', mean(Ventes))\n",
    "cat('\\nLa variance des ventes est :', var(Ventes))\n",
    "cat('\\nTaille de la population : n =', length(Ventes))"
   ]
  },
  {
   "attachments": {},
   "cell_type": "markdown",
   "metadata": {},
   "source": [
    "Calcul intervale de confiance à 95% (1 - $\\alpha$ = 0.95) pour la moyenne de la population.  \n",
    "$\\bar{X}$ = 7.343 et $\\sigma^2$ = 7.71, de plus Ventes ~ N($\\mu$, $\\sigma^2$).  \n",
    "On a donc: $\\frac{\\bar{X} - \\mu}{\\sigma/\\sqrt{n}}$ ~ N(0, 1) soit $\\mu \\in \\bar{X} \\pm z_{\\frac{\\alpha}{2}} \\frac{\\sigma}{\\sqrt{n}}$  \n",
    "` `  \n",
    "Calcul $z_{\\frac{\\alpha}{2}}\\frac{\\sigma}{\\sqrt{n}}$"
   ]
  },
  {
   "cell_type": "code",
   "execution_count": 34,
   "metadata": {
    "vscode": {
     "languageId": "r"
    }
   },
   "outputs": [
    {
     "name": "stdout",
     "output_type": "stream",
     "text": [
      "\n",
      "La marge d'erreur est : 0.3195956"
     ]
    }
   ],
   "source": [
    "z <- qnorm(0.025, 0, 1, lower.tail = FALSE) * sqrt(var(Ventes)/length(Ventes))\n",
    "cat('\\nLa marge d\\'erreur est :', z)\n"
   ]
  },
  {
   "attachments": {},
   "cell_type": "markdown",
   "metadata": {},
   "source": [
    "On à donc: $\\mu \\in \\bar{X} \\pm 0.3195956$ soit $\\mu \\in [7.023404, 7.662596]$ à 95%.    \n",
    "` `  \n",
    "` `"
   ]
  },
  {
   "attachments": {},
   "cell_type": "markdown",
   "metadata": {},
   "source": [
    "Tableau de statistiques :"
   ]
  },
  {
   "cell_type": "code",
   "execution_count": 70,
   "metadata": {
    "vscode": {
     "languageId": "r"
    }
   },
   "outputs": [
    {
     "data": {
      "text/html": [
       "<table class=\"dataframe\">\n",
       "<caption>A matrix: 1 × 6 of type chr</caption>\n",
       "<thead>\n",
       "\t<tr><th scope=col>1er Quartile</th><th scope=col>Médiane</th><th scope=col>Moyenne</th><th scope=col>Écart type</th><th scope=col>3e Quartile</th><th scope=col>Intervale de confiance</th></tr>\n",
       "</thead>\n",
       "<tbody>\n",
       "\t<tr><td>5.3225</td><td>7.415</td><td>7.34334482758621</td><td>2.77684534828552</td><td>9.025</td><td>[7.023404, 7.662596]</td></tr>\n",
       "</tbody>\n",
       "</table>\n"
      ],
      "text/latex": [
       "A matrix: 1 × 6 of type chr\n",
       "\\begin{tabular}{llllll}\n",
       " 1er Quartile & Médiane & Moyenne & Écart type & 3e Quartile & Intervale de confiance\\\\\n",
       "\\hline\n",
       "\t 5.3225 & 7.415 & 7.34334482758621 & 2.77684534828552 & 9.025 & {[}7.023404, 7.662596{]}\\\\\n",
       "\\end{tabular}\n"
      ],
      "text/markdown": [
       "\n",
       "A matrix: 1 × 6 of type chr\n",
       "\n",
       "| 1er Quartile | Médiane | Moyenne | Écart type | 3e Quartile | Intervale de confiance |\n",
       "|---|---|---|---|---|---|\n",
       "| 5.3225 | 7.415 | 7.34334482758621 | 2.77684534828552 | 9.025 | [7.023404, 7.662596] |\n",
       "\n"
      ],
      "text/plain": [
       "     1er Quartile Médiane Moyenne          Écart type       3e Quartile\n",
       "[1,] 5.3225       7.415   7.34334482758621 2.77684534828552 9.025      \n",
       "     Intervale de confiance\n",
       "[1,] [7.023404, 7.662596]  "
      ]
     },
     "metadata": {},
     "output_type": "display_data"
    }
   ],
   "source": [
    "stat <- matrix(c(\n",
    "    summary(Ventes)[['1st Qu.']],\n",
    "    summary(Ventes)[['Median']],\n",
    "    summary(Ventes)[['Mean']],\n",
    "    sqrt(var(Ventes)),\n",
    "    summary(Ventes)[['3rd Qu.']],\n",
    "    paste(\"[\", 7.023404, \", \",  7.662596, \"]\", sep = \"\")),\n",
    "    ncol=6,\n",
    "    nrow=1,\n",
    "    byrow=TRUE)\n",
    "\n",
    "colnames(stat) <- c('1er Quartile','Médiane','Moyenne','Écart type', '3e Quartile', 'Intervale de confiance')\n",
    "stat"
   ]
  }
 ],
 "metadata": {
  "kernelspec": {
   "display_name": "R",
   "language": "R",
   "name": "ir"
  },
  "language_info": {
   "codemirror_mode": "r",
   "file_extension": ".r",
   "mimetype": "text/x-r-source",
   "name": "R",
   "pygments_lexer": "r",
   "version": "4.2.2"
  },
  "orig_nbformat": 4
 },
 "nbformat": 4,
 "nbformat_minor": 2
}
