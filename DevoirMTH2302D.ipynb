{
 "cells": [
  {
   "attachments": {},
   "cell_type": "markdown",
   "metadata": {},
   "source": [
    "<p style=\"text-align: center; font-size: 400%\">Devoir MTH2302D </p>"
   ]
  },
  {
   "attachments": {},
   "cell_type": "markdown",
   "metadata": {},
   "source": [
    "<p style=\"text-align: center; font-size: 120%\">Julien Roux 2060886  \n",
    "- Sébastien Roy </p>"
   ]
  },
  {
   "attachments": {},
   "cell_type": "markdown",
   "metadata": {},
   "source": [
    "#### Option génerale pour les graphiques"
   ]
  },
  {
   "cell_type": "code",
   "execution_count": 39,
   "metadata": {
    "vscode": {
     "languageId": "r"
    }
   },
   "outputs": [],
   "source": [
    "options(repr.plot.width = 10, repr.plot.height=10, repr.plot.xlab.size=2, repr.plot.ylab.size=2)"
   ]
  },
  {
   "attachments": {},
   "cell_type": "markdown",
   "metadata": {},
   "source": [
    "### Phase 1"
   ]
  },
  {
   "attachments": {},
   "cell_type": "markdown",
   "metadata": {},
   "source": [
    "On charge les données depuis le csv en fonction du matricule."
   ]
  },
  {
   "cell_type": "code",
   "execution_count": 40,
   "metadata": {
    "vscode": {
     "languageId": "r"
    }
   },
   "outputs": [],
   "source": [
    "matricule <- 2060886"
   ]
  },
  {
   "cell_type": "code",
   "execution_count": 41,
   "metadata": {
    "vscode": {
     "languageId": "r"
    }
   },
   "outputs": [],
   "source": [
    "charger <- function(matricule) {\n",
    "  set.seed(matricule)\n",
    "  mondata <- read.csv2(\"DevoirDH23.csv\")[sample(290,195),-1]\n",
    "}"
   ]
  },
  {
   "cell_type": "code",
   "execution_count": 42,
   "metadata": {
    "vscode": {
     "languageId": "r"
    }
   },
   "outputs": [
    {
     "data": {
      "text/html": [
       "<table class=\"dataframe\">\n",
       "<caption>A data.frame: 5 × 4</caption>\n",
       "<thead>\n",
       "\t<tr><th></th><th scope=col>Sales</th><th scope=col>Price</th><th scope=col>Advertising</th><th scope=col>Region</th></tr>\n",
       "\t<tr><th></th><th scope=col>&lt;dbl&gt;</th><th scope=col>&lt;int&gt;</th><th scope=col>&lt;int&gt;</th><th scope=col>&lt;int&gt;</th></tr>\n",
       "</thead>\n",
       "<tbody>\n",
       "\t<tr><th scope=row>25</th><td> 5.58</td><td>148</td><td>10</td><td>1</td></tr>\n",
       "\t<tr><th scope=row>181</th><td>12.61</td><td>104</td><td>10</td><td>0</td></tr>\n",
       "\t<tr><th scope=row>202</th><td> 9.48</td><td>132</td><td>10</td><td>0</td></tr>\n",
       "\t<tr><th scope=row>129</th><td> 5.87</td><td>109</td><td> 0</td><td>1</td></tr>\n",
       "\t<tr><th scope=row>289</th><td> 3.02</td><td> 90</td><td>11</td><td>0</td></tr>\n",
       "</tbody>\n",
       "</table>\n"
      ],
      "text/latex": [
       "A data.frame: 5 × 4\n",
       "\\begin{tabular}{r|llll}\n",
       "  & Sales & Price & Advertising & Region\\\\\n",
       "  & <dbl> & <int> & <int> & <int>\\\\\n",
       "\\hline\n",
       "\t25 &  5.58 & 148 & 10 & 1\\\\\n",
       "\t181 & 12.61 & 104 & 10 & 0\\\\\n",
       "\t202 &  9.48 & 132 & 10 & 0\\\\\n",
       "\t129 &  5.87 & 109 &  0 & 1\\\\\n",
       "\t289 &  3.02 &  90 & 11 & 0\\\\\n",
       "\\end{tabular}\n"
      ],
      "text/markdown": [
       "\n",
       "A data.frame: 5 × 4\n",
       "\n",
       "| <!--/--> | Sales &lt;dbl&gt; | Price &lt;int&gt; | Advertising &lt;int&gt; | Region &lt;int&gt; |\n",
       "|---|---|---|---|---|\n",
       "| 25 |  5.58 | 148 | 10 | 1 |\n",
       "| 181 | 12.61 | 104 | 10 | 0 |\n",
       "| 202 |  9.48 | 132 | 10 | 0 |\n",
       "| 129 |  5.87 | 109 |  0 | 1 |\n",
       "| 289 |  3.02 |  90 | 11 | 0 |\n",
       "\n"
      ],
      "text/plain": [
       "    Sales Price Advertising Region\n",
       "25   5.58 148   10          1     \n",
       "181 12.61 104   10          0     \n",
       "202  9.48 132   10          0     \n",
       "129  5.87 109    0          1     \n",
       "289  3.02  90   11          0     "
      ]
     },
     "metadata": {},
     "output_type": "display_data"
    }
   ],
   "source": [
    "mondata <- charger(matricule)\n",
    "mondata[1:5,]"
   ]
  },
  {
   "attachments": {},
   "cell_type": "markdown",
   "metadata": {},
   "source": [
    "On charge toutes les données depuis le csv."
   ]
  },
  {
   "cell_type": "code",
   "execution_count": 43,
   "metadata": {
    "vscode": {
     "languageId": "r"
    }
   },
   "outputs": [
    {
     "data": {
      "text/html": [
       "<table class=\"dataframe\">\n",
       "<caption>A data.frame: 5 × 5</caption>\n",
       "<thead>\n",
       "\t<tr><th></th><th scope=col>NUM</th><th scope=col>Sales</th><th scope=col>Price</th><th scope=col>Advertising</th><th scope=col>Region</th></tr>\n",
       "\t<tr><th></th><th scope=col>&lt;int&gt;</th><th scope=col>&lt;dbl&gt;</th><th scope=col>&lt;int&gt;</th><th scope=col>&lt;int&gt;</th><th scope=col>&lt;int&gt;</th></tr>\n",
       "</thead>\n",
       "<tbody>\n",
       "\t<tr><th scope=row>1</th><td>142</td><td>5.40</td><td>163</td><td>13</td><td>0</td></tr>\n",
       "\t<tr><th scope=row>2</th><td>104</td><td>7.99</td><td> 99</td><td> 0</td><td>1</td></tr>\n",
       "\t<tr><th scope=row>3</th><td>103</td><td>4.21</td><td>137</td><td>14</td><td>0</td></tr>\n",
       "\t<tr><th scope=row>4</th><td>274</td><td>4.34</td><td>111</td><td> 0</td><td>0</td></tr>\n",
       "\t<tr><th scope=row>5</th><td>286</td><td>6.42</td><td>126</td><td> 5</td><td>1</td></tr>\n",
       "</tbody>\n",
       "</table>\n"
      ],
      "text/latex": [
       "A data.frame: 5 × 5\n",
       "\\begin{tabular}{r|lllll}\n",
       "  & NUM & Sales & Price & Advertising & Region\\\\\n",
       "  & <int> & <dbl> & <int> & <int> & <int>\\\\\n",
       "\\hline\n",
       "\t1 & 142 & 5.40 & 163 & 13 & 0\\\\\n",
       "\t2 & 104 & 7.99 &  99 &  0 & 1\\\\\n",
       "\t3 & 103 & 4.21 & 137 & 14 & 0\\\\\n",
       "\t4 & 274 & 4.34 & 111 &  0 & 0\\\\\n",
       "\t5 & 286 & 6.42 & 126 &  5 & 1\\\\\n",
       "\\end{tabular}\n"
      ],
      "text/markdown": [
       "\n",
       "A data.frame: 5 × 5\n",
       "\n",
       "| <!--/--> | NUM &lt;int&gt; | Sales &lt;dbl&gt; | Price &lt;int&gt; | Advertising &lt;int&gt; | Region &lt;int&gt; |\n",
       "|---|---|---|---|---|---|\n",
       "| 1 | 142 | 5.40 | 163 | 13 | 0 |\n",
       "| 2 | 104 | 7.99 |  99 |  0 | 1 |\n",
       "| 3 | 103 | 4.21 | 137 | 14 | 0 |\n",
       "| 4 | 274 | 4.34 | 111 |  0 | 0 |\n",
       "| 5 | 286 | 6.42 | 126 |  5 | 1 |\n",
       "\n"
      ],
      "text/plain": [
       "  NUM Sales Price Advertising Region\n",
       "1 142 5.40  163   13          0     \n",
       "2 104 7.99   99    0          1     \n",
       "3 103 4.21  137   14          0     \n",
       "4 274 4.34  111    0          0     \n",
       "5 286 6.42  126    5          1     "
      ]
     },
     "metadata": {},
     "output_type": "display_data"
    }
   ],
   "source": [
    "alldata <- read.csv2(\"DevoirDH23.csv\")\n",
    "alldata[1:5,]"
   ]
  },
  {
   "attachments": {},
   "cell_type": "markdown",
   "metadata": {},
   "source": [
    "### a)"
   ]
  },
  {
   "cell_type": "code",
   "execution_count": 44,
   "metadata": {
    "vscode": {
     "languageId": "r"
    }
   },
   "outputs": [],
   "source": [
    "Ventes <- alldata$Sales\n",
    "# Ventes[1:100]"
   ]
  },
  {
   "attachments": {},
   "cell_type": "markdown",
   "metadata": {},
   "source": [
    "#### Histogramme du nombre de ventes de siège automobiles"
   ]
  },
  {
   "cell_type": "code",
   "execution_count": 45,
   "metadata": {
    "vscode": {
     "languageId": "r"
    }
   },
   "outputs": [
    {
     "data": {
      "image/png": "[encoded data removed]",
      "text/plain": [
       "Plot with title \"Histogramme des ventes de sièges automobiles\""
      ]
     },
     "metadata": {
      "image/png": {
       "height": 600,
       "width": 600
      }
     },
     "output_type": "display_data"
    }
   ],
   "source": [
    "hist(Ventes, col=\"#bb2424\",main=\"Histogramme des ventes de sièges automobiles\",\n",
    "     border=\"#000000\", xlab=\"Nombres de ventes\",ylab=\"Effectif de ventes\")"
   ]
  },
  {
   "attachments": {},
   "cell_type": "markdown",
   "metadata": {},
   "source": [
    "Ce graphique montre que la majorité des points de vente ont vendu entre 5 et 10 sièges automobiles.  \n",
    "<br><br>"
   ]
  },
  {
   "attachments": {},
   "cell_type": "markdown",
   "metadata": {},
   "source": [
    "#### Box plot du nombre de ventes de siège automobiles"
   ]
  },
  {
   "cell_type": "code",
   "execution_count": 46,
   "metadata": {
    "vscode": {
     "languageId": "r"
    }
   },
   "outputs": [
    {
     "data": {
      "image/png": "[encoded data removed]",
      "text/plain": [
       "Plot with title \"Diagramme en boîte des ventes de sièges automobiles\""
      ]
     },
     "metadata": {
      "image/png": {
       "height": 600,
       "width": 600
      }
     },
     "output_type": "display_data"
    }
   ],
   "source": [
    "boxplot(Ventes, col=\"#bb2424\",main=\"Diagramme en boîte des ventes de sièges automobiles\",\n",
    "        border=\"#000000\", xlab=\"Nombres de ventes\",ylab=\"Effectif de point de ventes\")"
   ]
  },
  {
   "attachments": {},
   "cell_type": "markdown",
   "metadata": {},
   "source": [
    "Ce graphique montre que la moiter des points de vente ont vendu entre 5 et 10 sièges automobiles et que la médiane est d'environ 7,5.  \n",
    "<br><br>"
   ]
  },
  {
   "attachments": {},
   "cell_type": "markdown",
   "metadata": {},
   "source": [
    "#### Droite de Henry du nombre de ventes de siège automobiles"
   ]
  },
  {
   "cell_type": "code",
   "execution_count": 47,
   "metadata": {
    "vscode": {
     "languageId": "r"
    }
   },
   "outputs": [
    {
     "data": {
      "image/png": "[encoded data removed]",
      "text/plain": [
       "Plot with title \"Normal Q-Q Plot\""
      ]
     },
     "metadata": {
      "image/png": {
       "height": 600,
       "width": 600
      }
     },
     "output_type": "display_data"
    }
   ],
   "source": [
    "qqnorm(Ventes,col=\"blue\", xlab=\"Distribution quantiles loi normale\",ylab=\"Distribution des ventes\")\n",
    "qqline(Ventes,col=\"red\")"
   ]
  },
  {
   "attachments": {},
   "cell_type": "markdown",
   "metadata": {},
   "source": [
    "Les données de ventes semblent suivre une droite de Henry. On peut alors dire que la loi normale est une bonne approximation de la distribution des ventes de sièges automobiles.  \n",
    "<br><br>"
   ]
  },
  {
   "attachments": {},
   "cell_type": "markdown",
   "metadata": {},
   "source": [
    "#### Test de normalité du nombre de ventes de siège automobiles"
   ]
  },
  {
   "attachments": {},
   "cell_type": "markdown",
   "metadata": {},
   "source": [
    "$H_0$: Les données suivent une loi normale  \n",
    "$H_1$: Les données ne suivent pas une loi normale  "
   ]
  },
  {
   "cell_type": "code",
   "execution_count": 48,
   "metadata": {
    "vscode": {
     "languageId": "r"
    }
   },
   "outputs": [
    {
     "data": {
      "text/plain": [
       "\n",
       "\tShapiro-Wilk normality test\n",
       "\n",
       "data:  Ventes\n",
       "W = 0.99571, p-value = 0.6102\n"
      ]
     },
     "metadata": {},
     "output_type": "display_data"
    }
   ],
   "source": [
    "shapiro.test(Ventes)"
   ]
  },
  {
   "attachments": {},
   "cell_type": "markdown",
   "metadata": {},
   "source": [
    "Comme W = 0.99568 n'est pas petit et que p-value = 0.6051 n'est pas petit, on ne rejette pas $H_0$.  \n",
    "Ainsi le test de normalité montre que les données suivent une loi normale.\n",
    "<br>\n",
    "<br>"
   ]
  },
  {
   "attachments": {},
   "cell_type": "markdown",
   "metadata": {},
   "source": [
    "#### Tableau de statistiques descriptives du nombre de ventes de siège automobiles"
   ]
  },
  {
   "attachments": {},
   "cell_type": "markdown",
   "metadata": {},
   "source": [
    "Utilisation d'une librarie de R pour le calcule de l'intervalle de confiance à 95% pour la moyenne."
   ]
  },
  {
   "cell_type": "code",
   "execution_count": 49,
   "metadata": {
    "vscode": {
     "languageId": "r"
    }
   },
   "outputs": [
    {
     "name": "stdout",
     "output_type": "stream",
     "text": [
      "La marge d'erreur est  0.3186124"
     ]
    }
   ],
   "source": [
    "# install.packages(\"devtools\") ; require(devtools)\n",
    "# devtools::install_github(\"Antoine-Masse/KefiR\")\n",
    "library(KefiR)\n",
    "cat('La marge d\\'erreur est ', int.pop(Ventes, 0.95))"
   ]
  },
  {
   "attachments": {},
   "cell_type": "markdown",
   "metadata": {},
   "source": [
    "Caclule de l'intervalle de confiance à 95% pour la moyenne détailé."
   ]
  },
  {
   "cell_type": "code",
   "execution_count": 50,
   "metadata": {
    "vscode": {
     "languageId": "r"
    }
   },
   "outputs": [
    {
     "name": "stdout",
     "output_type": "stream",
     "text": [
      "La moyenne des ventes est : 7.346793\n",
      "La variance des ventes est : 7.663499\n",
      "Taille de la population : n = 290"
     ]
    }
   ],
   "source": [
    "cat('La moyenne des ventes est :', mean(Ventes))\n",
    "cat('\\nLa variance des ventes est :', var(Ventes))\n",
    "cat('\\nTaille de la population : n =', length(Ventes))"
   ]
  },
  {
   "attachments": {},
   "cell_type": "markdown",
   "metadata": {},
   "source": [
    "Calcul intervale de confiance à 95% (1 - $\\alpha$ = 0.95) pour la moyenne de la population.  \n",
    "$\\bar{X}$ = 7.343 et $\\sigma^2$ = 7.71, de plus Ventes ~ N($\\mu$, $\\sigma^2$).  \n",
    "On a donc: $\\frac{\\bar{X} - \\mu}{\\sigma/\\sqrt{n}}$ ~ N(0, 1) soit $\\mu \\in \\bar{X} \\pm z_{\\frac{\\alpha}{2}} \\frac{\\sigma}{\\sqrt{n}}$  \n",
    "<br> \n",
    "Calcul $z_{\\frac{\\alpha}{2}}\\frac{\\sigma}{\\sqrt{n}}$"
   ]
  },
  {
   "cell_type": "code",
   "execution_count": 51,
   "metadata": {
    "vscode": {
     "languageId": "r"
    }
   },
   "outputs": [
    {
     "name": "stdout",
     "output_type": "stream",
     "text": [
      "\n",
      "La marge d'erreur est : 0.3186124"
     ]
    }
   ],
   "source": [
    "z <- qnorm(0.025, 0, 1, lower.tail = FALSE) * sqrt(var(Ventes)/length(Ventes))\n",
    "cat('\\nLa marge d\\'erreur est :', z)\n"
   ]
  },
  {
   "attachments": {},
   "cell_type": "markdown",
   "metadata": {},
   "source": [
    "On à donc: $\\mu \\in \\bar{X} \\pm 0.3195956$ soit $\\mu \\in [7.023404, 7.662596]$ à 95%.    \n",
    "<br>\n",
    "<br>"
   ]
  },
  {
   "attachments": {},
   "cell_type": "markdown",
   "metadata": {},
   "source": [
    "Tableau de statistiques :"
   ]
  },
  {
   "cell_type": "code",
   "execution_count": 52,
   "metadata": {
    "vscode": {
     "languageId": "r"
    }
   },
   "outputs": [
    {
     "data": {
      "text/html": [
       "<table class=\"dataframe\">\n",
       "<caption>A matrix: 1 × 6 of type chr</caption>\n",
       "<thead>\n",
       "\t<tr><th scope=col>1er Quartile</th><th scope=col>Médiane</th><th scope=col>Moyenne</th><th scope=col>Écart type</th><th scope=col>3e Quartile</th><th scope=col>Intervale de confiance</th></tr>\n",
       "</thead>\n",
       "<tbody>\n",
       "\t<tr><td>5.3225</td><td>7.415</td><td>7.34679310344828</td><td>2.76830261510739</td><td>9.025</td><td>[7.023404, 7.662596]</td></tr>\n",
       "</tbody>\n",
       "</table>\n"
      ],
      "text/latex": [
       "A matrix: 1 × 6 of type chr\n",
       "\\begin{tabular}{llllll}\n",
       " 1er Quartile & Médiane & Moyenne & Écart type & 3e Quartile & Intervale de confiance\\\\\n",
       "\\hline\n",
       "\t 5.3225 & 7.415 & 7.34679310344828 & 2.76830261510739 & 9.025 & {[}7.023404, 7.662596{]}\\\\\n",
       "\\end{tabular}\n"
      ],
      "text/markdown": [
       "\n",
       "A matrix: 1 × 6 of type chr\n",
       "\n",
       "| 1er Quartile | Médiane | Moyenne | Écart type | 3e Quartile | Intervale de confiance |\n",
       "|---|---|---|---|---|---|\n",
       "| 5.3225 | 7.415 | 7.34679310344828 | 2.76830261510739 | 9.025 | [7.023404, 7.662596] |\n",
       "\n"
      ],
      "text/plain": [
       "     1er Quartile Médiane Moyenne          Écart type       3e Quartile\n",
       "[1,] 5.3225       7.415   7.34679310344828 2.76830261510739 9.025      \n",
       "     Intervale de confiance\n",
       "[1,] [7.023404, 7.662596]  "
      ]
     },
     "metadata": {},
     "output_type": "display_data"
    }
   ],
   "source": [
    "stat <- matrix(c(\n",
    "    summary(Ventes)[['1st Qu.']],\n",
    "    summary(Ventes)[['Median']],\n",
    "    summary(Ventes)[['Mean']],\n",
    "    sqrt(var(Ventes)),\n",
    "    summary(Ventes)[['3rd Qu.']],\n",
    "    paste(\"[\", 7.023404, \", \",  7.662596, \"]\", sep = \"\")),\n",
    "    ncol=6,\n",
    "    nrow=1,\n",
    "    byrow=TRUE)\n",
    "\n",
    "colnames(stat) <- c('1er Quartile','Médiane','Moyenne','Écart type', '3e Quartile', 'Intervale de confiance')\n",
    "stat"
   ]
  },
  {
   "attachments": {},
   "cell_type": "markdown",
   "metadata": {},
   "source": [
    "### b)"
   ]
  },
  {
   "attachments": {},
   "cell_type": "markdown",
   "metadata": {},
   "source": [
    "#### On extrait les données de ventes de sièges automobiles pour chaque région"
   ]
  },
  {
   "cell_type": "code",
   "execution_count": 53,
   "metadata": {
    "vscode": {
     "languageId": "r"
    }
   },
   "outputs": [
    {
     "data": {
      "text/html": [
       "<style>\n",
       ".list-inline {list-style: none; margin:0; padding: 0}\n",
       ".list-inline>li {display: inline-block}\n",
       ".list-inline>li:not(:last-child)::after {content: \"\\00b7\"; padding: 0 .5ex}\n",
       "</style>\n",
       "<ol class=list-inline><li>5.4</li><li>4.21</li><li>4.34</li><li>5.61</li><li>8.89</li></ol>\n"
      ],
      "text/latex": [
       "\\begin{enumerate*}\n",
       "\\item 5.4\n",
       "\\item 4.21\n",
       "\\item 4.34\n",
       "\\item 5.61\n",
       "\\item 8.89\n",
       "\\end{enumerate*}\n"
      ],
      "text/markdown": [
       "1. 5.4\n",
       "2. 4.21\n",
       "3. 4.34\n",
       "4. 5.61\n",
       "5. 8.89\n",
       "\n",
       "\n"
      ],
      "text/plain": [
       "[1] 5.40 4.21 4.34 5.61 8.89"
      ]
     },
     "metadata": {},
     "output_type": "display_data"
    },
    {
     "data": {
      "text/html": [
       "<style>\n",
       ".list-inline {list-style: none; margin:0; padding: 0}\n",
       ".list-inline>li {display: inline-block}\n",
       ".list-inline>li:not(:last-child)::after {content: \"\\00b7\"; padding: 0 .5ex}\n",
       "</style>\n",
       "<ol class=list-inline><li>7.99</li><li>6.42</li><li>3.47</li><li>4.97</li><li>6.68</li></ol>\n"
      ],
      "text/latex": [
       "\\begin{enumerate*}\n",
       "\\item 7.99\n",
       "\\item 6.42\n",
       "\\item 3.47\n",
       "\\item 4.97\n",
       "\\item 6.68\n",
       "\\end{enumerate*}\n"
      ],
      "text/markdown": [
       "1. 7.99\n",
       "2. 6.42\n",
       "3. 3.47\n",
       "4. 4.97\n",
       "5. 6.68\n",
       "\n",
       "\n"
      ],
      "text/plain": [
       "[1] 7.99 6.42 3.47 4.97 6.68"
      ]
     },
     "metadata": {},
     "output_type": "display_data"
    }
   ],
   "source": [
    "ventesRegion1 <- alldata[alldata$Region == 0,]$Sales\n",
    "ventesRegion2 <- alldata[alldata$Region == 1,]$Sales\n",
    "ventesRegion1[1:5]\n",
    "ventesRegion2[1:5]"
   ]
  },
  {
   "attachments": {},
   "cell_type": "markdown",
   "metadata": {},
   "source": [
    "#### On crée un nouveau dataframe avec les données de ventes de sièges automobiles avec une colonne pour différencier les régions."
   ]
  },
  {
   "cell_type": "code",
   "execution_count": 54,
   "metadata": {
    "vscode": {
     "languageId": "r"
    }
   },
   "outputs": [
    {
     "data": {
      "text/html": [
       "<table class=\"dataframe\">\n",
       "<caption>A data.frame: 5 × 2</caption>\n",
       "<thead>\n",
       "\t<tr><th></th><th scope=col>Region</th><th scope=col>Ventes</th></tr>\n",
       "\t<tr><th></th><th scope=col>&lt;chr&gt;</th><th scope=col>&lt;dbl&gt;</th></tr>\n",
       "</thead>\n",
       "<tbody>\n",
       "\t<tr><th scope=row>1</th><td>Region 1</td><td>5.40</td></tr>\n",
       "\t<tr><th scope=row>2</th><td>Region 1</td><td>4.21</td></tr>\n",
       "\t<tr><th scope=row>3</th><td>Region 1</td><td>4.34</td></tr>\n",
       "\t<tr><th scope=row>4</th><td>Region 1</td><td>5.61</td></tr>\n",
       "\t<tr><th scope=row>5</th><td>Region 1</td><td>8.89</td></tr>\n",
       "</tbody>\n",
       "</table>\n"
      ],
      "text/latex": [
       "A data.frame: 5 × 2\n",
       "\\begin{tabular}{r|ll}\n",
       "  & Region & Ventes\\\\\n",
       "  & <chr> & <dbl>\\\\\n",
       "\\hline\n",
       "\t1 & Region 1 & 5.40\\\\\n",
       "\t2 & Region 1 & 4.21\\\\\n",
       "\t3 & Region 1 & 4.34\\\\\n",
       "\t4 & Region 1 & 5.61\\\\\n",
       "\t5 & Region 1 & 8.89\\\\\n",
       "\\end{tabular}\n"
      ],
      "text/markdown": [
       "\n",
       "A data.frame: 5 × 2\n",
       "\n",
       "| <!--/--> | Region &lt;chr&gt; | Ventes &lt;dbl&gt; |\n",
       "|---|---|---|\n",
       "| 1 | Region 1 | 5.40 |\n",
       "| 2 | Region 1 | 4.21 |\n",
       "| 3 | Region 1 | 4.34 |\n",
       "| 4 | Region 1 | 5.61 |\n",
       "| 5 | Region 1 | 8.89 |\n",
       "\n"
      ],
      "text/plain": [
       "  Region   Ventes\n",
       "1 Region 1 5.40  \n",
       "2 Region 1 4.21  \n",
       "3 Region 1 4.34  \n",
       "4 Region 1 5.61  \n",
       "5 Region 1 8.89  "
      ]
     },
     "metadata": {},
     "output_type": "display_data"
    }
   ],
   "source": [
    "combineSales <- rbind(\n",
    "    data.frame(\n",
    "        Region = \"Region 1\",\n",
    "        Ventes = ventesRegion1\n",
    "    ),\n",
    "    data.frame(\n",
    "        Region = \"Region 2\",\n",
    "        Ventes = ventesRegion2\n",
    "    )\n",
    ")\n",
    "combineSales[1:5,]"
   ]
  },
  {
   "attachments": {},
   "cell_type": "markdown",
   "metadata": {},
   "source": [
    "#### Histogramme du nombre de ventes de siège automobiles par point de vente en fonction de la région"
   ]
  },
  {
   "cell_type": "code",
   "execution_count": 55,
   "metadata": {
    "vscode": {
     "languageId": "r"
    }
   },
   "outputs": [
    {
     "data": {
      "image/png": "[encoded data removed]",
      "text/plain": [
       "plot without title"
      ]
     },
     "metadata": {
      "image/png": {
       "height": 600,
       "width": 600
      }
     },
     "output_type": "display_data"
    }
   ],
   "source": [
    "library(ggplot2)\n",
    "\n",
    "# options(repr.plot.width=7, repr.plot.height=7, repr.plot.xlab.size=2, repr.plot.ylab.size=2)\n",
    "\n",
    "hist <- ggplot(combineSales, aes(x=Ventes, fill=Region, color=Region)) +\n",
    "  geom_histogram(bins = 30, alpha=0.5, position=\"identity\") +\n",
    "  labs(title=\"Ventes par point de vente en fonction de la région\",x=\"Nombre de ventes\", y = \"Éffectif\")\n",
    "\n",
    "moy <- data.frame(\n",
    "    grp.mean = c(mean(ventesRegion1), mean(ventesRegion2)),\n",
    "    Region = c(\"Region 1\", \"Region 2\")\n",
    ")\n",
    "hist+geom_vline(data=moy, aes(xintercept=grp.mean, color=Region),\n",
    "             linetype=\"dashed\")"
   ]
  },
  {
   "attachments": {},
   "cell_type": "markdown",
   "metadata": {},
   "source": [
    "#### Box plot du nombre de ventes de siège automobiles en fonction de la région"
   ]
  },
  {
   "cell_type": "code",
   "execution_count": 56,
   "metadata": {
    "vscode": {
     "languageId": "r"
    }
   },
   "outputs": [
    {
     "data": {
      "image/png": "[encoded data removed]",
      "text/plain": [
       "plot without title"
      ]
     },
     "metadata": {
      "image/png": {
       "height": 600,
       "width": 600
      }
     },
     "output_type": "display_data"
    }
   ],
   "source": [
    "ggplot(combineSales, aes(x=Region, y=Ventes)) +\n",
    "    geom_boxplot(aes(fill=Region), color=\"black\") +\n",
    "    theme_minimal() +\n",
    "    labs(title=\"Diagramme en boîte des ventes de sièges automobiles par région\",\n",
    "         x=\"Région\", y=\"Effectif de point de ventes\")"
   ]
  },
  {
   "attachments": {},
   "cell_type": "markdown",
   "metadata": {},
   "source": [
    "#### Tableau de statistiques descriptives du nombre de ventes pas point de vente en fonction de la région"
   ]
  },
  {
   "cell_type": "code",
   "execution_count": 63,
   "metadata": {
    "vscode": {
     "languageId": "r"
    }
   },
   "outputs": [
    {
     "data": {
      "text/html": [
       "<table class=\"dataframe\">\n",
       "<caption>A matrix: 2 × 7 of type chr</caption>\n",
       "<thead>\n",
       "\t<tr><th scope=col>Région</th><th scope=col>1er Quartile</th><th scope=col>Médiane</th><th scope=col>Moyenne</th><th scope=col>Écart type</th><th scope=col>3e Quartile</th><th scope=col>Intervale de confiance</th></tr>\n",
       "</thead>\n",
       "<tbody>\n",
       "\t<tr><td>0</td><td>5.44  </td><td>7.67 </td><td>7.57203389830508</td><td>2.78423355910771</td><td>9.335 </td><td>[7.07, 8.074] </td></tr>\n",
       "\t<tr><td>1</td><td>5.0775</td><td>7.265</td><td>7.19226744186046</td><td>7.58876500407997</td><td>8.8525</td><td>[6.781, 7.604]</td></tr>\n",
       "</tbody>\n",
       "</table>\n"
      ],
      "text/latex": [
       "A matrix: 2 × 7 of type chr\n",
       "\\begin{tabular}{lllllll}\n",
       " Région & 1er Quartile & Médiane & Moyenne & Écart type & 3e Quartile & Intervale de confiance\\\\\n",
       "\\hline\n",
       "\t 0 & 5.44   & 7.67  & 7.57203389830508 & 2.78423355910771 & 9.335  & {[}7.07, 8.074{]} \\\\\n",
       "\t 1 & 5.0775 & 7.265 & 7.19226744186046 & 7.58876500407997 & 8.8525 & {[}6.781, 7.604{]}\\\\\n",
       "\\end{tabular}\n"
      ],
      "text/markdown": [
       "\n",
       "A matrix: 2 × 7 of type chr\n",
       "\n",
       "| Région | 1er Quartile | Médiane | Moyenne | Écart type | 3e Quartile | Intervale de confiance |\n",
       "|---|---|---|---|---|---|---|\n",
       "| 0 | 5.44   | 7.67  | 7.57203389830508 | 2.78423355910771 | 9.335  | [7.07, 8.074]  |\n",
       "| 1 | 5.0775 | 7.265 | 7.19226744186046 | 7.58876500407997 | 8.8525 | [6.781, 7.604] |\n",
       "\n"
      ],
      "text/plain": [
       "     Région 1er Quartile Médiane Moyenne          Écart type       3e Quartile\n",
       "[1,] 0      5.44         7.67    7.57203389830508 2.78423355910771 9.335      \n",
       "[2,] 1      5.0775       7.265   7.19226744186046 7.58876500407997 8.8525     \n",
       "     Intervale de confiance\n",
       "[1,] [7.07, 8.074]         \n",
       "[2,] [6.781, 7.604]        "
      ]
     },
     "metadata": {},
     "output_type": "display_data"
    }
   ],
   "source": [
    "statRegion <- matrix(c(\n",
    "    0,\n",
    "    summary(ventesRegion1)[['1st Qu.']],\n",
    "    summary(ventesRegion1)[['Median']],\n",
    "    summary(ventesRegion1)[['Mean']],\n",
    "    sqrt(var(ventesRegion1)),\n",
    "    summary(ventesRegion1)[['3rd Qu.']],\n",
    "    paste(\"[\", round(summary(ventesRegion1)[['Mean']] - int.pop(ventesRegion1, 0.95), 3), \", \",  round(summary(ventesRegion1)[['Mean']] + int.pop(ventesRegion1, 0.95), 3), \"]\", sep = \"\"),\n",
    "    \n",
    "    1,\n",
    "    summary(ventesRegion2)[['1st Qu.']],\n",
    "    summary(ventesRegion2)[['Median']],\n",
    "    summary(ventesRegion2)[['Mean']],\n",
    "    sqrt(var(ventesRegion2)),\n",
    "    summary(ventesRegion2)[['3rd Qu.']],\n",
    "    paste(\"[\", round(summary(ventesRegion2)[['Mean']] - int.pop(ventesRegion2, 0.95), 3), \", \",  round(summary(ventesRegion2)[['Mean']] + int.pop(ventesRegion2, 0.95), 3), \"]\", sep = \"\")),\n",
    "    ncol=7,\n",
    "    nrow=2,\n",
    "    byrow=TRUE)\n",
    "\n",
    "colnames(statRegion) <- c('Région','1er Quartile','Médiane','Moyenne','Écart type', '3e Quartile', 'Intervale de confiance')\n",
    "\n",
    "statRegion"
   ]
  },
  {
   "attachments": {},
   "cell_type": "markdown",
   "metadata": {},
   "source": [
    "# TODO : INTERPRÉTATION"
   ]
  },
  {
   "attachments": {},
   "cell_type": "markdown",
   "metadata": {},
   "source": [
    "### Test d'hypotheses sur la variance des deux régions"
   ]
  },
  {
   "attachments": {},
   "cell_type": "markdown",
   "metadata": {},
   "source": [
    "$H_0$ : $\\sigma_1^2 = \\sigma_2^2$  \n",
    "$H_1$ : $\\sigma_1^2 \\neq \\sigma_2^2$"
   ]
  },
  {
   "cell_type": "code",
   "execution_count": 79,
   "metadata": {
    "vscode": {
     "languageId": "r"
    }
   },
   "outputs": [
    {
     "data": {
      "text/plain": [
       "\n",
       "\tF test to compare two variances\n",
       "\n",
       "data:  Ventes by Region\n",
       "F = 1.0215, num df = 117, denom df = 171, p-value = 0.8919\n",
       "alternative hypothesis: true ratio of variances is not equal to 1\n",
       "95 percent confidence interval:\n",
       " 0.7353614 1.4340909\n",
       "sample estimates:\n",
       "ratio of variances \n",
       "          1.021504 \n"
      ]
     },
     "metadata": {},
     "output_type": "display_data"
    },
    {
     "name": "stdout",
     "output_type": "stream",
     "text": [
      "La p-value est : 0.891923"
     ]
    }
   ],
   "source": [
    "varTest <- var.test(Ventes ~ Region , data=alldata, alternative = \"two.sided\", paired = FALSE)\n",
    "varTest\n",
    "cat('La p-value est :', varTest$p.value)"
   ]
  },
  {
   "attachments": {},
   "cell_type": "markdown",
   "metadata": {},
   "source": [
    "Comme p-value = 0.891923 > $\\alpha = 0.05$, on ne rejette pas $H_0$ donc le test sur les variances montre que les deux régions ont des variances que ne diffèrent pas significativement au seuil $\\alpha$ = 5%.\t"
   ]
  },
  {
   "attachments": {},
   "cell_type": "markdown",
   "metadata": {},
   "source": [
    "#### Démarche détaillée : "
   ]
  },
  {
   "cell_type": "code",
   "execution_count": 66,
   "metadata": {
    "vscode": {
     "languageId": "r"
    }
   },
   "outputs": [],
   "source": [
    "varRegion1 = var(ventesRegion1)\n",
    "varRegion2 = var(ventesRegion2)\n",
    "n1 = length(ventesRegion1)\n",
    "n2 = length(ventesRegion2)"
   ]
  },
  {
   "attachments": {},
   "cell_type": "markdown",
   "metadata": {},
   "source": [
    "$H_0$ : $\\sigma_1^2 = \\sigma_2^2$  \n",
    "$H_1$ : $\\sigma_1^2 \\neq \\sigma_2^2$  \n",
    "$f_0$ : $\\frac{s_1^2}{s_2^2}$\n",
    "\n",
    "On rejete $H_0$ si $F_{1-\\frac{\\alpha}{2}},n_1 - 1, n_2 - 1 > f_0$  ou $F_{\\frac{\\alpha}{2}},n_1 - 1, n_2 - 1 < f_0$"
   ]
  },
  {
   "cell_type": "code",
   "execution_count": 72,
   "metadata": {
    "vscode": {
     "languageId": "r"
    }
   },
   "outputs": [
    {
     "data": {
      "text/html": [
       "1.02150435643927"
      ],
      "text/latex": [
       "1.02150435643927"
      ],
      "text/markdown": [
       "1.02150435643927"
      ],
      "text/plain": [
       "[1] 1.021504"
      ]
     },
     "metadata": {},
     "output_type": "display_data"
    }
   ],
   "source": [
    "f0 = varRegion1/varRegion2\n",
    "f0"
   ]
  },
  {
   "attachments": {},
   "cell_type": "markdown",
   "metadata": {},
   "source": [
    " $F_{1-\\frac{\\alpha}{2}},n_1 - 1, n_2 - 1$ = 0.71 < $f_0$ = 1.021, On ne peut conclure pour l'insant."
   ]
  },
  {
   "cell_type": "code",
   "execution_count": 69,
   "metadata": {
    "vscode": {
     "languageId": "r"
    }
   },
   "outputs": [
    {
     "data": {
      "text/html": [
       "0.71230096664762"
      ],
      "text/latex": [
       "0.71230096664762"
      ],
      "text/markdown": [
       "0.71230096664762"
      ],
      "text/plain": [
       "[1] 0.712301"
      ]
     },
     "metadata": {},
     "output_type": "display_data"
    }
   ],
   "source": [
    "Fg = qf(1 - 0.025, n1 - 1, n2 - 1, lower.tail = FALSE)\n",
    "Fg"
   ]
  },
  {
   "attachments": {},
   "cell_type": "markdown",
   "metadata": {},
   "source": [
    "$F_{\\frac{\\alpha}{2}},n_1 - 1, n_2 - 1 $  = 1.389 > $f_0$ = 1.021, Les critères de rejet ne sont pas respectés donc $H_0$ est accepté."
   ]
  },
  {
   "cell_type": "code",
   "execution_count": 71,
   "metadata": {
    "vscode": {
     "languageId": "r"
    }
   },
   "outputs": [
    {
     "data": {
      "text/html": [
       "1.38911879307455"
      ],
      "text/latex": [
       "1.38911879307455"
      ],
      "text/markdown": [
       "1.38911879307455"
      ],
      "text/plain": [
       "[1] 1.389119"
      ]
     },
     "metadata": {},
     "output_type": "display_data"
    }
   ],
   "source": [
    "Fd = qf(0.025, n1 - 1, n2 - 1, lower.tail = FALSE)\n",
    "Fd"
   ]
  },
  {
   "attachments": {},
   "cell_type": "markdown",
   "metadata": {},
   "source": [
    "### Test d'hypotheses sur l'égalité des moyennes des deux régions"
   ]
  },
  {
   "attachments": {},
   "cell_type": "markdown",
   "metadata": {},
   "source": [
    "$H_0$ : $\\mu_1 = \\mu_2$  \n",
    "$H_1$ : $\\mu_1 \\neq \\mu_2$"
   ]
  },
  {
   "cell_type": "code",
   "execution_count": 87,
   "metadata": {
    "vscode": {
     "languageId": "r"
    }
   },
   "outputs": [
    {
     "data": {
      "text/plain": [
       "\n",
       "\tWelch Two Sample t-test\n",
       "\n",
       "data:  Ventes by Region\n",
       "t = 1.146, df = 249.83, p-value = 0.2529\n",
       "alternative hypothesis: true difference in means between group 0 and group 1 is not equal to 0\n",
       "95 percent confidence interval:\n",
       " -0.2728957  1.0324287\n",
       "sample estimates:\n",
       "mean in group 0 mean in group 1 \n",
       "       7.572034        7.192267 \n"
      ]
     },
     "metadata": {},
     "output_type": "display_data"
    }
   ],
   "source": [
    "moyTest <- t.test(Ventes ~ Region , data=alldata, alternative = \"two.sided\", paired = FALSE)\n",
    "moyTest"
   ]
  },
  {
   "attachments": {},
   "cell_type": "markdown",
   "metadata": {},
   "source": [
    "Comme p-value = 0.2529 > $\\alpha = 0.05$, on ne rejette pas $H_0$ donc le test sur les moyennes montre que les deux régions ont des moyennes que ne diffèrent pas significativement au seuil $\\alpha$ = 5%.\t\n",
    "<br>\n",
    "<br>\n",
    "<br>\n"
   ]
  },
  {
   "attachments": {},
   "cell_type": "markdown",
   "metadata": {},
   "source": [
    "## Phase 2 : Recherche du meilleur modèle"
   ]
  },
  {
   "attachments": {},
   "cell_type": "markdown",
   "metadata": {},
   "source": [
    "### c)"
   ]
  }
 ],
 "metadata": {
  "kernelspec": {
   "display_name": "R",
   "language": "R",
   "name": "ir"
  },
  "language_info": {
   "codemirror_mode": "r",
   "file_extension": ".r",
   "mimetype": "text/x-r-source",
   "name": "R",
   "pygments_lexer": "r",
   "version": "4.2.2"
  },
  "orig_nbformat": 4
 },
 "nbformat": 4,
 "nbformat_minor": 2
}
